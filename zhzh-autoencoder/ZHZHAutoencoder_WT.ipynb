{
 "cells": [
  {
   "cell_type": "code",
   "execution_count": 1,
   "id": "53499a4c",
   "metadata": {},
   "outputs": [],
   "source": [
    "import torch\n",
    "from torch import nn, optim, tensor\n",
    "from torch.utils.data import DataLoader, Dataset\n",
    "import torchtext\n",
    "from torchtext.data.utils import get_tokenizer\n",
    "from torchtext.vocab import build_vocab_from_iterator, Vectors\n",
    "import pandas as pd\n",
    "import time\n",
    "import numpy as np\n",
    "import torch.nn.functional as TF\n",
    "import matplotlib.pyplot as plt\n",
    "import copy"
   ]
  },
  {
   "cell_type": "code",
   "execution_count": 2,
   "id": "27c1bc4b",
   "metadata": {},
   "outputs": [],
   "source": [
    "# Load pretrained model from Tencent\n",
    "from gensim.models import KeyedVectors\n",
    "\n",
    "#100-dim file\n",
    "wv_from_text = KeyedVectors.load_word2vec_format(\"tencent-ailab-embedding-zh-d100-v0.2.0-s.txt\", binary=False)"
   ]
  },
  {
   "cell_type": "code",
   "execution_count": 4,
   "id": "1b0cd850",
   "metadata": {
    "scrolled": true
   },
   "outputs": [
    {
     "name": "stdout",
     "output_type": "stream",
     "text": [
      "The first 10 words in the vocabulary are: ['</s>', '，', ',', '的', '。', '、', '了', '：', '“', '”']\n",
      "The index for the Chinese word '的' is: 3\n",
      "('王后', 0.8768935799598694) queen = (king国王 - man男人) + woman女人\n"
     ]
    }
   ],
   "source": [
    "# Define inputs for the model\n",
    "\n",
    "# vocab contains all the Chinese words in the dataset\n",
    "vocab         = wv_from_text.index_to_key\n",
    "vocab_size    = len(vocab)\n",
    "print(\"The first 10 words in the vocabulary are:\", vocab[:10])\n",
    "\n",
    "# word_to_index is the map between Chinese words and its indeces {'的'：3}\n",
    "word_to_index = wv_from_text.key_to_index\n",
    "print(\"The index for the Chinese word '的' is:\", word_to_index['的'])\n",
    "\n",
    "# The classic example works for this pretrained model\n",
    "classic = wv_from_text.most_similar(positive=['女人', '国王'], negative=['男人'], topn=1)\n",
    "print(classic[0], \"queen = (king国王 - man男人) + woman女人\")"
   ]
  },
  {
   "cell_type": "code",
   "execution_count": 5,
   "id": "a3392ee9",
   "metadata": {},
   "outputs": [],
   "source": [
    "# Define dataset to load to dataloader\n",
    "class TrainData(Dataset):\n",
    "    \n",
    "    def __init__(self, trained_data):\n",
    "        \"\"\"Loads the data from the pretrained model\"\"\"\n",
    "        self.data = trained_data\n",
    "\n",
    "    def __getitem__(self, idx):\n",
    "        \"\"\"Returns the datapoint at a given index\"\"\"\n",
    "        return self.data[idx]\n",
    "    \n",
    "    def __len__(self):\n",
    "        \"\"\"Returns the number of datapoints in the dataset\"\"\"\n",
    "        return len(self.data)"
   ]
  },
  {
   "cell_type": "code",
   "execution_count": 6,
   "id": "c36aebcb",
   "metadata": {},
   "outputs": [],
   "source": [
    "# Define collate_batch for batch of training samples\n",
    "\n",
    "def wordToindex(word):\n",
    "    \"\"\"Get the corresponding index for the Chinese word\"\"\"\n",
    "    return word_to_index[word]\n",
    "\n",
    "def collate_batch(batch):\n",
    "    \"\"\"Converts a batch of data into packed PyTorch tensor format, \n",
    "    and collates the results by index, word, and one-hot vector \n",
    "    for use in an Autoencoder.\n",
    "    \"\"\"\n",
    "    # Initialize lists that separate out the 3 components\n",
    "    index_list      = list()\n",
    "    word_list       = list()\n",
    "    \n",
    "    for word in batch:\n",
    "        # Convert to PyTorch format\n",
    "        index   = wordToindex(word)\n",
    "        \n",
    "        # Add converted data to separate component lists\n",
    "        index_list.append(index)\n",
    "        word_list.append(word)\n",
    "    \n",
    "    # Convert to mini-batch tensors\n",
    "    index_tensor = torch.tensor(index_list, dtype=torch.int64)\n",
    "    \n",
    "    return (word_list, index_tensor)"
   ]
  },
  {
   "cell_type": "code",
   "execution_count": 7,
   "id": "b4164e49",
   "metadata": {},
   "outputs": [],
   "source": [
    "import time\n",
    "import math\n",
    "# To keep track of training time\n",
    "def timeSince(since):\n",
    "    now = time.time()\n",
    "    s = now - since\n",
    "    m = math.floor(s / 60)\n",
    "    s -= m * 60\n",
    "    return '%dm %ds' % (m, s)"
   ]
  },
  {
   "cell_type": "code",
   "execution_count": 8,
   "id": "9a71c47f",
   "metadata": {},
   "outputs": [
    {
     "data": {
      "text/plain": [
       "Text(0.5, 1.0, 'Cosine Scheduler')"
      ]
     },
     "execution_count": 8,
     "metadata": {},
     "output_type": "execute_result"
    },
    {
     "data": {
      "image/png": "[encoded data removed]",
      "text/plain": [
       "<Figure size 640x480 with 1 Axes>"
      ]
     },
     "metadata": {},
     "output_type": "display_data"
    }
   ],
   "source": [
    "# Used for weight decay\n",
    "# Credit: https://d2l.ai/chapter_optimization/lr-scheduler.html\n",
    "class CosineScheduler:\n",
    "    def __init__(self, max_update, base_lr=0.01, final_lr=0,\n",
    "               warmup_steps=0, warmup_begin_lr=0):\n",
    "        self.base_lr_orig = base_lr\n",
    "        self.max_update = max_update\n",
    "        self.final_lr = final_lr\n",
    "        self.warmup_steps = warmup_steps\n",
    "        self.warmup_begin_lr = warmup_begin_lr\n",
    "        self.max_steps = self.max_update - self.warmup_steps\n",
    "\n",
    "    def get_warmup_lr(self, epoch):\n",
    "        increase = (self.base_lr_orig - self.warmup_begin_lr) \\\n",
    "                       * float(epoch) / float(self.warmup_steps)\n",
    "        return self.warmup_begin_lr + increase\n",
    "\n",
    "    def __call__(self, epoch):\n",
    "        if epoch < self.warmup_steps:\n",
    "            return self.get_warmup_lr(epoch)\n",
    "        if epoch <= self.max_update:\n",
    "            self.base_lr = self.final_lr + (\n",
    "                self.base_lr_orig - self.final_lr) * (1 + math.cos(\n",
    "                math.pi * (epoch - self.warmup_steps) / self.max_steps)) / 2\n",
    "        return self.base_lr\n",
    "\n",
    "scheduler = CosineScheduler(max_update=40, base_lr=0.3, final_lr=0.001)\n",
    "num_epochs = 40\n",
    "sch = [scheduler(t) for t in range(num_epochs)]\n",
    "xtrain = np.arange(num_epochs)\n",
    "plt.plot(xtrain, sch)\n",
    "plt.xlabel(\"Epochs\")\n",
    "plt.ylabel(\"Learning Rate\")\n",
    "plt.title(\"Cosine Scheduler\")\n"
   ]
  },
  {
   "cell_type": "markdown",
   "id": "128a2029",
   "metadata": {},
   "source": [
    "## Tying Weight Autoencoder"
   ]
  },
  {
   "cell_type": "code",
   "execution_count": 9,
   "id": "951281f8",
   "metadata": {},
   "outputs": [],
   "source": [
    "class ZhZhAutoencoderTW(nn.Module):\n",
    "    \"\"\"\n",
    "    Autoencoder to learn the weights connecting Chinese \n",
    "    embeddings back to one-hot vectors. Initialize the \n",
    "    weights connecting the embeddings and one-hot vectors \n",
    "    with the transpose of the weights from the Tecent \n",
    "    pretrained model, connecting the one-hot vector and\n",
    "    embedding, to speed up training.\n",
    "    \"\"\"\n",
    "    def __init__(self, pretrained, vocab):\n",
    "        super(ZhZhAutoencoderTW, self).__init__()\n",
    "        \n",
    "        # Save the pretrained embedding within the model\n",
    "        # load pretrained embeddings and freeze them\n",
    "        self.weights    = torch.FloatTensor(pretrained.vectors) \n",
    "        self.encoder    = nn.Embedding.from_pretrained(self.weights, freeze = True)\n",
    "        \n",
    "        # Make a copy of the pretrained weights and use them in the following layers\n",
    "        copy_pretrained = copy.deepcopy(pretrained)\n",
    "        self.copyweight = torch.FloatTensor(copy_pretrained.vectors) \n",
    "        self.decoder    = nn.Parameter(self.copyweight.t()) \n",
    "        self.vocab      = vocab\n",
    "\n",
    "    def forward(self, text):\n",
    "        \"\"\"The pipeline that takes input values through the network\"\"\"\n",
    "        # Find the embeddings for text\n",
    "        trained_embed = self.encoder(text)\n",
    "        \n",
    "        # Turn embedding back to one-hot\n",
    "        one_hot       = trained_embed @ self.decoder \n",
    "        \n",
    "        return one_hot"
   ]
  },
  {
   "cell_type": "code",
   "execution_count": 10,
   "id": "a17d0e4b",
   "metadata": {},
   "outputs": [
    {
     "name": "stdout",
     "output_type": "stream",
     "text": [
      "Using cuda device\n"
     ]
    }
   ],
   "source": [
    "# Check if GPU is available\n",
    "device = 'cuda' if torch.cuda.is_available() else 'cpu'\n",
    "print('Using {} device'.format(device))\n",
    "\n",
    "# Instantiate the model\n",
    "model1 = ZhZhAutoencoderTW(wv_from_text, vocab).to(device)\n",
    "criterion = nn.CrossEntropyLoss()\n",
    "optimizer1 = torch.optim.Adam(model1.parameters(), lr=0.3)"
   ]
  },
  {
   "cell_type": "code",
   "execution_count": 11,
   "id": "09632280",
   "metadata": {},
   "outputs": [],
   "source": [
    "# Define mini-batch\n",
    "# bacth size = powers of 2\n",
    "batch_size = 256\n",
    "train_data = TrainData(vocab) \n",
    "train_loader = torch.utils.data.DataLoader(dataset=train_data, \n",
    "                                           batch_size=batch_size, \n",
    "                                           shuffle=True, \n",
    "                                           collate_fn=collate_batch)"
   ]
  },
  {
   "cell_type": "code",
   "execution_count": null,
   "id": "96120499",
   "metadata": {
    "scrolled": true
   },
   "outputs": [],
   "source": [
    "# Training\n",
    "num_epochs = 40\n",
    "avg_loss = []\n",
    "losses = 0\n",
    "start = time.time()\n",
    "print(\"Start Batch Size =\", batch_size, file=open('wt.txt', 'a'))\n",
    "for epoch in range(num_epochs):\n",
    "    losses = 0\n",
    "    for i, (word, index) in enumerate(train_loader):\n",
    "        # Clear gradients w.r.t. parameters\n",
    "        optimizer1.zero_grad()\n",
    "        \n",
    "        index = index.to(device) \n",
    "        \n",
    "        # Forward pass to get output/logits\n",
    "        outputs_train = model1(index)\n",
    "        \n",
    "        # Calculate Loss: softmax --> cross entropy loss\n",
    "        loss = criterion(outputs_train, index)\n",
    "        losses += loss.item()\n",
    "        \n",
    "        # Getting gradients w.r.t. parameters\n",
    "        loss.backward()\n",
    "\n",
    "        # Updating parameters\n",
    "        optimizer1.step()\n",
    "    avg = losses / vocab_size\n",
    "    avg_loss.append(avg)\n",
    "    \n",
    "    for param_group in optimizer1.param_groups:\n",
    "        param_group['lr'] = scheduler(epoch)\n",
    "        print(\"Learning rate is now\", param_group['lr'], file=open('wt.txt', 'a'))\n",
    "    \n",
    "    print('%s (%d %d%%) %.15f' % (timeSince(start), epoch, epoch / num_epochs * 100, avg), file=open('wt.txt', 'a'))\n",
    "    torch.save(model1.state_dict(), '/mldata/jingyi_wu/ling111_project_wt.pt')\n",
    "            \n",
    "print(\"Finish training!\", file=open('wt.txt', 'a'))"
   ]
  },
  {
   "cell_type": "code",
   "execution_count": 13,
   "id": "f2c4c5bc",
   "metadata": {
    "scrolled": false
   },
   "outputs": [
    {
     "data": {
      "text/plain": [
       "<matplotlib.legend.Legend at 0x7f2c722cc490>"
      ]
     },
     "execution_count": 13,
     "metadata": {},
     "output_type": "execute_result"
    },
    {
     "data": {
      "image/png": "[encoded data removed]",
      "text/plain": [
       "<Figure size 640x480 with 1 Axes>"
      ]
     },
     "metadata": {},
     "output_type": "display_data"
    }
   ],
   "source": [
    "xtrain = np.arange(40)\n",
    "plt.plot(xtrain, avg_loss, label = \"Training Loss\")\n",
    "plt.xlabel(\"Epochs\")\n",
    "plt.title(\"ZH-ZH Autoencoder\")\n",
    "plt.legend()"
   ]
  },
  {
   "cell_type": "code",
   "execution_count": 14,
   "id": "b91f28a0",
   "metadata": {},
   "outputs": [],
   "source": [
    "# save the losses in the pickle file\n",
    "import pickle  \n",
    "with open('avg_loss.pkl', 'wb') as file:\n",
    "      \n",
    "    # A new file will be created\n",
    "    pickle.dump(avg_loss, file)"
   ]
  },
  {
   "cell_type": "code",
   "execution_count": 15,
   "id": "6b814568",
   "metadata": {},
   "outputs": [
    {
     "name": "stdout",
     "output_type": "stream",
     "text": [
      "[0.7789218018393517, 0.7070050383987426, 0.5512636870574951, 0.4012208203601837, 0.294452887503624, 0.22156028043746948, 0.16912142067050934, 0.13118417722654344, 0.10219273711013795, 0.0802863381280899, 0.06305262226676941, 0.04932719606733322, 0.038380917043447496, 0.029683953050136568, 0.022581880205571652, 0.017307459743216635, 0.012927948986083269, 0.009560800730894378, 0.007087606992136743, 0.005238926924867748, 0.0038244752912138923, 0.0028201018688295324, 0.0020217011630273975, 0.0014109165025996248, 0.0009763571204434946, 0.0006501101044120713, 0.0004316201922142459, 0.0002818315903746755, 0.0001735398575777612, 9.965590946405221e-05, 5.19046124722147e-05, 2.433470795029184e-05, 1.084297876956509e-05, 4.2288043586306796e-06, 1.6077211017657183e-06, 3.5141290262044966e-07, 4.811883108037924e-08, 3.90080782789308e-09, 4.716174040540755e-11, 4.510735168691826e-11]\n"
     ]
    }
   ],
   "source": [
    "# load the losses to the pickle file\n",
    "with open('avg_loss.pkl', 'rb') as file:\n",
    "      \n",
    "    # Call load method to deserialze\n",
    "    avg_loss_load = pickle.load(file)\n",
    "  \n",
    "    print(avg_loss_load)"
   ]
  },
  {
   "cell_type": "markdown",
   "id": "a8e5e212",
   "metadata": {},
   "source": [
    "## Let's test the model prediction a bit"
   ]
  },
  {
   "cell_type": "code",
   "execution_count": 16,
   "id": "954008f9",
   "metadata": {},
   "outputs": [
    {
     "data": {
      "text/plain": [
       "<All keys matched successfully>"
      ]
     },
     "execution_count": 16,
     "metadata": {},
     "output_type": "execute_result"
    }
   ],
   "source": [
    "# load the weights to the zhzhautoencoder\n",
    "model_weight = torch.load('/mldata/jingyi_wu/ling111_project_wt.pt')\n",
    "model1.load_state_dict(model_weight)\n"
   ]
  },
  {
   "cell_type": "code",
   "execution_count": 17,
   "id": "45fe4241",
   "metadata": {},
   "outputs": [],
   "source": [
    "# Get a single sample\n",
    "batch_size = 1\n",
    "train_loader = torch.utils.data.DataLoader(dataset=train_data, \n",
    "                                           batch_size=batch_size, \n",
    "                                           shuffle=True, \n",
    "                                           collate_fn=collate_batch)"
   ]
  },
  {
   "cell_type": "code",
   "execution_count": 18,
   "id": "54852302",
   "metadata": {},
   "outputs": [
    {
     "name": "stdout",
     "output_type": "stream",
     "text": [
      "Random word: ['浙江大部']\n",
      "Model prediction: 浙江大部\n"
     ]
    }
   ],
   "source": [
    "test = next(iter(train_loader))\n",
    "print(\"Random word:\", test[0])\n",
    "pos = torch.argmax(model1(test[1].to(device)))\n",
    "print(\"Model prediction:\", vocab[pos])"
   ]
  },
  {
   "cell_type": "code",
   "execution_count": 19,
   "id": "dd2be6c4",
   "metadata": {},
   "outputs": [
    {
     "name": "stdout",
     "output_type": "stream",
     "text": [
      "Random word: ['姚晶晶']\n",
      "Model prediction: 姚晶晶\n"
     ]
    }
   ],
   "source": [
    "test = next(iter(train_loader))\n",
    "print(\"Random word:\", test[0])\n",
    "pos = torch.argmax(model1(test[1].to(device)))\n",
    "print(\"Model prediction:\", vocab[pos])"
   ]
  },
  {
   "cell_type": "code",
   "execution_count": null,
   "id": "4bb14667",
   "metadata": {},
   "outputs": [],
   "source": []
  }
 ],
 "metadata": {
  "kernelspec": {
   "display_name": "Python 3 (ipykernel)",
   "language": "python",
   "name": "python3"
  },
  "language_info": {
   "codemirror_mode": {
    "name": "ipython",
    "version": 3
   },
   "file_extension": ".py",
   "mimetype": "text/x-python",
   "name": "python",
   "nbconvert_exporter": "python",
   "pygments_lexer": "ipython3",
   "version": "3.9.5"
  }
 },
 "nbformat": 4,
 "nbformat_minor": 5
}
