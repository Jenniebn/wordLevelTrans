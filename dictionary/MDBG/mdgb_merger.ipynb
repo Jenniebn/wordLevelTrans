{
 "cells": [
  {
   "cell_type": "code",
   "execution_count": 11,
   "metadata": {},
   "outputs": [],
   "source": [
    "import re\n",
    "\n",
    "import json"
   ]
  },
  {
   "cell_type": "code",
   "execution_count": 12,
   "metadata": {},
   "outputs": [],
   "source": [
    "\n",
    "# Upgrade: iterate over all dicts in folder to make list of dict objects\n",
    "with open('mdbg dict jsons/mdbg dict three senses 1.json', 'r', encoding='utf-8-sig') as openfile:\n",
    "    first_dict = json.load(openfile)\n",
    "\n",
    "with open('mdbg dict jsons/mdbg dict three senses 2.json', 'r', encoding='utf-8-sig') as openfile:\n",
    "    scnd_dict = json.load(openfile)\n",
    "\n",
    "with open('mdbg dict jsons/mdbg dict three senses 3.json', 'r', encoding='utf-8-sig') as openfile:\n",
    "    third_dict = json.load(openfile)\n",
    "\n",
    "complete_dict = first_dict|scnd_dict|third_dict\n",
    "with open('mdbg dict jsons/mdgb_complete.json', 'w', encoding='utf-8-sig') as outfile:\n",
    "\n",
    "    json.dump(complete_dict, outfile, indent = 4, ensure_ascii = False)\n",
    "\n"
   ]
  },
  {
   "cell_type": "code",
   "execution_count": 13,
   "metadata": {},
   "outputs": [
    {
     "name": "stdout",
     "output_type": "stream",
     "text": [
      "73936\n"
     ]
    }
   ],
   "source": [
    "import json\n",
    "\n",
    "with open(\"mdbg dict jsons/mdgb_complete.json\", encoding=\"utf-8-sig\") as in_file:\n",
    "    mydict = json.load(in_file)\n",
    "\n",
    "print(len(mydict))"
   ]
  }
 ],
 "metadata": {
  "kernelspec": {
   "display_name": "base",
   "language": "python",
   "name": "python3"
  },
  "language_info": {
   "codemirror_mode": {
    "name": "ipython",
    "version": 3
   },
   "file_extension": ".py",
   "mimetype": "text/x-python",
   "name": "python",
   "nbconvert_exporter": "python",
   "pygments_lexer": "ipython3",
   "version": "3.10.9"
  },
  "orig_nbformat": 4
 },
 "nbformat": 4,
 "nbformat_minor": 2
}
