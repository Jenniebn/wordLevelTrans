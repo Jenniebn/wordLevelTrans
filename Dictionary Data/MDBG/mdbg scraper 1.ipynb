{
 "cells": [
  {
   "cell_type": "code",
   "execution_count": 1,
   "metadata": {},
   "outputs": [],
   "source": [
    "import re\n",
    "def getEquiv(html):\n",
    "    matches = []\n",
    "    for item in html:\n",
    "        match = re.search(\"(?<=cdqchi',[0-2],')(.*?)(?=')\", str(item)).group()\n",
    "        matches.append(match)\n",
    "    return matches"
   ]
  },
  {
   "cell_type": "code",
   "execution_count": 2,
   "metadata": {},
   "outputs": [
    {
     "name": "stdout",
     "output_type": "stream",
     "text": [
      "0\n"
     ]
    }
   ],
   "source": [
    "# Our full scraper script for the MDBG online dictionary!\n",
    "# change: MAN, hello\n",
    "\n",
    "import json\n",
    "from urllib.error import HTTPError\n",
    "import requests\n",
    "from bs4 import BeautifulSoup\n",
    "\n",
    "# Load english text set\n",
    "engWords = []\n",
    "with open(\"C:/Users/jkami/OneDrive/Documents/UCSB/SPR23/LING111 Project/english_lexicon.txt\") as in_file:\n",
    "    for line in in_file:\n",
    "        engWords.append(line.strip())\n",
    "\n",
    "engChnDict = dict()\n",
    "i = 0\n",
    "\n",
    "# Iterating over every word in our text set\n",
    "for word in engWords[:40000]:\n",
    "    if (i % 11900) == 0:\n",
    "        print(i)\n",
    "    i += 1\n",
    "    # Creating URL to query\n",
    "    wordUrl = f\"https://www.mdbg.net/chinese/dictionary?page=worddict&wdrst=0&wdqb={word}\"\n",
    "    \n",
    "    # Getting HTMl, formatting, finding translation segment\n",
    "    try:\n",
    "        r = requests.get(wordUrl)\n",
    "    except HTTPError as err:\n",
    "        continue\n",
    "    rhtml = BeautifulSoup(r.content, 'html.parser')\n",
    "    tlString = rhtml.find_all(class_=\"row\", limit=3)\n",
    "\n",
    "    # If word isn't in dictionary, rhtml.find returns None\n",
    "    if tlString == []:\n",
    "        continue\n",
    "    else: \n",
    "        # Word is in dictionary, so get the translation\n",
    "        zhEquiv = getEquiv(tlString)\n",
    "        \n",
    "    engChnDict[word] = zhEquiv\n",
    "\n",
    "\n",
    "# Pushing the whole dictionary to a JSON file!\n",
    "with open(\"mdbg dict jsons/mdbg dict three senses 1.json\", \"w\", encoding='utf-8-sig') as out_file:\n",
    "    json.dump(engChnDict, out_file, indent=4, ensure_ascii=False)\n"
   ]
  }
 ],
 "metadata": {
  "kernelspec": {
   "display_name": "Python 3",
   "language": "python",
   "name": "python3"
  },
  "language_info": {
   "codemirror_mode": {
    "name": "ipython",
    "version": 3
   },
   "file_extension": ".py",
   "mimetype": "text/x-python",
   "name": "python",
   "nbconvert_exporter": "python",
   "pygments_lexer": "ipython3",
   "version": "3.10.6"
  },
  "orig_nbformat": 4
 },
 "nbformat": 4,
 "nbformat_minor": 2
}
