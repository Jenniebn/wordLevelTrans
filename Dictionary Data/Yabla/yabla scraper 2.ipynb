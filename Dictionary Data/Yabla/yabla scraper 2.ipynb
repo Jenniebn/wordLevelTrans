{
 "cells": [
  {
   "cell_type": "code",
   "execution_count": 1,
   "metadata": {},
   "outputs": [],
   "source": [
    "# Defining a helper function to extract TL equiv from the HTML\n",
    "def getEquiv(html):\n",
    "    import re\n",
    "    wordStrings = []\n",
    "\n",
    "    for strng in html:\n",
    "        equiv = strng.find(class_=\"word\")\n",
    "        equivMatches = re.findall(\"(?<=\\\">).(?=</a)\", str(equiv))\n",
    "        wordStrings.append(\"\".join(equivMatches))\n",
    "\n",
    "    return wordStrings"
   ]
  },
  {
   "cell_type": "code",
   "execution_count": 6,
   "metadata": {},
   "outputs": [
    {
     "name": "stdout",
     "output_type": "stream",
     "text": [
      "0\n",
      "4000\n",
      "8000\n",
      "12000\n",
      "16000\n",
      "20000\n",
      "24000\n",
      "28000\n",
      "32000\n",
      "36000\n",
      "40000\n",
      "44000\n"
     ]
    }
   ],
   "source": [
    "# Yabla scraper batch 2\n",
    "\n",
    "import json\n",
    "import requests\n",
    "from bs4 import BeautifulSoup\n",
    "from urllib.error import HTTPError\n",
    "\n",
    "# Load english text set\n",
    "engWords = []\n",
    "with open(\"C:/Users/jkami/OneDrive/Documents/UCSB/SPR23/LING111 Project/english_lexicon.txt\") as in_file:\n",
    "    for line in in_file:\n",
    "        engWords.append(line.strip())\n",
    "\n",
    "engChnDict = dict()\n",
    "i = 0\n",
    "\n",
    "# Iterating over every word in our text set\n",
    "for word in engWords[40000:80000]:\n",
    "    if (i % 4000) == 0:\n",
    "        print(i)\n",
    "    # Creating URL to query\n",
    "    wordUrl = f\"https://chinese.yabla.com/chinese-english-pinyin-dictionary.php?define={word}\"\n",
    "    \n",
    "    # Getting HTMl, formatting, finding translation segment\n",
    "    i += 1\n",
    "    try:\n",
    "        r = requests.get(wordUrl)\n",
    "    except HTTPError as err:\n",
    "        continue\n",
    "    rhtml = BeautifulSoup(r.content, 'html.parser')\n",
    "    tlString = rhtml.find_all(class_=\"entry center_maxed\", limit=3)\n",
    "\n",
    "    # If word isn't in dictionary, rhtml.find returns None\n",
    "    if tlString == []:\n",
    "        continue\n",
    "    else: \n",
    "        # Word is in dictionary, so get the translation\n",
    "        zhEquiv = getEquiv(tlString)\n",
    "        \n",
    "    engChnDict[word] = zhEquiv\n",
    "\n",
    "# Pushing the whole dictionary to a JSON file!\n",
    "with open(\"yabla dict jsons/yabla dict 2.json\", \"w\", encoding='utf-8-sig') as out_file:\n",
    "    json.dump(engChnDict, out_file, indent=4, ensure_ascii=False)\n"
   ]
  }
 ],
 "metadata": {
  "kernelspec": {
   "display_name": "Python 3",
   "language": "python",
   "name": "python3"
  },
  "language_info": {
   "codemirror_mode": {
    "name": "ipython",
    "version": 3
   },
   "file_extension": ".py",
   "mimetype": "text/x-python",
   "name": "python",
   "nbconvert_exporter": "python",
   "pygments_lexer": "ipython3",
   "version": "3.10.6"
  },
  "orig_nbformat": 4
 },
 "nbformat": 4,
 "nbformat_minor": 2
}
