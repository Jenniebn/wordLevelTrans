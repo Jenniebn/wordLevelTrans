{
  "cells": [
    {
      "cell_type": "markdown",
      "metadata": {
        "id": "view-in-github",
        "colab_type": "text"
      },
      "source": [
        "<a href=\"https://colab.research.google.com/github/Jenniebn/wordLevelTrans/blob/main/notebooks/EnZhEncoderDecoder.ipynb\" target=\"_parent\"><img src=\"https://colab.research.google.com/assets/colab-badge.svg\" alt=\"Open In Colab\"/></a>"
      ]
    },
    {
      "cell_type": "code",
      "execution_count": null,
      "metadata": {
        "id": "kuC0h3PWpGn7"
      },
      "outputs": [],
      "source": [
        "import os\n",
        "import sys\n",
        "import time\n",
        "import copy\n",
        "import json\n",
        "import math\n",
        "import torch\n",
        "import random\n",
        "import pickle\n",
        "import numpy as np\n",
        "import pandas as pd\n",
        "import matplotlib.pyplot as plt\n",
        "import torch.nn.functional as TF\n",
        "from torch import nn, optim, tensor\n",
        "from torch.utils.data import DataLoader, Dataset, SubsetRandomSampler"
      ]
    },
    {
      "cell_type": "code",
      "execution_count": null,
      "metadata": {
        "colab": {
          "base_uri": "https://localhost:8080/"
        },
        "id": "LxfPPKa5JUDX",
        "outputId": "9946f0cb-4eb9-4709-a05e-d614b0d8b373"
      },
      "outputs": [
        {
          "name": "stdout",
          "output_type": "stream",
          "text": [
            "Mounted at /content/gdrive\n"
          ]
        }
      ],
      "source": [
        "from google.colab import drive\n",
        "\n",
        "# TODO 0: Mount your Google Drive; this allows the runtime environment to access your drive.\n",
        "drive.mount('/content/gdrive')\n",
        "\n",
        "# NOTE: Make sure your path does NOT include a '/' at the end!\n",
        "base_dir = \"/content/gdrive/MyDrive/\"\n",
        "sys.path.append(base_dir)\n",
        "## END TODO"
      ]
    },
    {
      "cell_type": "code",
      "execution_count": null,
      "metadata": {
        "colab": {
          "base_uri": "https://localhost:8080/"
        },
        "id": "f7v0h5pJNT_r",
        "outputId": "2a06294e-6fc4-4450-e5b7-0cf55dd9ad45"
      },
      "outputs": [
        {
          "name": "stdout",
          "output_type": "stream",
          "text": [
            "Tue Mar 12 07:15:40 2024       \n",
            "+---------------------------------------------------------------------------------------+\n",
            "| NVIDIA-SMI 535.104.05             Driver Version: 535.104.05   CUDA Version: 12.2     |\n",
            "|-----------------------------------------+----------------------+----------------------+\n",
            "| GPU  Name                 Persistence-M | Bus-Id        Disp.A | Volatile Uncorr. ECC |\n",
            "| Fan  Temp   Perf          Pwr:Usage/Cap |         Memory-Usage | GPU-Util  Compute M. |\n",
            "|                                         |                      |               MIG M. |\n",
            "|=========================================+======================+======================|\n",
            "|   0  Tesla T4                       Off | 00000000:00:04.0 Off |                    0 |\n",
            "| N/A   34C    P8               9W /  70W |      0MiB / 15360MiB |      0%      Default |\n",
            "|                                         |                      |                  N/A |\n",
            "+-----------------------------------------+----------------------+----------------------+\n",
            "                                                                                         \n",
            "+---------------------------------------------------------------------------------------+\n",
            "| Processes:                                                                            |\n",
            "|  GPU   GI   CI        PID   Type   Process name                            GPU Memory |\n",
            "|        ID   ID                                                             Usage      |\n",
            "|=======================================================================================|\n",
            "|  No running processes found                                                           |\n",
            "+---------------------------------------------------------------------------------------+\n"
          ]
        }
      ],
      "source": [
        "gpu_info = !nvidia-smi\n",
        "gpu_info = '\\n'.join(gpu_info)\n",
        "if gpu_info.find('failed') >= 0:\n",
        "  print('Not connected to a GPU')\n",
        "else:\n",
        "  print(gpu_info)"
      ]
    },
    {
      "cell_type": "code",
      "execution_count": null,
      "metadata": {
        "colab": {
          "base_uri": "https://localhost:8080/"
        },
        "id": "V2sohmSWOn83",
        "outputId": "b1ebf7bc-1173-4244-875e-3bf34100a349"
      },
      "outputs": [
        {
          "name": "stdout",
          "output_type": "stream",
          "text": [
            "Your runtime has 54.8 gigabytes of available RAM\n",
            "\n",
            "You are using a high-RAM runtime!\n"
          ]
        }
      ],
      "source": [
        "from psutil import virtual_memory\n",
        "ram_gb = virtual_memory().total / 1e9\n",
        "print('Your runtime has {:.1f} gigabytes of available RAM\\n'.format(ram_gb))\n",
        "\n",
        "if ram_gb < 20:\n",
        "  print('Not using a high-RAM runtime')\n",
        "else:\n",
        "  print('You are using a high-RAM runtime!')"
      ]
    },
    {
      "cell_type": "markdown",
      "metadata": {
        "id": "8UnEBpWxj2f6"
      },
      "source": [
        "# 1. Load Datasets"
      ]
    },
    {
      "cell_type": "code",
      "execution_count": null,
      "metadata": {
        "id": "ZGBrhqOqTxEq"
      },
      "outputs": [],
      "source": [
        "with open('../data/zh_embedding.pkl', 'rb') as file:\n",
        "    zh_embedding = pickle.load(file)\n",
        "    file.close()\n",
        "with open('../data/vocab_zh.pkl', 'rb') as file:\n",
        "    vocab_zh = pickle.load(file)\n",
        "    file.close()\n",
        "with open('../data/word_to_index_zh.pkl', 'rb') as file:\n",
        "    word_to_index_zh = pickle.load(file)\n",
        "    file.close()\n",
        "with open('../data/idx_to_embed_zh.pkl', 'rb') as file:\n",
        "    idx_to_embed_zh = pickle.load(file)\n",
        "    file.close()\n",
        "with open('../data/en_embedding.pkl', 'rb') as file:\n",
        "    en_embedding = pickle.load(file)\n",
        "    file.close()\n",
        "with open('../data/vocab_en.pkl', 'rb') as file:\n",
        "    vocab_en = pickle.load(file)\n",
        "    file.close()\n",
        "with open('../data/word_to_index_en.pkl', 'rb') as file:\n",
        "    word_to_index_en = pickle.load(file)\n",
        "    file.close()\n",
        "with open('../data/idx_to_embed_en.pkl', 'rb') as file:\n",
        "    idx_to_embed_en = pickle.load(file)\n",
        "    file.close()"
      ]
    },
    {
      "cell_type": "code",
      "execution_count": null,
      "metadata": {
        "colab": {
          "base_uri": "https://localhost:8080/"
        },
        "id": "EaSJtqeDV5jp",
        "outputId": "e324eebb-9e4e-400a-ee6a-6f87b213d0f8"
      },
      "outputs": [
        {
          "name": "stdout",
          "output_type": "stream",
          "text": [
            "The first 10 words in the English vocabulary are: {'and': 0, 'of': 1, 'a': 2, 'in': 3, 'is': 4, 'to': 5, 'for': 6, 'that': 7, 's': 8, 'with': 9}\n",
            "EN vocab size is 82615\n",
            "The index for the English word 'cannot' is: 700\n"
          ]
        }
      ],
      "source": [
        "vocab_en = list(word_to_index_en.keys())\n",
        "vocab_size_en = len(vocab_en)\n",
        "first10pairs = {k: word_to_index_en[k] for k in list(word_to_index_en)[:10]}\n",
        "print(\"The first 10 words in the English vocabulary are:\", first10pairs)\n",
        "print(\"EN vocab size is\", vocab_size_en)\n",
        "print(\"The index for the English word 'cannot' is:\", word_to_index_en[\"cannot\"])"
      ]
    },
    {
      "cell_type": "code",
      "execution_count": null,
      "metadata": {
        "colab": {
          "base_uri": "https://localhost:8080/"
        },
        "id": "cECoUWLkWCMH",
        "outputId": "d8c38c65-47f3-45dd-e366-444dd5ab138a"
      },
      "outputs": [
        {
          "name": "stdout",
          "output_type": "stream",
          "text": [
            "The first 10 words in the Chinese vocabulary are: {'的': 0, '了': 1, '在': 2, '是': 3, '和': 4, '有': 5, '章': 6, '就': 7, '第': 8, '也': 9}\n",
            "ZH vocab size is 95685\n",
            "The index for the Chinese word '的' is: 0\n"
          ]
        }
      ],
      "source": [
        "vocab_zh = list(word_to_index_zh.keys())\n",
        "vocab_size_zh = len(vocab_zh)\n",
        "first10pairs = {k: word_to_index_zh[k] for k in list(word_to_index_zh)[:10]}\n",
        "print(\"The first 10 words in the Chinese vocabulary are:\", first10pairs)\n",
        "print(\"ZH vocab size is\", vocab_size_zh)\n",
        "print(\"The index for the Chinese word '的' is:\", word_to_index_zh['的'])"
      ]
    },
    {
      "cell_type": "code",
      "execution_count": null,
      "metadata": {
        "colab": {
          "base_uri": "https://localhost:8080/"
        },
        "id": "VMp1EQN9nXe5",
        "outputId": "4957b2c1-d47f-42a7-ff22-3c601b3245f5"
      },
      "outputs": [
        {
          "name": "stdout",
          "output_type": "stream",
          "text": [
            "{'petard': ['作茧自缚', '以子之矛，攻子之盾', '吐丝自缚'], 'northeasterly': ['向东北的', '东北风'], 'relinquishment': ['放弃'], 'reader': ['读者'], 'thawed': ['融化'], 'improvised': ['自制', '即席'], 'webbed': ['有蹼的'], 'extolled': ['赞扬'], 'votive': ['奉献的', '还愿'], 'ardour': ['激情', '热忱']}\n",
            "There are 37888 translation pairs\n"
          ]
        }
      ],
      "source": [
        "# Load the golden set\n",
        "with open('../data/lemmatized_golden_set.json', encoding=\"utf-8-sig\") as in_file:\n",
        "  # returns JSON object as a dictionary\n",
        "    golden_set = json.load(in_file)\n",
        "\n",
        "# Closing file\n",
        "in_file.close()\n",
        "\n",
        "first10pairs = {k: golden_set[k] for k in list(golden_set)[:10]}\n",
        "print(first10pairs)\n",
        "print(f\"There are {len(golden_set)} translation pairs\")"
      ]
    },
    {
      "cell_type": "code",
      "execution_count": null,
      "metadata": {
        "colab": {
          "base_uri": "https://localhost:8080/"
        },
        "id": "SNtUHln1gdmj",
        "outputId": "1441a73c-e97e-4657-8de4-8dc0d8f62400"
      },
      "outputs": [
        {
          "name": "stdout",
          "output_type": "stream",
          "text": [
            "There are 37888 unique English words in our golden set\n"
          ]
        }
      ],
      "source": [
        "# en_vocab_list is list of unique English words in golden set\n",
        "gold_en_list = list(golden_set.keys())\n",
        "\n",
        "# length of English vocabulary\n",
        "gold_en_size = len(gold_en_list)\n",
        "print(\"There are\", gold_en_size, \"unique English words in our golden set\")"
      ]
    },
    {
      "cell_type": "code",
      "execution_count": null,
      "metadata": {
        "id": "oRR9WbKLF-Zz"
      },
      "outputs": [],
      "source": [
        "# Load the partitioned golden set\n",
        "with open('../data/partitioned_golden_set2.json', encoding=\"utf-8-sig\") as in_file:\n",
        "  # returns JSON object as a dictionary\n",
        "    partitioned_golden_set = json.load(in_file)\n",
        "\n",
        "# Closing file\n",
        "in_file.close()\n",
        "\n",
        "concrete_emotion_label = partitioned_golden_set['concrete']['emotion_label']\n",
        "concrete_emotion_laden = partitioned_golden_set['concrete']['emotion_laden']\n",
        "concrete_other = partitioned_golden_set['concrete']['other']\n",
        "abstract_emotion_label = partitioned_golden_set['abstract']['emotion_label']\n",
        "abstract_emotion_laden = partitioned_golden_set['abstract']['emotion_laden']\n",
        "abstract_other = partitioned_golden_set['abstract']['other']\n",
        "unknown_emotion_label = partitioned_golden_set['unknown_abstraction']['emotion_label']\n",
        "unknown_emotion_laden = partitioned_golden_set['unknown_abstraction']['emotion_laden']\n",
        "unknown_other = partitioned_golden_set['unknown_abstraction']['other']"
      ]
    },
    {
      "cell_type": "markdown",
      "metadata": {
        "id": "J8eL-iHEkBSZ"
      },
      "source": [
        "# 2. Preprocess"
      ]
    },
    {
      "cell_type": "code",
      "execution_count": null,
      "metadata": {
        "id": "fvzl6BKJkERP"
      },
      "outputs": [],
      "source": [
        "torch.manual_seed(4)\n",
        "np.random.seed(4)\n",
        "random.seed(4)"
      ]
    },
    {
      "cell_type": "code",
      "execution_count": null,
      "metadata": {
        "id": "wlRrsah6d0j1",
        "outputId": "68d8d06c-2b6c-41d8-bc45-b420dfe6563c"
      },
      "outputs": [
        {
          "ename": "ModuleNotFoundError",
          "evalue": "No module named 'nltk'",
          "output_type": "error",
          "traceback": [
            "\u001b[0;31m---------------------------------------------------------------------------\u001b[0m",
            "\u001b[0;31mModuleNotFoundError\u001b[0m                       Traceback (most recent call last)",
            "Cell \u001b[0;32mIn[7], line 1\u001b[0m\n\u001b[0;32m----> 1\u001b[0m \u001b[38;5;28;01mimport\u001b[39;00m\u001b[38;5;250m \u001b[39m\u001b[38;5;21;01mnltk\u001b[39;00m\n\u001b[1;32m      2\u001b[0m \u001b[38;5;28;01mfrom\u001b[39;00m\u001b[38;5;250m \u001b[39m\u001b[38;5;21;01mnltk\u001b[39;00m\u001b[38;5;21;01m.\u001b[39;00m\u001b[38;5;21;01mstem\u001b[39;00m\u001b[38;5;250m \u001b[39m\u001b[38;5;28;01mimport\u001b[39;00m PorterStemmer\n\u001b[1;32m      3\u001b[0m \u001b[38;5;28;01mfrom\u001b[39;00m\u001b[38;5;250m \u001b[39m\u001b[38;5;21;01mnltk\u001b[39;00m\u001b[38;5;21;01m.\u001b[39;00m\u001b[38;5;21;01mtokenize\u001b[39;00m\u001b[38;5;250m \u001b[39m\u001b[38;5;28;01mimport\u001b[39;00m word_tokenize\n",
            "\u001b[0;31mModuleNotFoundError\u001b[0m: No module named 'nltk'"
          ]
        }
      ],
      "source": [
        "import nltk\n",
        "from nltk.stem import PorterStemmer\n",
        "from nltk.tokenize import word_tokenize"
      ]
    },
    {
      "cell_type": "code",
      "execution_count": null,
      "metadata": {
        "id": "7d_6rA1FKzUd"
      },
      "outputs": [],
      "source": [
        "with open('data/training_data.pkl', 'rb') as file:\n",
        "\n",
        "    # Call load method to deserialze\n",
        "    training_data = pickle.load(file)\n",
        "    file.close()\n",
        "with open('data/validation_data.pkl', 'rb') as file:\n",
        "\n",
        "    # Call load method to deserialze\n",
        "    validation_data = pickle.load(file)\n",
        "    file.close()\n",
        "with open('data/testing_data.pkl', 'rb') as file:\n",
        "\n",
        "    # Call load method to deserialze\n",
        "    testing_data = pickle.load(file)\n",
        "    file.close()"
      ]
    },
    {
      "cell_type": "code",
      "execution_count": null,
      "metadata": {
        "colab": {
          "base_uri": "https://localhost:8080/"
        },
        "id": "H6iWJxvYgXNz",
        "outputId": "9bc9e7ee-960c-4efc-d2c6-f6dbdcae3a4a"
      },
      "outputs": [
        {
          "name": "stdout",
          "output_type": "stream",
          "text": [
            "There are 21311 English training data, 2663 validation data and 2670 testing data\n",
            "There are 21311 Chinese training data, 2663 validation data and 2670 testing data\n",
            "Translation for camouflage is ('保护色', 59612)\n"
          ]
        }
      ],
      "source": [
        "print(\"There are\", len(training_data['en_index']), \"English training data,\", len(validation_data['en_index']), \"validation data and\", len(testing_data['en_index']), \"testing data\")\n",
        "print(\"There are\", len(training_data['zh_index']), \"Chinese training data,\", len(validation_data['zh_index']), \"validation data and\", len(testing_data['zh_index']), \"testing data\")\n",
        "print(\"Translation for {} is {}\".format(training_data[\"en_index\"][100][0], training_data[\"zh_index\"][100][0]))"
      ]
    },
    {
      "cell_type": "code",
      "execution_count": null,
      "metadata": {
        "colab": {
          "base_uri": "https://localhost:8080/"
        },
        "id": "6U52gnrAgxXG",
        "outputId": "08912e0c-d6eb-412b-a2cb-7bb92e98439d"
      },
      "outputs": [
        {
          "name": "stdout",
          "output_type": "stream",
          "text": [
            "[('down', 320), ('begging', 13203), ('abrasive', 13766), ('nappy', 32489), ('reading', 774)]\n",
            "[[('下', 56), ('向下', 6010)], [('乞求', 28576), ('乞讨', 24497)], [('磨料', 38804)], [('尿布', 28039)], [('读', 2756), ('阅读', 550), ('读数', 22551)]]\n",
            "[('ugly', 6705), ('tearful', 34041), ('caught', 3258), ('sour', 12134), ('lodging', 11589)]\n",
            "[[('丑', 4810), ('丑恶', 31569)], [('含泪', 17889), ('沱', 62252)], [('陷入', 1879), ('陷于', 26914)], [('酸', 7516), ('酸甜苦辣', 23303), ('酸溜溜', 46638), ('酸味', 24089)], [('野营', 44250)]]\n",
            "[('warm', 1785), ('stagnant', 19804), ('divided', 5625), ('blank', 2375), ('scarred', 25865)]\n",
            "[[('暖和', 8933), ('温暖', 2248), ('温', 6249), ('暖', 7432)], [('死水', 43635)], [('更', 234)], [('白', 2044), ('呆', 6505), ('空白', 5902), ('空格', 15079)], [('疤', 22576)]]\n"
          ]
        }
      ],
      "source": [
        "print(training_data[\"en_index\"][:5])\n",
        "print(training_data[\"zh_index\"][:5])\n",
        "print(validation_data[\"en_index\"][:5])\n",
        "print(validation_data[\"zh_index\"][:5])\n",
        "print(testing_data[\"en_index\"][:5])\n",
        "print(testing_data[\"zh_index\"][:5])"
      ]
    },
    {
      "cell_type": "markdown",
      "metadata": {
        "id": "Zl8hpRD6kQp4"
      },
      "source": [
        "# 3. Scheduler"
      ]
    },
    {
      "cell_type": "code",
      "execution_count": null,
      "metadata": {
        "id": "c8yqyXLpkQHE"
      },
      "outputs": [],
      "source": [
        "class CosineScheduler:\n",
        "    def __init__(self, max_update, base_lr=0.01, final_lr=0,\n",
        "               warmup_steps=0, warmup_begin_lr=0):\n",
        "        self.base_lr_orig = base_lr\n",
        "        self.max_update = max_update\n",
        "        self.final_lr = final_lr\n",
        "        self.warmup_steps = warmup_steps\n",
        "        self.warmup_begin_lr = warmup_begin_lr\n",
        "        self.max_steps = self.max_update - self.warmup_steps\n",
        "\n",
        "    def get_warmup_lr(self, epoch):\n",
        "        increase = (self.base_lr_orig - self.warmup_begin_lr) \\\n",
        "                       * float(epoch) / float(self.warmup_steps)\n",
        "        return self.warmup_begin_lr + increase\n",
        "\n",
        "    def __call__(self, epoch):\n",
        "        if epoch < self.warmup_steps:\n",
        "            return self.get_warmup_lr(epoch)\n",
        "        if epoch <= self.max_update:\n",
        "            self.base_lr = self.final_lr + (\n",
        "                self.base_lr_orig - self.final_lr) * (1 + math.cos(\n",
        "                math.pi * (epoch - self.warmup_steps) / self.max_steps)) / 2\n",
        "        return self.base_lr"
      ]
    },
    {
      "cell_type": "markdown",
      "metadata": {
        "id": "k1DbO-KMBKCu"
      },
      "source": [
        "# 4. Custom Dataset"
      ]
    },
    {
      "cell_type": "code",
      "execution_count": null,
      "metadata": {
        "id": "jigMIVJWBM1_"
      },
      "outputs": [],
      "source": [
        "# Define dataset to load to dataloader\n",
        "class TrainData(Dataset):\n",
        "\n",
        "    def __init__(self, data):\n",
        "        \"\"\"\n",
        "        Loads the data in format\n",
        "        data = {\"en_index:..., zh_index:...\"}\n",
        "        en_list = [('petard', 67815), ('relinquishment', 50663),...]\n",
        "        zh_list = [[('融化', 8830)], [('自制', 6059), ('即席', 82036)],...]\n",
        "        \"\"\"\n",
        "        self.data    = data\n",
        "        self.en_list = self.data[\"en_index\"]\n",
        "        self.zh_list = self.data[\"zh_index\"]\n",
        "\n",
        "    def __getitem__(self, idx):\n",
        "        \"\"\"Returns the datapoint at a given index\"\"\"\n",
        "        en_index = self.en_list[idx][1]\n",
        "        zh_onehot = torch.zeros(vocab_size_zh)\n",
        "        for pair in self.zh_list[idx]:\n",
        "            zh_onehot[pair[1]] = 1\n",
        "        sample = {\"en_index\": en_index, \"zh_index\": zh_onehot}\n",
        "        return sample\n",
        "\n",
        "    def __len__(self):\n",
        "        \"\"\"Returns the number of datapoints in the dataset\"\"\"\n",
        "        return len(self.data[\"en_index\"])"
      ]
    },
    {
      "cell_type": "code",
      "execution_count": null,
      "metadata": {
        "id": "4nsbFbONBNy-"
      },
      "outputs": [],
      "source": [
        "def collate_batch(batch):\n",
        "    \"\"\"Converts a batch of data into packed PyTorch tensor format\n",
        "    \"\"\"\n",
        "    # Initialize lists that separate out the 3 components\n",
        "    en_index_list  = list()\n",
        "    zh_index_list  = list()\n",
        "\n",
        "    for pair in batch:\n",
        "        en_index = pair[\"en_index\"]\n",
        "        zh_index = pair[\"zh_index\"]\n",
        "        # Convert to PyTorch format\n",
        "        # Add converted data to separate component lists\n",
        "        en_index_list.append(en_index)\n",
        "        zh_index_list.append(zh_index)\n",
        "\n",
        "    # Convert to mini-batch tensors\n",
        "    en_index_tensor = torch.tensor(en_index_list).to(torch.int64)\n",
        "    zh_index_tensor = torch.stack(zh_index_list, dim=0).to(torch.int64)\n",
        "\n",
        "    return (en_index_tensor, zh_index_tensor)"
      ]
    },
    {
      "cell_type": "markdown",
      "metadata": {
        "id": "_zEtiOF7ykeo"
      },
      "source": [
        "# 5. Create latent spaces + relative embeddings"
      ]
    },
    {
      "cell_type": "code",
      "execution_count": null,
      "metadata": {
        "colab": {
          "base_uri": "https://localhost:8080/"
        },
        "id": "S6UF0s0yyn8y",
        "outputId": "d7ad3fac-1d6e-4191-b24d-e828f8ceb7ac"
      },
      "outputs": [
        {
          "name": "stdout",
          "output_type": "stream",
          "text": [
            "Collecting pytorch_lightning\n",
            "  Downloading pytorch_lightning-2.5.1-py3-none-any.whl.metadata (20 kB)\n",
            "Requirement already satisfied: torch>=2.1.0 in /usr/local/lib/python3.11/dist-packages (from pytorch_lightning) (2.6.0+cu124)\n",
            "Requirement already satisfied: tqdm>=4.57.0 in /usr/local/lib/python3.11/dist-packages (from pytorch_lightning) (4.67.1)\n",
            "Requirement already satisfied: PyYAML>=5.4 in /usr/local/lib/python3.11/dist-packages (from pytorch_lightning) (6.0.2)\n",
            "Requirement already satisfied: fsspec>=2022.5.0 in /usr/local/lib/python3.11/dist-packages (from fsspec[http]>=2022.5.0->pytorch_lightning) (2025.3.2)\n",
            "Collecting torchmetrics>=0.7.0 (from pytorch_lightning)\n",
            "  Downloading torchmetrics-1.7.1-py3-none-any.whl.metadata (21 kB)\n",
            "Requirement already satisfied: packaging>=20.0 in /usr/local/lib/python3.11/dist-packages (from pytorch_lightning) (24.2)\n",
            "Requirement already satisfied: typing-extensions>=4.4.0 in /usr/local/lib/python3.11/dist-packages (from pytorch_lightning) (4.13.2)\n",
            "Collecting lightning-utilities>=0.10.0 (from pytorch_lightning)\n",
            "  Downloading lightning_utilities-0.14.3-py3-none-any.whl.metadata (5.6 kB)\n",
            "Requirement already satisfied: aiohttp!=4.0.0a0,!=4.0.0a1 in /usr/local/lib/python3.11/dist-packages (from fsspec[http]>=2022.5.0->pytorch_lightning) (3.11.15)\n",
            "Requirement already satisfied: setuptools in /usr/local/lib/python3.11/dist-packages (from lightning-utilities>=0.10.0->pytorch_lightning) (75.2.0)\n",
            "Requirement already satisfied: filelock in /usr/local/lib/python3.11/dist-packages (from torch>=2.1.0->pytorch_lightning) (3.18.0)\n",
            "Requirement already satisfied: networkx in /usr/local/lib/python3.11/dist-packages (from torch>=2.1.0->pytorch_lightning) (3.4.2)\n",
            "Requirement already satisfied: jinja2 in /usr/local/lib/python3.11/dist-packages (from torch>=2.1.0->pytorch_lightning) (3.1.6)\n",
            "Collecting nvidia-cuda-nvrtc-cu12==12.4.127 (from torch>=2.1.0->pytorch_lightning)\n",
            "  Downloading nvidia_cuda_nvrtc_cu12-12.4.127-py3-none-manylinux2014_x86_64.whl.metadata (1.5 kB)\n",
            "Collecting nvidia-cuda-runtime-cu12==12.4.127 (from torch>=2.1.0->pytorch_lightning)\n",
            "  Downloading nvidia_cuda_runtime_cu12-12.4.127-py3-none-manylinux2014_x86_64.whl.metadata (1.5 kB)\n",
            "Collecting nvidia-cuda-cupti-cu12==12.4.127 (from torch>=2.1.0->pytorch_lightning)\n",
            "  Downloading nvidia_cuda_cupti_cu12-12.4.127-py3-none-manylinux2014_x86_64.whl.metadata (1.6 kB)\n",
            "Collecting nvidia-cudnn-cu12==9.1.0.70 (from torch>=2.1.0->pytorch_lightning)\n",
            "  Downloading nvidia_cudnn_cu12-9.1.0.70-py3-none-manylinux2014_x86_64.whl.metadata (1.6 kB)\n",
            "Collecting nvidia-cublas-cu12==12.4.5.8 (from torch>=2.1.0->pytorch_lightning)\n",
            "  Downloading nvidia_cublas_cu12-12.4.5.8-py3-none-manylinux2014_x86_64.whl.metadata (1.5 kB)\n",
            "Collecting nvidia-cufft-cu12==11.2.1.3 (from torch>=2.1.0->pytorch_lightning)\n",
            "  Downloading nvidia_cufft_cu12-11.2.1.3-py3-none-manylinux2014_x86_64.whl.metadata (1.5 kB)\n",
            "Collecting nvidia-curand-cu12==10.3.5.147 (from torch>=2.1.0->pytorch_lightning)\n",
            "  Downloading nvidia_curand_cu12-10.3.5.147-py3-none-manylinux2014_x86_64.whl.metadata (1.5 kB)\n",
            "Collecting nvidia-cusolver-cu12==11.6.1.9 (from torch>=2.1.0->pytorch_lightning)\n",
            "  Downloading nvidia_cusolver_cu12-11.6.1.9-py3-none-manylinux2014_x86_64.whl.metadata (1.6 kB)\n",
            "Collecting nvidia-cusparse-cu12==12.3.1.170 (from torch>=2.1.0->pytorch_lightning)\n",
            "  Downloading nvidia_cusparse_cu12-12.3.1.170-py3-none-manylinux2014_x86_64.whl.metadata (1.6 kB)\n",
            "Requirement already satisfied: nvidia-cusparselt-cu12==0.6.2 in /usr/local/lib/python3.11/dist-packages (from torch>=2.1.0->pytorch_lightning) (0.6.2)\n",
            "Requirement already satisfied: nvidia-nccl-cu12==2.21.5 in /usr/local/lib/python3.11/dist-packages (from torch>=2.1.0->pytorch_lightning) (2.21.5)\n",
            "Requirement already satisfied: nvidia-nvtx-cu12==12.4.127 in /usr/local/lib/python3.11/dist-packages (from torch>=2.1.0->pytorch_lightning) (12.4.127)\n",
            "Collecting nvidia-nvjitlink-cu12==12.4.127 (from torch>=2.1.0->pytorch_lightning)\n",
            "  Downloading nvidia_nvjitlink_cu12-12.4.127-py3-none-manylinux2014_x86_64.whl.metadata (1.5 kB)\n",
            "Requirement already satisfied: triton==3.2.0 in /usr/local/lib/python3.11/dist-packages (from torch>=2.1.0->pytorch_lightning) (3.2.0)\n",
            "Requirement already satisfied: sympy==1.13.1 in /usr/local/lib/python3.11/dist-packages (from torch>=2.1.0->pytorch_lightning) (1.13.1)\n",
            "Requirement already satisfied: mpmath<1.4,>=1.1.0 in /usr/local/lib/python3.11/dist-packages (from sympy==1.13.1->torch>=2.1.0->pytorch_lightning) (1.3.0)\n",
            "Requirement already satisfied: numpy>1.20.0 in /usr/local/lib/python3.11/dist-packages (from torchmetrics>=0.7.0->pytorch_lightning) (2.0.2)\n",
            "Requirement already satisfied: aiohappyeyeballs>=2.3.0 in /usr/local/lib/python3.11/dist-packages (from aiohttp!=4.0.0a0,!=4.0.0a1->fsspec[http]>=2022.5.0->pytorch_lightning) (2.6.1)\n",
            "Requirement already satisfied: aiosignal>=1.1.2 in /usr/local/lib/python3.11/dist-packages (from aiohttp!=4.0.0a0,!=4.0.0a1->fsspec[http]>=2022.5.0->pytorch_lightning) (1.3.2)\n",
            "Requirement already satisfied: attrs>=17.3.0 in /usr/local/lib/python3.11/dist-packages (from aiohttp!=4.0.0a0,!=4.0.0a1->fsspec[http]>=2022.5.0->pytorch_lightning) (25.3.0)\n",
            "Requirement already satisfied: frozenlist>=1.1.1 in /usr/local/lib/python3.11/dist-packages (from aiohttp!=4.0.0a0,!=4.0.0a1->fsspec[http]>=2022.5.0->pytorch_lightning) (1.5.0)\n",
            "Requirement already satisfied: multidict<7.0,>=4.5 in /usr/local/lib/python3.11/dist-packages (from aiohttp!=4.0.0a0,!=4.0.0a1->fsspec[http]>=2022.5.0->pytorch_lightning) (6.4.3)\n",
            "Requirement already satisfied: propcache>=0.2.0 in /usr/local/lib/python3.11/dist-packages (from aiohttp!=4.0.0a0,!=4.0.0a1->fsspec[http]>=2022.5.0->pytorch_lightning) (0.3.1)\n",
            "Requirement already satisfied: yarl<2.0,>=1.17.0 in /usr/local/lib/python3.11/dist-packages (from aiohttp!=4.0.0a0,!=4.0.0a1->fsspec[http]>=2022.5.0->pytorch_lightning) (1.19.0)\n",
            "Requirement already satisfied: MarkupSafe>=2.0 in /usr/local/lib/python3.11/dist-packages (from jinja2->torch>=2.1.0->pytorch_lightning) (3.0.2)\n",
            "Requirement already satisfied: idna>=2.0 in /usr/local/lib/python3.11/dist-packages (from yarl<2.0,>=1.17.0->aiohttp!=4.0.0a0,!=4.0.0a1->fsspec[http]>=2022.5.0->pytorch_lightning) (3.10)\n",
            "Downloading pytorch_lightning-2.5.1-py3-none-any.whl (822 kB)\n",
            "\u001b[2K   \u001b[90m━━━━━━━━━━━━━━━━━━━━━━━━━━━━━━━━━━━━━━━━\u001b[0m \u001b[32m823.0/823.0 kB\u001b[0m \u001b[31m10.0 MB/s\u001b[0m eta \u001b[36m0:00:00\u001b[0m\n",
            "\u001b[?25hDownloading lightning_utilities-0.14.3-py3-none-any.whl (28 kB)\n",
            "Downloading nvidia_cublas_cu12-12.4.5.8-py3-none-manylinux2014_x86_64.whl (363.4 MB)\n",
            "\u001b[2K   \u001b[90m━━━━━━━━━━━━━━━━━━━━━━━━━━━━━━━━━━━━━━━━\u001b[0m \u001b[32m363.4/363.4 MB\u001b[0m \u001b[31m2.4 MB/s\u001b[0m eta \u001b[36m0:00:00\u001b[0m\n",
            "\u001b[?25hDownloading nvidia_cuda_cupti_cu12-12.4.127-py3-none-manylinux2014_x86_64.whl (13.8 MB)\n",
            "\u001b[2K   \u001b[90m━━━━━━━━━━━━━━━━━━━━━━━━━━━━━━━━━━━━━━━━\u001b[0m \u001b[32m13.8/13.8 MB\u001b[0m \u001b[31m52.1 MB/s\u001b[0m eta \u001b[36m0:00:00\u001b[0m\n",
            "\u001b[?25hDownloading nvidia_cuda_nvrtc_cu12-12.4.127-py3-none-manylinux2014_x86_64.whl (24.6 MB)\n",
            "\u001b[2K   \u001b[90m━━━━━━━━━━━━━━━━━━━━━━━━━━━━━━━━━━━━━━━━\u001b[0m \u001b[32m24.6/24.6 MB\u001b[0m \u001b[31m38.9 MB/s\u001b[0m eta \u001b[36m0:00:00\u001b[0m\n",
            "\u001b[?25hDownloading nvidia_cuda_runtime_cu12-12.4.127-py3-none-manylinux2014_x86_64.whl (883 kB)\n",
            "\u001b[2K   \u001b[90m━━━━━━━━━━━━━━━━━━━━━━━━━━━━━━━━━━━━━━━━\u001b[0m \u001b[32m883.7/883.7 kB\u001b[0m \u001b[31m43.2 MB/s\u001b[0m eta \u001b[36m0:00:00\u001b[0m\n",
            "\u001b[?25hDownloading nvidia_cudnn_cu12-9.1.0.70-py3-none-manylinux2014_x86_64.whl (664.8 MB)\n",
            "\u001b[2K   \u001b[90m━━━━━━━━━━━━━━━━━━━━━━━━━━━━━━━━━━━━━━━━\u001b[0m \u001b[32m664.8/664.8 MB\u001b[0m \u001b[31m2.8 MB/s\u001b[0m eta \u001b[36m0:00:00\u001b[0m\n",
            "\u001b[?25hDownloading nvidia_cufft_cu12-11.2.1.3-py3-none-manylinux2014_x86_64.whl (211.5 MB)\n",
            "\u001b[2K   \u001b[90m━━━━━━━━━━━━━━━━━━━━━━━━━━━━━━━━━━━━━━━━\u001b[0m \u001b[32m211.5/211.5 MB\u001b[0m \u001b[31m5.3 MB/s\u001b[0m eta \u001b[36m0:00:00\u001b[0m\n",
            "\u001b[?25hDownloading nvidia_curand_cu12-10.3.5.147-py3-none-manylinux2014_x86_64.whl (56.3 MB)\n",
            "\u001b[2K   \u001b[90m━━━━━━━━━━━━━━━━━━━━━━━━━━━━━━━━━━━━━━━━\u001b[0m \u001b[32m56.3/56.3 MB\u001b[0m \u001b[31m13.3 MB/s\u001b[0m eta \u001b[36m0:00:00\u001b[0m\n",
            "\u001b[?25hDownloading nvidia_cusolver_cu12-11.6.1.9-py3-none-manylinux2014_x86_64.whl (127.9 MB)\n",
            "\u001b[2K   \u001b[90m━━━━━━━━━━━━━━━━━━━━━━━━━━━━━━━━━━━━━━━━\u001b[0m \u001b[32m127.9/127.9 MB\u001b[0m \u001b[31m6.6 MB/s\u001b[0m eta \u001b[36m0:00:00\u001b[0m\n",
            "\u001b[?25hDownloading nvidia_cusparse_cu12-12.3.1.170-py3-none-manylinux2014_x86_64.whl (207.5 MB)\n",
            "\u001b[2K   \u001b[90m━━━━━━━━━━━━━━━━━━━━━━━━━━━━━━━━━━━━━━━━\u001b[0m \u001b[32m207.5/207.5 MB\u001b[0m \u001b[31m5.3 MB/s\u001b[0m eta \u001b[36m0:00:00\u001b[0m\n",
            "\u001b[?25hDownloading nvidia_nvjitlink_cu12-12.4.127-py3-none-manylinux2014_x86_64.whl (21.1 MB)\n",
            "\u001b[2K   \u001b[90m━━━━━━━━━━━━━━━━━━━━━━━━━━━━━━━━━━━━━━━━\u001b[0m \u001b[32m21.1/21.1 MB\u001b[0m \u001b[31m84.1 MB/s\u001b[0m eta \u001b[36m0:00:00\u001b[0m\n",
            "\u001b[?25hDownloading torchmetrics-1.7.1-py3-none-any.whl (961 kB)\n",
            "\u001b[2K   \u001b[90m━━━━━━━━━━━━━━━━━━━━━━━━━━━━━━━━━━━━━━━━\u001b[0m \u001b[32m961.5/961.5 kB\u001b[0m \u001b[31m51.4 MB/s\u001b[0m eta \u001b[36m0:00:00\u001b[0m\n",
            "\u001b[?25hInstalling collected packages: nvidia-nvjitlink-cu12, nvidia-curand-cu12, nvidia-cufft-cu12, nvidia-cuda-runtime-cu12, nvidia-cuda-nvrtc-cu12, nvidia-cuda-cupti-cu12, nvidia-cublas-cu12, lightning-utilities, nvidia-cusparse-cu12, nvidia-cudnn-cu12, nvidia-cusolver-cu12, torchmetrics, pytorch_lightning\n",
            "  Attempting uninstall: nvidia-nvjitlink-cu12\n",
            "    Found existing installation: nvidia-nvjitlink-cu12 12.5.82\n",
            "    Uninstalling nvidia-nvjitlink-cu12-12.5.82:\n",
            "      Successfully uninstalled nvidia-nvjitlink-cu12-12.5.82\n",
            "  Attempting uninstall: nvidia-curand-cu12\n",
            "    Found existing installation: nvidia-curand-cu12 10.3.6.82\n",
            "    Uninstalling nvidia-curand-cu12-10.3.6.82:\n",
            "      Successfully uninstalled nvidia-curand-cu12-10.3.6.82\n",
            "  Attempting uninstall: nvidia-cufft-cu12\n",
            "    Found existing installation: nvidia-cufft-cu12 11.2.3.61\n",
            "    Uninstalling nvidia-cufft-cu12-11.2.3.61:\n",
            "      Successfully uninstalled nvidia-cufft-cu12-11.2.3.61\n",
            "  Attempting uninstall: nvidia-cuda-runtime-cu12\n",
            "    Found existing installation: nvidia-cuda-runtime-cu12 12.5.82\n",
            "    Uninstalling nvidia-cuda-runtime-cu12-12.5.82:\n",
            "      Successfully uninstalled nvidia-cuda-runtime-cu12-12.5.82\n",
            "  Attempting uninstall: nvidia-cuda-nvrtc-cu12\n",
            "    Found existing installation: nvidia-cuda-nvrtc-cu12 12.5.82\n",
            "    Uninstalling nvidia-cuda-nvrtc-cu12-12.5.82:\n",
            "      Successfully uninstalled nvidia-cuda-nvrtc-cu12-12.5.82\n",
            "  Attempting uninstall: nvidia-cuda-cupti-cu12\n",
            "    Found existing installation: nvidia-cuda-cupti-cu12 12.5.82\n",
            "    Uninstalling nvidia-cuda-cupti-cu12-12.5.82:\n",
            "      Successfully uninstalled nvidia-cuda-cupti-cu12-12.5.82\n",
            "  Attempting uninstall: nvidia-cublas-cu12\n",
            "    Found existing installation: nvidia-cublas-cu12 12.5.3.2\n",
            "    Uninstalling nvidia-cublas-cu12-12.5.3.2:\n",
            "      Successfully uninstalled nvidia-cublas-cu12-12.5.3.2\n",
            "  Attempting uninstall: nvidia-cusparse-cu12\n",
            "    Found existing installation: nvidia-cusparse-cu12 12.5.1.3\n",
            "    Uninstalling nvidia-cusparse-cu12-12.5.1.3:\n",
            "      Successfully uninstalled nvidia-cusparse-cu12-12.5.1.3\n",
            "  Attempting uninstall: nvidia-cudnn-cu12\n",
            "    Found existing installation: nvidia-cudnn-cu12 9.3.0.75\n",
            "    Uninstalling nvidia-cudnn-cu12-9.3.0.75:\n",
            "      Successfully uninstalled nvidia-cudnn-cu12-9.3.0.75\n",
            "  Attempting uninstall: nvidia-cusolver-cu12\n",
            "    Found existing installation: nvidia-cusolver-cu12 11.6.3.83\n",
            "    Uninstalling nvidia-cusolver-cu12-11.6.3.83:\n",
            "      Successfully uninstalled nvidia-cusolver-cu12-11.6.3.83\n",
            "Successfully installed lightning-utilities-0.14.3 nvidia-cublas-cu12-12.4.5.8 nvidia-cuda-cupti-cu12-12.4.127 nvidia-cuda-nvrtc-cu12-12.4.127 nvidia-cuda-runtime-cu12-12.4.127 nvidia-cudnn-cu12-9.1.0.70 nvidia-cufft-cu12-11.2.1.3 nvidia-curand-cu12-10.3.5.147 nvidia-cusolver-cu12-11.6.1.9 nvidia-cusparse-cu12-12.3.1.170 nvidia-nvjitlink-cu12-12.4.127 pytorch_lightning-2.5.1 torchmetrics-1.7.1\n"
          ]
        }
      ],
      "source": [
        "from typing import *\n",
        "!pip install pytorch_lightning\n",
        "from pytorch_lightning import seed_everything\n",
        "from tqdm.auto import tqdm"
      ]
    },
    {
      "cell_type": "code",
      "execution_count": null,
      "metadata": {
        "id": "D9TZUxavyzV1"
      },
      "outputs": [],
      "source": [
        "\"\"\"\n",
        "This code is adopted from Moschella et al's work: https://github.com/lucmos/relreps?tab=readme-ov-file\n",
        "\"\"\"\n",
        "def relative_projection(x: torch.Tensor, anchors: torch.Tensor) -> torch.Tensor:\n",
        "    \"\"\"Compute the relative representation of x with the cosine similarity\n",
        "\n",
        "    Args:\n",
        "        x: the samples absolute latents [batch, hidden_dim]\n",
        "        anchors: the anchors absolute latents [anchors, hidden_dim]\n",
        "\n",
        "    Returns:\n",
        "        the relative representation of x. The relative representation is *not* normalized,\n",
        "        when training on relative representation it is useful to normalize it\n",
        "    \"\"\"\n",
        "    x = TF.normalize(x, p=2, dim=-1)\n",
        "    anchors = TF.normalize(anchors, p=2, dim=-1)\n",
        "    return torch.einsum(\"bm, am -> ba\", x, anchors)\n",
        "\n",
        "class LatentSpace:\n",
        "    def __init__(\n",
        "        self,\n",
        "        encoding_type: str,\n",
        "        encoder_name: str,\n",
        "        vectors: torch.Tensor,\n",
        "        ids: Sequence[int],\n",
        "    ):\n",
        "        \"\"\"Utility class to represent a generic latent space\n",
        "\n",
        "        Args:\n",
        "            encoding_type: the type of latent space, i.e. \"absolute\" or \"relative\" usually\n",
        "            encoder_name: the name of the encoder used to obtain the vectors\n",
        "            vectors: the latents that compose the latent space\n",
        "            ids: the ids associated with the vectors\n",
        "        \"\"\"\n",
        "        assert vectors.shape[0] == len(ids)\n",
        "\n",
        "        self.encoding_type: str = encoding_type\n",
        "        self.vectors: torch.Tensor = vectors\n",
        "        self.ids: Sequence[int] = ids\n",
        "        self.encoder_name: str = encoder_name\n",
        "\n",
        "    def get_anchors(self, anchor_choice: str, num_anchors: int, seed: int) -> Sequence[int]:\n",
        "        \"\"\"Adopt some strategy to select the anchors.\n",
        "\n",
        "        Args:\n",
        "            anchor_choice: the selection strategy for the anchors\n",
        "            seed: the random seed to use\n",
        "\n",
        "        Returns:\n",
        "            the ids of the chosen anchors\n",
        "        \"\"\"\n",
        "        # Select anchors\n",
        "        seed_everything(seed)\n",
        "        anchor_set = []\n",
        "\n",
        "        if anchor_choice == \"uniform\":\n",
        "            while (len(anchor_set) != num_anchors):\n",
        "              anchor_id = random.randint(0, len(self.ids))\n",
        "\n",
        "              if anchor_id in anchor_set:\n",
        "                # if the selected anchor is already in the set, pass\n",
        "                continue\n",
        "              elif anchor_id in en_index and anchor_id in zh_index:\n",
        "                # if the selected anchor is in training set include it\n",
        "                anchor_set.append(anchor_id)\n",
        "              else:\n",
        "                continue\n",
        "        elif anchor_choice == \"swadesh\":\n",
        "            for word in swadesh:\n",
        "                anchor_id = word_to_index_en[word]\n",
        "                anchor_set.append(anchor_id)\n",
        "        else:\n",
        "            assert NotImplementedError\n",
        "\n",
        "        result = sorted(anchor_set)\n",
        "\n",
        "        return result\n",
        "\n",
        "    def to_relative(\n",
        "        self, anchor_choice: str = None, seed: int = None, anchors: Optional[Sequence[int]] = None\n",
        "    ) -> \"RelativeSpace\":\n",
        "        \"\"\"Compute the relative transformation on the current space returning a new one.\n",
        "\n",
        "        Args:\n",
        "            anchor_choice: the anchors selection strategy to use, if no anchors are provided\n",
        "            seed: the random seed to use\n",
        "            anchors: the ids of the anchors to use\n",
        "\n",
        "        Returns:\n",
        "            the RelativeSpace associated to the current LatentSpace\n",
        "        \"\"\"\n",
        "        assert self.encoding_type != \"relative\"  # TODO: for now\n",
        "        anchors = self.get_anchors(anchor_choice=anchor_choice, seed=seed) if anchors is None else anchors\n",
        "\n",
        "        anchor_latents: torch.Tensor = self.vectors[anchors]\n",
        "\n",
        "        relative_vectors = relative_projection(x=self.vectors, anchors=anchor_latents.cpu())\n",
        "\n",
        "        return RelativeSpace(vectors=relative_vectors, encoder_name=self.encoder_name, anchors=anchors, ids=self.ids)\n",
        "\n",
        "class RelativeSpace(LatentSpace):\n",
        "    def __init__(\n",
        "        self,\n",
        "        vectors: torch.Tensor,\n",
        "        ids: Sequence[int],\n",
        "        anchors: Sequence[int],\n",
        "        encoder_name: str = None,\n",
        "    ):\n",
        "        \"\"\"Utility class to represent a relative latent space\n",
        "\n",
        "        Args:\n",
        "            vectors: the latents that compose the latent space\n",
        "            ids: the ids associated ot the vectors\n",
        "            encoder_name: the name of the encoder_name used to obtain the vectors\n",
        "            anchors: the ids associated to the anchors to use\n",
        "        \"\"\"\n",
        "        super().__init__(encoding_type=\"relative\", vectors=vectors, encoder_name=encoder_name, ids=ids)\n",
        "        self.anchors: Sequence[int] = anchors"
      ]
    },
    {
      "cell_type": "markdown",
      "metadata": {
        "id": "TGr5nfFsS7Yg"
      },
      "source": [
        "# 6. Create latent space and relative embeddings using chosen anchors"
      ]
    },
    {
      "cell_type": "code",
      "execution_count": null,
      "metadata": {
        "colab": {
          "base_uri": "https://localhost:8080/"
        },
        "id": "Rj27W85-d1Ub",
        "outputId": "bef4920a-d051-4c25-8645-dc00646969f5"
      },
      "outputs": [
        {
          "name": "stdout",
          "output_type": "stream",
          "text": [
            "Chosen English anchors are [197, 238, 253, 398, 549, 816, 823, 1077, 1099, 1103, 1112, 1233, 1363, 1400, 1509, 1521, 2060, 2064, 2083, 2246, 2392, 2416, 2497, 2553, 2595, 2605, 2794, 3081, 3127, 3160, 3164, 3172, 3203, 3245, 3321, 3597, 3608, 3657, 3673, 3981, 4038, 4117, 4177, 4398, 4417, 4458, 4753, 5002, 5125, 5278, 5357, 5472, 5896, 5999, 6141, 6367, 6717, 6871, 7021, 7054, 7203, 7676, 7914, 8085, 8265, 8297, 8469, 8577, 8860, 9327, 9436, 9640, 9671, 9879, 10056, 10136, 10143, 10460, 10484, 10552, 10671, 11050, 11124, 11257, 11350, 11494, 12048, 12576, 12859, 13017, 13167, 13235, 13259, 13357, 13375, 13380, 13493, 13666, 13764, 13815, 13820, 13888, 14668, 14982, 15525, 15649, 15960, 16597, 16716, 16875, 17262, 17405, 17744, 17876, 18037, 18071, 18100, 18349, 18404, 18638, 18852, 18986, 19088, 19202, 19784, 19827, 19842, 19846, 20113, 20449, 20645, 21126, 21285, 21701, 21900, 22337, 22375, 22528, 22628, 22693, 22767, 22908, 23777, 23837, 24578, 24625, 24658, 24844, 25182, 26162, 26366, 27172, 28012, 28726, 29852, 30586, 31174, 31258, 31619, 32940, 32975, 33251, 33541, 34000, 34272, 34599, 35167, 35250, 36370, 38271, 38847, 40380, 45976, 46669, 47324, 47345, 49140, 49807, 50142, 51116, 51262, 51505, 51729, 52629, 52735, 56063, 56179, 58287, 58319, 58427, 61687, 62404, 63780, 63821, 68549, 70518, 76671, 79300, 81616, 81810]\n",
            "Chosen Chinese anchors are [27, 117, 181, 241, 305, 369, 405, 663, 672, 697, 714, 765, 879, 950, 968, 1229, 1301, 1360, 1431, 1437, 1560, 1716, 1766, 1847, 1889, 1903, 2014, 2186, 2253, 2325, 2335, 2816, 2821, 2884, 2934, 2951, 2976, 3032, 3033, 3124, 3165, 3366, 3377, 3411, 3514, 3585, 3590, 3702, 3768, 3852, 3915, 3915, 3968, 4130, 4228, 4327, 4353, 4435, 4449, 4452, 4595, 4608, 4627, 4894, 5094, 5119, 5144, 5399, 5476, 5620, 5794, 5823, 5825, 5840, 6140, 6536, 6928, 7430, 7522, 7531, 7594, 7745, 7853, 7937, 8008, 8453, 8831, 9040, 9131, 9455, 9635, 10487, 10721, 10869, 11032, 11099, 11383, 11720, 11770, 11931, 12013, 12353, 12827, 13065, 13414, 13585, 14010, 14179, 14331, 14684, 14705, 14791, 14897, 14939, 15402, 16276, 16460, 17304, 17551, 17672, 17821, 17834, 18048, 18203, 18248, 18597, 18718, 18732, 18990, 19036, 19276, 19458, 19562, 19568, 19789, 19999, 20080, 20410, 20810, 20946, 21730, 21744, 22370, 22502, 22531, 23188, 23312, 23944, 25036, 25263, 25420, 25441, 25877, 26585, 26681, 26835, 27461, 28493, 28832, 29205, 29303, 29352, 30148, 30457, 30478, 32212, 34712, 36882, 37263, 39382, 40491, 41262, 42333, 43414, 44198, 45017, 46526, 47629, 49224, 50434, 57127, 58400, 58855, 58866, 59802, 60824, 62331, 63557, 65757, 66861, 70924, 70978, 72150, 74098, 75419, 77827, 81354, 84069, 86063, 89327]\n"
          ]
        }
      ],
      "source": [
        "# Read dictionary to memory\n",
        "def read_anchors(filePath):\n",
        "    # for reading also binary mode is important\n",
        "    with open(filePath, 'rb') as fp:\n",
        "        n_list = json.load(fp)\n",
        "        return n_list\n",
        "\n",
        "r_anchors = read_anchors(\"gdrive/MyDrive/RelRep/data/anchors_random_dim_200.json\")\n",
        "print('Chosen English anchors are', r_anchors[\"en\"])\n",
        "print('Chosen Chinese anchors are', r_anchors[\"zh\"])"
      ]
    },
    {
      "cell_type": "code",
      "execution_count": null,
      "metadata": {
        "colab": {
          "base_uri": "https://localhost:8080/"
        },
        "id": "68WT-O93IcnC",
        "outputId": "879b0714-cb68-49ed-8f36-c0a3f4e6be64"
      },
      "outputs": [
        {
          "name": "stdout",
          "output_type": "stream",
          "text": [
            "Number of anchors = 200\n"
          ]
        }
      ],
      "source": [
        "# Double check number of anchors are equal in English and Chinese\n",
        "assert len(r_anchors[\"en\"]) == len(r_anchors[\"zh\"])\n",
        "NUM_ANCHORS = len(r_anchors[\"en\"])\n",
        "print(\"Number of anchors =\", NUM_ANCHORS)"
      ]
    },
    {
      "cell_type": "code",
      "execution_count": null,
      "metadata": {
        "colab": {
          "base_uri": "https://localhost:8080/"
        },
        "id": "9oz5su1eT9Xy",
        "outputId": "4a4b02e4-49da-406e-9f68-c438c644a7a6"
      },
      "outputs": [
        {
          "name": "stdout",
          "output_type": "stream",
          "text": [
            "Selected English anchor ids are: [197, 238, 253, 398, 549, 816, 823, 1077, 1099, 1103, 1112, 1233, 1363, 1400, 1509, 1521, 2060, 2064, 2083, 2246, 2392, 2416, 2497, 2553, 2595, 2605, 2794, 3081, 3127, 3160, 3164, 3172, 3203, 3245, 3321, 3597, 3608, 3657, 3673, 3981, 4038, 4117, 4177, 4398, 4417, 4458, 4753, 5002, 5125, 5278, 5357, 5472, 5896, 5999, 6141, 6367, 6717, 6871, 7021, 7054, 7203, 7676, 7914, 8085, 8265, 8297, 8469, 8577, 8860, 9327, 9436, 9640, 9671, 9879, 10056, 10136, 10143, 10460, 10484, 10552, 10671, 11050, 11124, 11257, 11350, 11494, 12048, 12576, 12859, 13017, 13167, 13235, 13259, 13357, 13375, 13380, 13493, 13666, 13764, 13815, 13820, 13888, 14668, 14982, 15525, 15649, 15960, 16597, 16716, 16875, 17262, 17405, 17744, 17876, 18037, 18071, 18100, 18349, 18404, 18638, 18852, 18986, 19088, 19202, 19784, 19827, 19842, 19846, 20113, 20449, 20645, 21126, 21285, 21701, 21900, 22337, 22375, 22528, 22628, 22693, 22767, 22908, 23777, 23837, 24578, 24625, 24658, 24844, 25182, 26162, 26366, 27172, 28012, 28726, 29852, 30586, 31174, 31258, 31619, 32940, 32975, 33251, 33541, 34000, 34272, 34599, 35167, 35250, 36370, 38271, 38847, 40380, 45976, 46669, 47324, 47345, 49140, 49807, 50142, 51116, 51262, 51505, 51729, 52629, 52735, 56063, 56179, 58287, 58319, 58427, 61687, 62404, 63780, 63821, 68549, 70518, 76671, 79300, 81616, 81810]\n",
            "En absolute embedding shape torch.Size([82615, 100])\n",
            "En relative embedding shape torch.Size([82615, 200])\n"
          ]
        }
      ],
      "source": [
        "NUM_SAMPLES_EN = vocab_size_en\n",
        "\n",
        "en_anchors_ids = r_anchors[\"en\"]\n",
        "print(\"Selected English anchor ids are:\", en_anchors_ids)\n",
        "\n",
        "# Create English latent space from English absolute embeddings\n",
        "en_abs_embedding = torch.FloatTensor(en_embedding)\n",
        "\n",
        "en_abs_latent_space = LatentSpace(\n",
        "    encoding_type=\"absolute\",\n",
        "    encoder_name=\"english abs embedding\",\n",
        "    vectors=en_abs_embedding,\n",
        "    ids=list(range(NUM_SAMPLES_EN)),\n",
        ")\n",
        "print(\"En absolute embedding shape\", en_abs_latent_space.vectors.shape)\n",
        "\n",
        "en_rel_latent_space = en_abs_latent_space.to_relative(anchors=en_anchors_ids)\n",
        "print(\"En relative embedding shape\", en_rel_latent_space.vectors.shape)"
      ]
    },
    {
      "cell_type": "code",
      "execution_count": null,
      "metadata": {
        "colab": {
          "base_uri": "https://localhost:8080/"
        },
        "id": "wjcO68HBUkqh",
        "outputId": "8a13ce0a-62c6-4f1f-b8e0-9ee4bed78bab"
      },
      "outputs": [
        {
          "name": "stdout",
          "output_type": "stream",
          "text": [
            "Corresponding Chinese anchor ids are: [27, 117, 181, 241, 305, 369, 405, 663, 672, 697, 714, 765, 879, 950, 968, 1229, 1301, 1360, 1431, 1437, 1560, 1716, 1766, 1847, 1889, 1903, 2014, 2186, 2253, 2325, 2335, 2816, 2821, 2884, 2934, 2951, 2976, 3032, 3033, 3124, 3165, 3366, 3377, 3411, 3514, 3585, 3590, 3702, 3768, 3852, 3915, 3915, 3968, 4130, 4228, 4327, 4353, 4435, 4449, 4452, 4595, 4608, 4627, 4894, 5094, 5119, 5144, 5399, 5476, 5620, 5794, 5823, 5825, 5840, 6140, 6536, 6928, 7430, 7522, 7531, 7594, 7745, 7853, 7937, 8008, 8453, 8831, 9040, 9131, 9455, 9635, 10487, 10721, 10869, 11032, 11099, 11383, 11720, 11770, 11931, 12013, 12353, 12827, 13065, 13414, 13585, 14010, 14179, 14331, 14684, 14705, 14791, 14897, 14939, 15402, 16276, 16460, 17304, 17551, 17672, 17821, 17834, 18048, 18203, 18248, 18597, 18718, 18732, 18990, 19036, 19276, 19458, 19562, 19568, 19789, 19999, 20080, 20410, 20810, 20946, 21730, 21744, 22370, 22502, 22531, 23188, 23312, 23944, 25036, 25263, 25420, 25441, 25877, 26585, 26681, 26835, 27461, 28493, 28832, 29205, 29303, 29352, 30148, 30457, 30478, 32212, 34712, 36882, 37263, 39382, 40491, 41262, 42333, 43414, 44198, 45017, 46526, 47629, 49224, 50434, 57127, 58400, 58855, 58866, 59802, 60824, 62331, 63557, 65757, 66861, 70924, 70978, 72150, 74098, 75419, 77827, 81354, 84069, 86063, 89327]\n",
            "Zh absolute embedding shape torch.Size([95685, 100])\n",
            "Zh relative embedding shape torch.Size([95685, 200])\n"
          ]
        }
      ],
      "source": [
        "NUM_SAMPLES_ZH = vocab_size_zh\n",
        "\n",
        "zh_anchors_ids = r_anchors[\"zh\"]\n",
        "print(\"Corresponding Chinese anchor ids are:\", zh_anchors_ids)\n",
        "\n",
        "zh_abs_embedding = torch.FloatTensor(zh_embedding)\n",
        "\n",
        "zh_abs_latent_space = LatentSpace(\n",
        "    encoding_type=\"absolute\",\n",
        "    encoder_name=\"chinese abs embedding\",\n",
        "    vectors=zh_abs_embedding,\n",
        "    ids=list(range(NUM_SAMPLES_ZH)),\n",
        ")\n",
        "\n",
        "# The shape is [num_samples, hidden_dim]\n",
        "print(\"Zh absolute embedding shape\", zh_abs_latent_space.vectors.shape)\n",
        "\n",
        "# Transform Chinese absolute latent space to relative latent space using the anchors chosen\n",
        "zh_rel_latent_space = zh_abs_latent_space.to_relative(anchors=zh_anchors_ids)\n",
        "print(\"Zh relative embedding shape\", zh_rel_latent_space.vectors.shape)"
      ]
    },
    {
      "cell_type": "markdown",
      "metadata": {
        "id": "cJDdmZsiT5Ik"
      },
      "source": [
        "# 7. ZhRelAbs Model"
      ]
    },
    {
      "cell_type": "code",
      "execution_count": null,
      "metadata": {
        "id": "NFn8FqLRzlOT"
      },
      "outputs": [],
      "source": [
        "class ZhZhAutoencoderTW(nn.Module):\n",
        "    \"\"\"\n",
        "    Autoencoder to learn the weights connecting Chinese\n",
        "    embeddings back to one-hot vectors. Initialize the\n",
        "    weights connecting the embeddings and one-hot vectors\n",
        "    with the transpose of the weights from the Tecent\n",
        "    pretrained model, connecting the one-hot vector and\n",
        "    embedding, to speed up training.\n",
        "    \"\"\"\n",
        "    def __init__(self, pretrained):\n",
        "        super(ZhZhAutoencoderTW, self).__init__()\n",
        "\n",
        "        # Save the pretrained embedding within the model\n",
        "        # load pretrained embeddings and freeze them\n",
        "        self.weights    = torch.FloatTensor(pretrained.vectors)\n",
        "        self.encoder    = nn.Embedding.from_pretrained(self.weights, freeze = True)\n",
        "\n",
        "        # Make a copy of the pretrained weights and use them in the following layers\n",
        "        copy_pretrained = copy.deepcopy(pretrained)\n",
        "        self.copyweight = torch.FloatTensor(copy_pretrained.vectors)\n",
        "        self.decoder    = nn.Parameter(self.copyweight.t())\n",
        "\n",
        "    def forward(self, text):\n",
        "        \"\"\"The pipeline that takes input values through the network\"\"\"\n",
        "        # Find the embeddings for text\n",
        "        trained_embed = self.encoder(text)\n",
        "\n",
        "        # Turn embedding back to one-hot\n",
        "        one_hot       = trained_embed @ self.decoder\n",
        "\n",
        "        return one_hot"
      ]
    },
    {
      "cell_type": "markdown",
      "metadata": {
        "id": "WQ2ppyk_iJIe"
      },
      "source": [
        "# 8. EnZh Autoencoder"
      ]
    },
    {
      "cell_type": "code",
      "execution_count": null,
      "metadata": {
        "id": "SCT4ObZaiQjL"
      },
      "outputs": [],
      "source": [
        "# Autoencoder to learn the weights connecting embeddings back to one-hot vectors\n",
        "class EnZhAutoencoderHidden(nn.Module):\n",
        "\n",
        "    def __init__(self, pretrained_en, pretrained_zh):\n",
        "        super(EnZhAutoencoderHidden, self).__init__()\n",
        "\n",
        "        # Save the pretrained English embedding from Tencent within the model\n",
        "        # load pretrained embeddings and freeze them\n",
        "        self.weights_en = torch.FloatTensor(pretrained_en.vectors)\n",
        "        self.encoder    = nn.Embedding.from_pretrained(self.weights_en, freeze = True)\n",
        "\n",
        "        # Load the pretrained weights from zhzhautoencoder\n",
        "        # Use the pretrained weights to map Chinese embedding to one-hot\n",
        "        # ***** use the tranpose!!!\n",
        "        self.zh_weights = pretrained_zh\n",
        "        self.decoder    = nn.Parameter(self.zh_weights, requires_grad=False)\n",
        "        self.bias       = nn.Parameter(torch.FloatTensor(1, 1).uniform_(-1, 1))\n",
        "\n",
        "        # Hidden layer definition\n",
        "        self.hidden = nn.Sequential(\n",
        "            nn.Linear(200, 100),\n",
        "            nn.LeakyReLU(),\n",
        "            nn.Linear(100, 200)\n",
        "        )\n",
        "\n",
        "    def forward(self, text):\n",
        "        \"\"\"The pipeline that takes input values through the network\"\"\"\n",
        "        # Find the English embedding\n",
        "        eng_emb = self.encoder(text)\n",
        "        # Pass the English embedding through hidden layer\n",
        "        zh_emb  = self.hidden(eng_emb) # torch.Size([256, 100])\n",
        "        # Find the corresponding index of Chinese word for\n",
        "        # the English embedding decoder: torch.Size([100, 2000000])\n",
        "        one_hot = zh_emb @ self.decoder\n",
        "        return one_hot + self.bias"
      ]
    },
    {
      "cell_type": "code",
      "execution_count": null,
      "metadata": {
        "colab": {
          "base_uri": "https://localhost:8080/"
        },
        "id": "og1jvjraLUdr",
        "outputId": "7c46edcf-f46c-4b2a-97f8-e84d2625831b"
      },
      "outputs": [
        {
          "name": "stdout",
          "output_type": "stream",
          "text": [
            "Using cuda device\n"
          ]
        }
      ],
      "source": [
        "device = 'cuda' if torch.cuda.is_available() else 'cpu'\n",
        "print('Using {} device'.format(device))"
      ]
    },
    {
      "cell_type": "code",
      "execution_count": null,
      "metadata": {
        "id": "ncqZxYDOgCdJ"
      },
      "outputs": [],
      "source": [
        "with open('../data/pos_weight.pkl', 'rb') as file:\n",
        "\n",
        "    # A new file will be created\n",
        "    pos_weight = pickle.load(file)\n",
        "    file.close()\n",
        "\n",
        "# for adjusting the high recall low precision\n",
        "for i in range(len(pos_weight)):\n",
        "    if (pos_weight[i] != 1):\n",
        "        pos_weight[i] = pos_weight[i] * 0.02"
      ]
    },
    {
      "cell_type": "code",
      "execution_count": null,
      "metadata": {
        "colab": {
          "base_uri": "https://localhost:8080/"
        },
        "id": "GL5fezZSYa_z",
        "outputId": "e708d528-9799-4aa7-c07f-95b12740e43f"
      },
      "outputs": [
        {
          "name": "stderr",
          "output_type": "stream",
          "text": [
            "<ipython-input-28-c2282fd378e4>:2: FutureWarning: You are using `torch.load` with `weights_only=False` (the current default value), which uses the default pickle module implicitly. It is possible to construct malicious pickle data which will execute arbitrary code during unpickling (See https://github.com/pytorch/pytorch/blob/main/SECURITY.md#untrusted-models for more details). In a future release, the default value for `weights_only` will be flipped to `True`. This limits the functions that could be executed during unpickling. Arbitrary objects will no longer be allowed to be loaded via this mode unless they are explicitly allowlisted by the user via `torch.serialization.add_safe_globals`. We recommend you start setting `weights_only=True` for any use case where you don't have full control of the loaded file. Please open an issue on GitHub for any issues related to this experimental feature.\n",
            "  state = torch.load('gdrive/MyDrive/RelRep/ckpt/zh_rel_to_abs_random_a200_e100-200_TEST.pt')\n"
          ]
        }
      ],
      "source": [
        "model_zhzh = ZhZhAutoencoderTW(zh_rel_latent_space).to(device)\n",
        "state = torch.load('gdrive/MyDrive/RelRep/ckpt/zh_rel_to_abs_random_a200_e100-200_TEST.pt')\n",
        "model_zhzh.load_state_dict(state['model_state_dict'])\n",
        "model_zhzh_decoder = model_zhzh.decoder.clone()\n",
        "model_enzh = EnZhAutoencoderHidden(en_rel_latent_space, model_zhzh_decoder).to(device)\n",
        "optimizer = torch.optim.Adam(model_enzh.parameters(), lr=0.01)\n",
        "criterion = nn.BCEWithLogitsLoss(pos_weight=pos_weight.to(device))"
      ]
    },
    {
      "cell_type": "markdown",
      "metadata": {
        "id": "sNqxQYyKq1Ex"
      },
      "source": [
        "# 9. Training"
      ]
    },
    {
      "cell_type": "code",
      "execution_count": null,
      "metadata": {
        "id": "cC2TIERnnCZ9"
      },
      "outputs": [],
      "source": [
        "import time\n",
        "import math\n",
        "\n",
        "def timeSince(since):\n",
        "    now = time.time()\n",
        "    s = now - since\n",
        "    m = math.floor(s / 60)\n",
        "    s -= m * 60\n",
        "    return '%dm %ds' % (m, s)"
      ]
    },
    {
      "cell_type": "code",
      "execution_count": null,
      "metadata": {
        "id": "Xfbv5MbW88xA"
      },
      "outputs": [],
      "source": [
        "with open('gdrive/MyDrive/RelRep/data/training_index_FINAL.pkl', 'rb') as file:\n",
        "\n",
        "    # Call load method to deserialze\n",
        "    training_index = set(pickle.load(file))\n",
        "    file.close()\n",
        "with open('gdrive/MyDrive/RelRep/data/validation_index_FINAL.pkl', 'rb') as file:\n",
        "\n",
        "    # Call load method to deserialze\n",
        "    validation_index = set(pickle.load(file))\n",
        "    file.close()\n",
        "with open('gdrive/MyDrive/RelRep/data/testing_index_FINAL.pkl', 'rb') as file:\n",
        "\n",
        "    # Call load method to deserialze\n",
        "    testing_index = set(pickle.load(file))\n",
        "    file.close()"
      ]
    },
    {
      "cell_type": "code",
      "execution_count": null,
      "metadata": {
        "colab": {
          "base_uri": "https://localhost:8080/"
        },
        "id": "Y7vsc3_nJ9mE",
        "outputId": "9f1765e3-7e6b-45b4-c2c8-a2b71cebe548"
      },
      "outputs": [
        {
          "name": "stdout",
          "output_type": "stream",
          "text": [
            "Data format: {'en_index': 20197, 'zh_index': tensor([0., 0., 0.,  ..., 0., 0., 0.])}\n"
          ]
        }
      ],
      "source": [
        "train_data = TrainData(training_data)\n",
        "valid_data = TrainData(validation_data)\n",
        "test_data  = TrainData(testing_data)\n",
        "print(\"Data format:\", train_data[5])"
      ]
    },
    {
      "cell_type": "code",
      "execution_count": null,
      "metadata": {
        "id": "KCcNiZ3NNqFA"
      },
      "outputs": [],
      "source": [
        "BATCH_SIZE = 512\n",
        "\n",
        "train_loader = torch.utils.data.DataLoader(dataset=train_data,\n",
        "                                           batch_size=BATCH_SIZE,\n",
        "                                           shuffle=True,\n",
        "                                           collate_fn=collate_batch)\n",
        "valid_loader = torch.utils.data.DataLoader(dataset=valid_data,\n",
        "                                           batch_size=BATCH_SIZE,\n",
        "                                           shuffle=True,\n",
        "                                           collate_fn=collate_batch)\n",
        "test_loader = torch.utils.data.DataLoader(dataset=test_data,\n",
        "                                           batch_size=BATCH_SIZE,\n",
        "                                           shuffle=True,\n",
        "                                           collate_fn=collate_batch)"
      ]
    },
    {
      "cell_type": "code",
      "execution_count": null,
      "metadata": {
        "id": "5FBnfI2cqgho"
      },
      "outputs": [],
      "source": [
        "# credit: https://gist.github.com/the-bass/cae9f3976866776dea17a5049013258d\n",
        "def eval(prediction, truth, threshold=0.5):\n",
        "    \"\"\" Returns the confusion matrix for the values in the `prediction` and `truth`\n",
        "    tensors, i.e. the amount of positions where the values of `prediction`\n",
        "    and `truth` are\n",
        "    - 1 and 1 (True Positive)\n",
        "    - 1 and 0 (False Positive)\n",
        "    - 0 and 0 (True Negative)\n",
        "    - 0 and 1 (False Negative)\n",
        "    \"\"\"\n",
        "    prediction = (prediction>=threshold).int()\n",
        "    confusion_vector = prediction / truth\n",
        "    # Element-wise division of the 2 tensors returns a new tensor which holds a\n",
        "    # unique value for each case:\n",
        "    #   1     where prediction and truth are 1 (True Positive)\n",
        "    #   inf   where prediction is 1 and truth is 0 (False Positive)\n",
        "    #   nan   where prediction and truth are 0 (True Negative)\n",
        "    #   0     where prediction is 0 and truth is 1 (False Negative)\n",
        "    TP = torch.sum(confusion_vector == 1).item()\n",
        "    FP = torch.sum(confusion_vector == float('inf')).item()\n",
        "    FN = torch.sum(confusion_vector == 0).item()\n",
        "    BATCH_MACRO = torch.stack((torch.sum(confusion_vector == 1, dim=0),\n",
        "                               torch.sum(confusion_vector == float('inf'), dim=0),\n",
        "                               torch.sum(confusion_vector == 0, dim=0)))\n",
        "\n",
        "    # Jaccard metric\n",
        "    jaccard = prediction.numpy()\n",
        "    INDICES = set(np.where(jaccard==1)[1])\n",
        "    return TP, FP, FN, BATCH_MACRO, INDICES"
      ]
    },
    {
      "cell_type": "code",
      "execution_count": null,
      "metadata": {
        "id": "U552-ZWDmV8f"
      },
      "outputs": [],
      "source": [
        "def evalCalc(EPOCH_TP, EPOCH_FP, EPOCH_FN, EPOCH_MACRO, JACCARD, TYPE):\n",
        "    evaluation = {}\n",
        "    # Metric calc - micro\n",
        "    if (EPOCH_FP+EPOCH_TP==0) or (EPOCH_FN+EPOCH_TP==0) or (EPOCH_TP==0):\n",
        "        # handles edge case when model predicts everything negative\n",
        "        precision_micro = \"N/A\"\n",
        "        recall_micro    = \"N/A\"\n",
        "        F1_micro        = \"N/A\"\n",
        "    else:\n",
        "        precision_micro = EPOCH_TP/(EPOCH_FP+EPOCH_TP)\n",
        "        recall_micro    = EPOCH_TP/(EPOCH_FN+EPOCH_TP)\n",
        "        F1_micro        = 2*precision_micro*recall_micro/(precision_micro+recall_micro)\n",
        "\n",
        "    # Metric calc - macro\n",
        "    precision = torch.div(EPOCH_MACRO[0], EPOCH_MACRO[0]+EPOCH_MACRO[1])\n",
        "    precision[torch.isnan(precision)] = 0\n",
        "    recall = torch.div(EPOCH_MACRO[0], EPOCH_MACRO[0]+EPOCH_MACRO[2])\n",
        "    recall[torch.isnan(recall)] = 0\n",
        "    if (torch.sum(precision)==0) or (torch.sum(recall)==0) or (torch.sum(EPOCH_MACRO[0])==0):\n",
        "        # handles edge case when model predicts everything negative\n",
        "        precision_macro = \"N/A\"\n",
        "        recall_macro    = \"N/A\"\n",
        "        F1_macro        = \"N/A\"\n",
        "    else:\n",
        "        precision_macro = torch.mean(precision).item()\n",
        "        recall_macro    = torch.mean(recall).item()\n",
        "        F1_macro        = 2*precision_macro*recall_macro/(precision_macro+recall_macro)\n",
        "\n",
        "    # Jaccard metric\n",
        "    if (TYPE == \"training\"):\n",
        "        j_metric = float(len(JACCARD & training_index)) / float(len(JACCARD | training_index))\n",
        "    elif (TYPE == \"validation\"):\n",
        "        j_metric = float(len(JACCARD & validation_index)) / float(len(JACCARD | validation_index))\n",
        "    elif (TYPE == \"testing\"):\n",
        "        j_metric = float(len(JACCARD & testing_index)) / float(len(JACCARD | testing_index))\n",
        "\n",
        "    evaluation[\"precision_micro\"] = precision_micro\n",
        "    evaluation[\"recall_micro\"]    = recall_micro\n",
        "    evaluation[\"F1_micro\"]        = F1_micro\n",
        "    evaluation[\"precision_macro\"] = precision_macro\n",
        "    evaluation[\"recall_macro\"]    = recall_macro\n",
        "    evaluation[\"F1_macro\"]        = F1_macro\n",
        "    evaluation[\"Jaccard\"]         = j_metric\n",
        "    return evaluation"
      ]
    },
    {
      "cell_type": "code",
      "execution_count": null,
      "metadata": {
        "id": "Vw-2jCZ0Pb9Q"
      },
      "outputs": [],
      "source": [
        "def train(model, train_history, modelFilePath, train_evalpath, valid_evalpath, jaccard_train_path,\n",
        "        jaccard_valid_path, num_epochs, optimizer, criterion, batch_size, train_loader, valid_loader,\n",
        "        base_lr, final_lr):\n",
        "\n",
        "    train_loss = []\n",
        "    train_eval = []\n",
        "    valid_loss = []\n",
        "    valid_eval = []\n",
        "    jaccard_train = []\n",
        "    jaccard_valid = []\n",
        "    TYPE = \"training\"\n",
        "    start = time.time()\n",
        "    scheduler = CosineScheduler(max_update=num_epochs, base_lr=base_lr, final_lr=final_lr)\n",
        "    print(\"Begin training...\", file=open(train_history, 'a'))\n",
        "    print(\"\\n-----Batch Size =\", batch_size, \"NUM_ANCHORS =\", NUM_ANCHORS, file=open(train_history, 'a'))\n",
        "\n",
        "    for epoch in range(num_epochs):\n",
        "        losses = 0\n",
        "        correct = 0\n",
        "        EPOCH_MACRO = torch.zeros((3, vocab_size_zh))\n",
        "        EPOCH_TP = EPOCH_FP = EPOCH_FN = 0\n",
        "        JACCARD = set()\n",
        "        loop = tqdm(enumerate(train_loader), total=len(train_loader), leave=False)\n",
        "        print('\\nEpoch: %d \\nPercent Finished: %d%% Time Elapsed: %s' % (epoch, epoch / num_epochs * 100, timeSince(start)), file=open(train_history, 'a'))\n",
        "\n",
        "        for batch_idx, (en_index, zh_index) in loop:\n",
        "            # Clear gradients w.r.t. parameters\n",
        "            optimizer.zero_grad()\n",
        "\n",
        "            # Move inputs to cuda\n",
        "            en_index = en_index.to(device)\n",
        "            zh_index = zh_index.to(device)\n",
        "\n",
        "            # Forward pass to get output/logits\n",
        "            outputs_train = model(en_index)\n",
        "\n",
        "            # Calculate Loss: BCE\n",
        "            loss = criterion(outputs_train, zh_index.float())\n",
        "            losses += loss.item()\n",
        "\n",
        "            # Getting gradients w.r.t. parameters\n",
        "            loss.backward()\n",
        "\n",
        "            # Evaluation\n",
        "            BATCH_TP, BATCH_FP, BATCH_FN, BATCH_MACRO, INDICES = eval(outputs_train.sigmoid().cpu(), zh_index.cpu())\n",
        "            EPOCH_TP += BATCH_TP\n",
        "            EPOCH_FP += BATCH_FP\n",
        "            EPOCH_FN += BATCH_FN\n",
        "            EPOCH_MACRO += BATCH_MACRO\n",
        "            JACCARD |= INDICES\n",
        "\n",
        "            # Updating parameters\n",
        "            optimizer.step()\n",
        "\n",
        "            # update progress bar\n",
        "            loop.set_description(f\"Train Epoch: [{epoch}/{num_epochs}]\")\n",
        "            loop.set_postfix(loss=loss.item())\n",
        "\n",
        "        avg = losses / len(train_loader)\n",
        "        train_loss.append(avg)\n",
        "        train_eval.append(evalCalc(EPOCH_TP, EPOCH_FP, EPOCH_FN, EPOCH_MACRO, JACCARD, TYPE))\n",
        "        jaccard_train.append(JACCARD)\n",
        "\n",
        "        # Validate the model every 5 epochs\n",
        "        if epoch % 5 == 0:\n",
        "            v_loss, V_JACCARD, v_eval = validation(model, train_history)\n",
        "            valid_loss.append(v_loss)\n",
        "            valid_eval.append(v_eval)\n",
        "            for key, value in v_eval.items():\n",
        "                print(\"      Validation\", key, \":\", value, file=open(train_history, 'a'))\n",
        "            print(\"      Finish validation!\", file=open(train_history, 'a'))\n",
        "            jaccard_valid.append(V_JACCARD)\n",
        "            model.train()\n",
        "\n",
        "        for param_group in optimizer.param_groups:\n",
        "            param_group['lr'] = scheduler(epoch)\n",
        "            print(\"   Learning rate:\", param_group['lr'], file=open(train_history, 'a'))\n",
        "\n",
        "        print(\"   Loss: {:.15f}\".format(avg), file=open(train_history, 'a'))\n",
        "        for key, value in train_eval[-1].items():\n",
        "            print(\"   Training\", key, \":\", value, file=open(train_history, 'a'))\n",
        "\n",
        "        torch.save({'epoch': epoch,\n",
        "                    'model_state_dict': model.state_dict(),\n",
        "                    'optimizer_state_dict': optimizer.state_dict(),\n",
        "                    'train_loss': train_loss,\n",
        "                    'valid_loss': valid_loss,\n",
        "                    'learning_rate': param_group['lr'],\n",
        "                    'train_eval': train_eval,\n",
        "                    'valid_eval': valid_eval,\n",
        "                    'jaccard_train': jaccard_train,\n",
        "                    'jaccard_valid': jaccard_valid\n",
        "                    }, modelFilePath)\n",
        "\n",
        "    with open(train_evalpath, 'wb') as file:\n",
        "        pickle.dump(train_eval, file)\n",
        "    with open(valid_evalpath, 'wb') as file:\n",
        "        pickle.dump(valid_eval, file)\n",
        "    with open(jaccard_train_path, 'wb') as file:\n",
        "        pickle.dump(jaccard_train, file)\n",
        "    with open(jaccard_valid_path, 'wb') as file:\n",
        "        pickle.dump(jaccard_valid, file)\n",
        "    print(\"Finish training!\", file=open(train_history, 'a'))\n",
        "    return train_loss, valid_loss\n",
        "\n",
        "def validation(model, train_history):\n",
        "    print(\"      Begin validation...\", file=open(train_history, 'a'))\n",
        "\n",
        "    model.eval()\n",
        "    with torch.no_grad():\n",
        "        losses = 0\n",
        "        correct = 0\n",
        "        EPOCH_TP = EPOCH_FP = EPOCH_FN = 0\n",
        "        JACCARD = set()\n",
        "        TYPE = \"validation\"\n",
        "        EPOCH_MACRO = torch.zeros((3, vocab_size_zh))\n",
        "        # Iterate through validation dataset\n",
        "        loop = tqdm(enumerate(valid_loader), total=len(valid_loader), leave=False)\n",
        "        for batch_idx, (en_index, zh_index) in loop:\n",
        "\n",
        "            # Move inputs & outputs to cuda\n",
        "            en_index = en_index.to(device)\n",
        "            zh_index = zh_index.to(device)\n",
        "\n",
        "            # Forward pass to get output/logits\n",
        "            outputs_train = model(en_index)\n",
        "\n",
        "            # Calculate Loss: BCE\n",
        "            loss = criterion(outputs_train, zh_index.float())\n",
        "            losses += loss.item()\n",
        "\n",
        "            # Evaluation\n",
        "            BATCH_TP, BATCH_FP, BATCH_FN, BATCH_MACRO, INDICES = eval(outputs_train.sigmoid().cpu(), zh_index.cpu())\n",
        "            EPOCH_TP += BATCH_TP\n",
        "            EPOCH_FP += BATCH_FP\n",
        "            EPOCH_FN += BATCH_FN\n",
        "            EPOCH_MACRO += BATCH_MACRO\n",
        "            JACCARD |= INDICES\n",
        "\n",
        "            # update progress bar\n",
        "            loop.set_description(f\"Validation Batch: [{batch_idx}/{len(valid_loader)}]\")\n",
        "            loop.set_postfix(loss=loss.item())\n",
        "\n",
        "        train_loss = losses / len(valid_loader)\n",
        "\n",
        "        # Print loss\n",
        "        print(\"      Loss: {:.15f}\".format(train_loss), file=open(train_history, 'a'))\n",
        "        return train_loss, JACCARD, evalCalc(EPOCH_TP, EPOCH_FP, EPOCH_FN, EPOCH_MACRO, JACCARD, TYPE)"
      ]
    },
    {
      "cell_type": "code",
      "execution_count": null,
      "metadata": {
        "id": "Ys07_x08Ey-Z"
      },
      "outputs": [],
      "source": [
        "os.makedirs(\"record\", exist_ok=True)\n",
        "os.makedirs(\"ckpt\", exist_ok=True)"
      ]
    },
    {
      "cell_type": "code",
      "execution_count": null,
      "metadata": {
        "id": "DIni41oL2NAA"
      },
      "outputs": [],
      "source": [
        "NUM_EPOCH = 100\n",
        "\n",
        "train_loss, valid_loss = train(model_enzh,\n",
        "                                'gdrive/MyDrive/RelRep/record/EnZhEncoderDecoder.txt',\n",
        "                                'gdrive/MyDrive/RelRep/ckpt/EnZhEncoderDecoder.pt',\n",
        "                                'gdrive/MyDrive/RelRep/record/EnZhEncoderDecoder_train_eval.pkl',\n",
        "                                'gdrive/MyDrive/RelRep/record/EnZhEncoderDecoder_valid_eval.pkl',\n",
        "                                'gdrive/MyDrive/RelRep/record/EnZhEncoderDecoder_jaccard_train.pkl',\n",
        "                                'gdrive/MyDrive/RelRep/record/EnZhEncoderDecoder_jaccard_valid.pkl',\n",
        "                                NUM_EPOCH,\n",
        "                                optimizer,\n",
        "                                criterion,\n",
        "                                BATCH_SIZE,\n",
        "                                train_loader,\n",
        "                                valid_loader,\n",
        "                                base_lr=0.01,\n",
        "                                final_lr=0.0001)\n",
        "\n",
        "import pickle\n",
        "with open('gdrive/MyDrive/RelRep/record/enzh_train_loss.pkl', 'wb') as file:\n",
        "\n",
        "    # A new file will be created\n",
        "    pickle.dump(train_loss, file)\n",
        "with open('gdrive/MyDrive/RelRep/record/enzh_valid_loss.pkl', 'wb') as file:\n",
        "\n",
        "    # A new file will be created\n",
        "    pickle.dump(valid_loss, file)"
      ]
    },
    {
      "cell_type": "code",
      "execution_count": null,
      "metadata": {
        "id": "T013TUPr8u0T"
      },
      "outputs": [],
      "source": [
        "with open('gdrive/MyDrive/RelRep/record/EnZhEncoderDecoder_train_eval.pkl', 'rb') as file:\n",
        "    train_eval = pickle.load(file)\n",
        "    file.close()\n",
        "\n",
        "with open('gdrive/MyDrive/RelRep/record/EnZhEncoderDecoder_valid_eval.pkl', 'rb') as file:\n",
        "    valid_eval = pickle.load(file)\n",
        "    file.close()\n",
        "\n",
        "with open('gdrive/MyDrive/RelRep/record/EnZhEncoderDecoder_jaccard_train.pkl', 'rb') as file:\n",
        "    jaccard_train = pickle.load(file)\n",
        "    file.close()\n",
        "\n",
        "with open('gdrive/MyDrive/RelRep/record/EnZhEncoderDecoder_jaccard_valid.pkl', 'rb') as file:\n",
        "    jaccard_valid = pickle.load(file)\n",
        "    file.close()"
      ]
    },
    {
      "cell_type": "code",
      "execution_count": null,
      "metadata": {
        "colab": {
          "base_uri": "https://localhost:8080/",
          "height": 490
        },
        "id": "U2h3p629Ey8O",
        "outputId": "308e1755-aac9-459e-888f-3ed350b164c5"
      },
      "outputs": [
        {
          "data": {
            "text/plain": [
              "<matplotlib.legend.Legend at 0x7dd1a1ddea90>"
            ]
          },
          "execution_count": 37,
          "metadata": {},
          "output_type": "execute_result"
        },
        {
          "data": {
            "image/png": "[encoded data removed]",
            "text/plain": [
              "<Figure size 640x480 with 1 Axes>"
            ]
          },
          "metadata": {},
          "output_type": "display_data"
        }
      ],
      "source": [
        "xtrain = np.arange(100)\n",
        "plt.plot(xtrain, train_loss, label = \"Training Loss\")\n",
        "plt.xlabel(\"Epochs\")\n",
        "plt.title(\"ZH to EN Encoder Decoder\")\n",
        "plt.legend()"
      ]
    },
    {
      "cell_type": "code",
      "execution_count": null,
      "metadata": {
        "colab": {
          "base_uri": "https://localhost:8080/",
          "height": 490
        },
        "id": "X0LAoSAOVZ0o",
        "outputId": "b09c4358-a58a-4647-ebc7-8e4002cc969d"
      },
      "outputs": [
        {
          "data": {
            "text/plain": [
              "<matplotlib.legend.Legend at 0x7dd1e2046f10>"
            ]
          },
          "execution_count": 38,
          "metadata": {},
          "output_type": "execute_result"
        },
        {
          "data": {
            "image/png": "[encoded data removed]",
            "text/plain": [
              "<Figure size 640x480 with 1 Axes>"
            ]
          },
          "metadata": {},
          "output_type": "display_data"
        }
      ],
      "source": [
        "xtrain = np.arange(20)\n",
        "plt.plot(xtrain, valid_loss, label = \"Validation Loss\")\n",
        "plt.xlabel(\"Epochs\")\n",
        "plt.title(\"ZH to EN Encoder Decoder\")\n",
        "plt.legend()"
      ]
    },
    {
      "cell_type": "code",
      "execution_count": null,
      "metadata": {
        "id": "XCj1DUCc1DRL"
      },
      "outputs": [],
      "source": [
        "train_precision_micro = []\n",
        "train_recall_micro = []\n",
        "train_f1_micro = []\n",
        "train_precision_macro = []\n",
        "train_recall_macro = []\n",
        "train_f1_macro = []\n",
        "train_jaccard = []\n",
        "\n",
        "for index in range(len(train_eval)):\n",
        "    train_precision_micro.append(train_eval[index][\"precision_micro\"])\n",
        "    train_recall_micro.append(train_eval[index][\"recall_micro\"])\n",
        "    train_f1_micro.append(train_eval[index][\"F1_micro\"])\n",
        "    train_precision_macro.append(train_eval[index][\"precision_macro\"])\n",
        "    train_recall_macro.append(train_eval[index][\"recall_macro\"])\n",
        "    train_f1_macro.append(train_eval[index][\"F1_macro\"])\n",
        "    train_jaccard.append(train_eval[index][\"Jaccard\"])"
      ]
    },
    {
      "cell_type": "code",
      "execution_count": null,
      "metadata": {
        "id": "G2rPmM_hSIHD"
      },
      "outputs": [],
      "source": [
        "train_precision_micro = [0 if x == 'N/A' else x for x in train_precision_micro]\n",
        "train_recall_micro = [0 if x == 'N/A' else x for x in train_recall_micro]\n",
        "train_f1_micro = [0 if x == 'N/A' else x for x in train_f1_micro]\n",
        "train_precision_macro = [0 if x == 'N/A' else x for x in train_precision_macro]\n",
        "train_recall_macro = [0 if x == 'N/A' else x for x in train_recall_macro]\n",
        "train_f1_macro = [0 if x == 'N/A' else x for x in train_f1_macro]"
      ]
    },
    {
      "cell_type": "code",
      "execution_count": null,
      "metadata": {
        "colab": {
          "base_uri": "https://localhost:8080/",
          "height": 497
        },
        "id": "P66CWMN03y2L",
        "outputId": "a84bec9b-6999-474e-b214-3e5f5793ff14"
      },
      "outputs": [
        {
          "data": {
            "image/png": "[encoded data removed]",
            "text/plain": [
              "<Figure size 640x480 with 6 Axes>"
            ]
          },
          "metadata": {},
          "output_type": "display_data"
        }
      ],
      "source": [
        "xtrain = np.arange(100)\n",
        "fig, axs = plt.subplots(2, 3)\n",
        "fig.suptitle('Training Performance')\n",
        "axs[0, 0].plot(xtrain, train_precision_micro, 'tab:green')\n",
        "axs[0, 0].set_title(\"Precision Micro\")\n",
        "axs[0, 1].plot(xtrain, train_recall_micro, 'tab:green')\n",
        "axs[0, 1].set_title(\"Recall Micro\")\n",
        "axs[0, 2].plot(xtrain, train_f1_micro, 'tab:green')\n",
        "axs[0, 2].set_title(\"F1 Micro\")\n",
        "axs[1, 0].plot(xtrain, train_precision_macro, 'tab:orange')\n",
        "axs[1, 0].set_title(\"Precision Macro\")\n",
        "axs[1, 1].plot(xtrain, train_recall_macro, 'tab:orange')\n",
        "axs[1, 1].set_title(\"Recall Macro\")\n",
        "axs[1, 2].plot(xtrain, train_f1_macro, 'tab:orange')\n",
        "axs[1, 2].set_title(\"F1 Macro\")\n",
        "\n",
        "for ax in axs.flat:\n",
        "    ax.set(xlabel='Epoch')\n",
        "\n",
        "for ax in fig.get_axes():\n",
        "    ax.label_outer()"
      ]
    },
    {
      "cell_type": "code",
      "execution_count": null,
      "metadata": {
        "colab": {
          "base_uri": "https://localhost:8080/",
          "height": 490
        },
        "id": "SrffzEMx2kfk",
        "outputId": "a81aa89b-10a0-4b09-aab5-b4da1a868268"
      },
      "outputs": [
        {
          "data": {
            "text/plain": [
              "<matplotlib.legend.Legend at 0x7dd218408ed0>"
            ]
          },
          "execution_count": 43,
          "metadata": {},
          "output_type": "execute_result"
        },
        {
          "data": {
            "image/png": "[encoded data removed]",
            "text/plain": [
              "<Figure size 640x480 with 1 Axes>"
            ]
          },
          "metadata": {},
          "output_type": "display_data"
        }
      ],
      "source": [
        "xtrain = np.arange(100)\n",
        "plt.plot(xtrain, train_jaccard, label = \"Training Jaccard\")\n",
        "plt.xlabel(\"Epochs\")\n",
        "plt.title(\"ZH to EN Encoder Decoder\")\n",
        "plt.legend()"
      ]
    },
    {
      "cell_type": "code",
      "execution_count": null,
      "metadata": {
        "id": "kOCHmLdo2TAz"
      },
      "outputs": [],
      "source": [
        "valid_precision_micro = []\n",
        "valid_recall_micro = []\n",
        "valid_f1_micro = []\n",
        "valid_precision_macro = []\n",
        "valid_recall_macro = []\n",
        "valid_f1_macro = []\n",
        "valid_jaccard = []\n",
        "\n",
        "for index in range(len(valid_eval)):\n",
        "    valid_precision_micro.append(valid_eval[index][\"precision_micro\"])\n",
        "    valid_recall_micro.append(valid_eval[index][\"recall_micro\"])\n",
        "    valid_f1_micro.append(valid_eval[index][\"F1_micro\"])\n",
        "    valid_precision_macro.append(valid_eval[index][\"precision_macro\"])\n",
        "    valid_recall_macro.append(valid_eval[index][\"recall_macro\"])\n",
        "    valid_f1_macro.append(valid_eval[index][\"F1_macro\"])\n",
        "    valid_jaccard.append(valid_eval[index][\"Jaccard\"])"
      ]
    },
    {
      "cell_type": "code",
      "execution_count": null,
      "metadata": {
        "id": "oRh0IJMZS49E"
      },
      "outputs": [],
      "source": [
        "valid_precision_micro = [0 if x == 'N/A' else x for x in valid_precision_micro]\n",
        "valid_recall_micro = [0 if x == 'N/A' else x for x in valid_recall_micro]\n",
        "valid_f1_micro = [0 if x == 'N/A' else x for x in valid_f1_micro]\n",
        "valid_precision_macro = [0 if x == 'N/A' else x for x in valid_precision_macro]\n",
        "valid_recall_macro = [0 if x == 'N/A' else x for x in valid_recall_macro]\n",
        "valid_f1_macro = [0 if x == 'N/A' else x for x in valid_f1_macro]"
      ]
    },
    {
      "cell_type": "code",
      "execution_count": null,
      "metadata": {
        "colab": {
          "base_uri": "https://localhost:8080/",
          "height": 497
        },
        "id": "bisj1OWh5mzr",
        "outputId": "301969d7-7914-4aff-d12f-f6159a9a5437"
      },
      "outputs": [
        {
          "data": {
            "image/png": "[encoded data removed]",
            "text/plain": [
              "<Figure size 640x480 with 6 Axes>"
            ]
          },
          "metadata": {},
          "output_type": "display_data"
        }
      ],
      "source": [
        "xtrain = np.arange(20)\n",
        "fig, axs = plt.subplots(2, 3)\n",
        "fig.suptitle('Validation Performance')\n",
        "axs[0, 0].plot(xtrain, valid_precision_micro, 'tab:green')\n",
        "axs[0, 0].set_title(\"Precision Micro\")\n",
        "axs[0, 1].plot(xtrain, valid_recall_micro, 'tab:green')\n",
        "axs[0, 1].set_title(\"Recall Micro\")\n",
        "axs[0, 2].plot(xtrain, valid_f1_micro, 'tab:green')\n",
        "axs[0, 2].set_title(\"F1 Micro\")\n",
        "axs[1, 0].plot(xtrain, valid_precision_macro, 'tab:orange')\n",
        "axs[1, 0].set_title(\"Precision Macro\")\n",
        "axs[1, 1].plot(xtrain, valid_recall_macro, 'tab:orange')\n",
        "axs[1, 1].set_title(\"Recall Macro\")\n",
        "axs[1, 2].plot(xtrain, valid_f1_macro, 'tab:orange')\n",
        "axs[1, 2].set_title(\"F1 Macro\")\n",
        "\n",
        "for ax in axs.flat:\n",
        "    ax.set(xlabel='Epoch')\n",
        "\n",
        "for ax in fig.get_axes():\n",
        "    ax.label_outer()"
      ]
    },
    {
      "cell_type": "code",
      "execution_count": null,
      "metadata": {
        "colab": {
          "base_uri": "https://localhost:8080/",
          "height": 490
        },
        "id": "EMOiucCXS_Kh",
        "outputId": "f4af9d52-831b-4601-e42b-6c1959bee433"
      },
      "outputs": [
        {
          "data": {
            "text/plain": [
              "<matplotlib.legend.Legend at 0x7828c248ba30>"
            ]
          },
          "execution_count": 44,
          "metadata": {},
          "output_type": "execute_result"
        },
        {
          "data": {
            "image/png": "[encoded data removed]",
            "text/plain": [
              "<Figure size 640x480 with 1 Axes>"
            ]
          },
          "metadata": {},
          "output_type": "display_data"
        }
      ],
      "source": [
        "plt.plot(xtrain, valid_jaccard, label = \"Validation Jaccard\")\n",
        "plt.xlabel(\"Epochs\")\n",
        "plt.title(\"ZH to EN Encoder Decoder\")\n",
        "plt.legend()"
      ]
    },
    {
      "cell_type": "markdown",
      "metadata": {
        "id": "9zcKgzGlauAP"
      },
      "source": [
        "# Evaluation"
      ]
    },
    {
      "cell_type": "code",
      "execution_count": null,
      "metadata": {
        "id": "LCZD60WrbhJl"
      },
      "outputs": [],
      "source": [
        "def evaluation(model, testing_history):\n",
        "    print(\"Begin testing...\", file=open(testing_history, 'a'))\n",
        "\n",
        "    model.eval()\n",
        "    with torch.no_grad():\n",
        "        losses = 0\n",
        "        correct = 0\n",
        "        EPOCH_TP = EPOCH_FP = EPOCH_FN = 0\n",
        "        JACCARD = set()\n",
        "        TYPE = \"testing\"\n",
        "        EPOCH_MACRO = torch.zeros((3, vocab_size_zh))\n",
        "        # Iterate through testing dataset\n",
        "        loop = tqdm(enumerate(test_loader), total=len(test_loader), leave=False)\n",
        "        for batch_idx, (en_index, zh_index) in loop:\n",
        "\n",
        "            # Move inputs & outputs to cuda\n",
        "            en_index = en_index.to(device)\n",
        "            zh_index = zh_index.to(device)\n",
        "\n",
        "            # Forward pass to get output/logits\n",
        "            outputs_train = model(en_index)\n",
        "\n",
        "            # Calculate Loss: BCE\n",
        "            loss = criterion(outputs_train, zh_index.float())\n",
        "            losses += loss.item()\n",
        "\n",
        "            # Evaluation\n",
        "            BATCH_TP, BATCH_FP, BATCH_FN, BATCH_MACRO, INDICES = eval(outputs_train.sigmoid().cpu(), zh_index.cpu())\n",
        "            EPOCH_TP += BATCH_TP\n",
        "            EPOCH_FP += BATCH_FP\n",
        "            EPOCH_FN += BATCH_FN\n",
        "            EPOCH_MACRO += BATCH_MACRO\n",
        "            JACCARD |= INDICES\n",
        "\n",
        "            # update progress bar\n",
        "            loop.set_description(f\"Testing Batch: [{batch_idx}/{len(test_loader)}]\")\n",
        "            loop.set_postfix(loss=loss.item())\n",
        "\n",
        "        test_loss = losses / len(test_loader)\n",
        "        test_eval = evalCalc(EPOCH_TP, EPOCH_FP, EPOCH_FN, EPOCH_MACRO, JACCARD, TYPE)\n",
        "\n",
        "        # Print loss\n",
        "        print(\"Loss: {:.15f}\".format(test_loss), file=open(testing_history, 'a'))\n",
        "        for key, value in test_eval.items():\n",
        "            print(\"   Testing\", key, \":\", value, file=open(testing_history, 'a'))\n",
        "        print(\"Finish testing!\", file=open(testing_history, 'a'))\n",
        "\n",
        "        return test_loss, JACCARD, test_eval"
      ]
    },
    {
      "cell_type": "code",
      "execution_count": null,
      "metadata": {
        "colab": {
          "base_uri": "https://localhost:8080/"
        },
        "id": "sVBjP3cgZCh6",
        "outputId": "1373b5d9-b55d-4950-c2ef-a96094d73bc0"
      },
      "outputs": [
        {
          "name": "stderr",
          "output_type": "stream",
          "text": [
            "<ipython-input-45-fdd884f978e2>:2: FutureWarning: You are using `torch.load` with `weights_only=False` (the current default value), which uses the default pickle module implicitly. It is possible to construct malicious pickle data which will execute arbitrary code during unpickling (See https://github.com/pytorch/pytorch/blob/main/SECURITY.md#untrusted-models for more details). In a future release, the default value for `weights_only` will be flipped to `True`. This limits the functions that could be executed during unpickling. Arbitrary objects will no longer be allowed to be loaded via this mode unless they are explicitly allowlisted by the user via `torch.serialization.add_safe_globals`. We recommend you start setting `weights_only=True` for any use case where you don't have full control of the loaded file. Please open an issue on GitHub for any issues related to this experimental feature.\n",
            "  state = torch.load('gdrive/MyDrive/RelRep/ckpt/zh_rel_to_abs_random_a200_e100-200_TEST.pt')\n"
          ]
        }
      ],
      "source": [
        "zhzh_relrep = ZhZhAutoencoderTW(zh_rel_latent_space).to(device)\n",
        "state = torch.load('gdrive/MyDrive/RelRep/ckpt/zh_rel_to_abs_random_a200_e100-200_TEST.pt')\n",
        "zhzh_relrep.load_state_dict(state['model_state_dict'])\n",
        "model_zhzh_decoder = zhzh_relrep.decoder.clone()\n",
        "model_enzh = EnZhAutoencoderHidden(en_rel_latent_space, model_zhzh_decoder).to(device)\n",
        "criterion = nn.BCEWithLogitsLoss(pos_weight=pos_weight.to(device))"
      ]
    },
    {
      "cell_type": "code",
      "execution_count": null,
      "metadata": {
        "colab": {
          "base_uri": "https://localhost:8080/"
        },
        "id": "TbWAFy8OZrMy",
        "outputId": "54e861ed-8eff-4356-f45c-36c4d39d6dfc"
      },
      "outputs": [
        {
          "name": "stderr",
          "output_type": "stream",
          "text": [
            "<ipython-input-46-3407f8b373ea>:1: FutureWarning: You are using `torch.load` with `weights_only=False` (the current default value), which uses the default pickle module implicitly. It is possible to construct malicious pickle data which will execute arbitrary code during unpickling (See https://github.com/pytorch/pytorch/blob/main/SECURITY.md#untrusted-models for more details). In a future release, the default value for `weights_only` will be flipped to `True`. This limits the functions that could be executed during unpickling. Arbitrary objects will no longer be allowed to be loaded via this mode unless they are explicitly allowlisted by the user via `torch.serialization.add_safe_globals`. We recommend you start setting `weights_only=True` for any use case where you don't have full control of the loaded file. Please open an issue on GitHub for any issues related to this experimental feature.\n",
            "  state = torch.load('gdrive/MyDrive/RelRep/ckpt/EnZhAuto_hidden_a200_e0-100_01_18_2025_pw0.008.pt')\n"
          ]
        },
        {
          "data": {
            "text/plain": [
              "<All keys matched successfully>"
            ]
          },
          "execution_count": 46,
          "metadata": {},
          "output_type": "execute_result"
        }
      ],
      "source": [
        "state = torch.load('gdrive/MyDrive/RelRep/ckpt/EnZhAuto_hidden_a200_e0-100_01_18_2025_pw0.008.pt')\n",
        "model_enzh.load_state_dict(state['model_state_dict'])"
      ]
    },
    {
      "cell_type": "code",
      "execution_count": null,
      "metadata": {
        "colab": {
          "base_uri": "https://localhost:8080/",
          "height": 17,
          "referenced_widgets": [
            "d4551300bab149529536823880617aa2",
            "5f7e5d743da444f69691f1fde835c8dd",
            "cffc86e75fd046c5a082926371ca0156",
            "16136eb2e0b645038ea9c8ca87f990b8",
            "a73a92642308497583c8fbd26dbc790a",
            "5b7dd208aa9249c4b45e468978033980",
            "621b3ce3f3d0417091b8b35a0ab8b42b",
            "a93c05dcde0c43c9962aabca77bf0c44",
            "34c23208039e4dac841ce9a792a78f20",
            "a47ff4a135984b999b16ad700cb6473b",
            "66b6cab414514034935eaa7039e60293"
          ]
        },
        "id": "Vef98QACYzka",
        "outputId": "bbd0e087-6e62-4a46-fe21-40541500fedb"
      },
      "outputs": [
        {
          "data": {
            "application/vnd.jupyter.widget-view+json": {
              "model_id": "d4551300bab149529536823880617aa2",
              "version_major": 2,
              "version_minor": 0
            },
            "text/plain": [
              "  0%|          | 0/6 [00:00<?, ?it/s]"
            ]
          },
          "metadata": {},
          "output_type": "display_data"
        }
      ],
      "source": [
        "test_loss, test_JACCARD, test_eval = evaluation(model_enzh, 'gdrive/MyDrive/RelRep/record/EnZhAuto_hidden_pw0.02.txt')\n",
        "\n",
        "import pickle\n",
        "with open('gdrive/MyDrive/RelRep/record/enzh_test_loss_random_a200_hidden_pw0.02.pkl', 'wb') as file:\n",
        "\n",
        "    # A new file will be created\n",
        "    pickle.dump(test_loss, file)\n",
        "with open('gdrive/MyDrive/RelRep/record/enzh_test_JACCARD_a200_hidden_pw0.02.pkl', 'wb') as file:\n",
        "\n",
        "    # A new file will be created\n",
        "    pickle.dump(test_JACCARD, file)\n",
        "with open('gdrive/MyDrive/RelRep/record/enzh_test_eval_a200_hidden_pw0.02.pkl', 'wb') as file:\n",
        "\n",
        "    # A new file will be created\n",
        "    pickle.dump(test_eval, file)"
      ]
    },
    {
      "cell_type": "code",
      "execution_count": null,
      "metadata": {
        "id": "9AP1IPjny64X"
      },
      "outputs": [],
      "source": [
        "# old enzh_test_loss_random_a200_hidden.pkl\n",
        "with open('gdrive/MyDrive/RelRep/record/enzh_test_loss_random_a200_hidden.pkl', 'rb') as file:\n",
        "\n",
        "    # Call load method to deserialze\n",
        "    test_loss = pickle.load(file)\n",
        "    file.close()\n",
        "\n",
        "with open('gdrive/MyDrive/RelRep/record/enzh_test_JACCARD_a200_hidden.pkl', 'rb') as file:\n",
        "\n",
        "    # A new file will be created\n",
        "    test_JACCARD = pickle.load(file)\n",
        "    file.close()\n",
        "\n",
        "with open('gdrive/MyDrive/RelRep/record/enzh_test_eval_a200_hidden.pkl', 'rb') as file:\n",
        "\n",
        "    # A new file will be created\n",
        "    test_eval = pickle.load(file)\n",
        "    file.close()"
      ]
    },
    {
      "cell_type": "code",
      "execution_count": null,
      "metadata": {
        "colab": {
          "base_uri": "https://localhost:8080/"
        },
        "id": "4t-N5OGMB9tj",
        "outputId": "a7318fb4-816d-4433-b85e-8efabf1a6d72"
      },
      "outputs": [
        {
          "name": "stdout",
          "output_type": "stream",
          "text": [
            "Testing precision_micro : 0.008776303979256009\n",
            "Testing recall_micro : 0.14073566369659585\n",
            "Testing F1_micro : 0.016522275567953222\n",
            "Testing precision_macro : 0.0026014242321252823\n",
            "Testing recall_macro : 0.005916113965213299\n",
            "Testing F1_macro : 0.00361379588152116\n",
            "Testing Jaccard : 0.07458868157558114\n"
          ]
        }
      ],
      "source": [
        "for key, value in test_eval.items():\n",
        "    print(\"Testing\", key, \":\", value)"
      ]
    },
    {
      "cell_type": "code",
      "execution_count": null,
      "metadata": {
        "id": "wXQEcnmlb94z"
      },
      "outputs": [],
      "source": [
        "# new enzh_test_loss_random_a200_hidden.pkl\n",
        "with open('gdrive/MyDrive/RelRep/record/enzh_test_loss_random_a200_hidden.pkl', 'rb') as file:\n",
        "\n",
        "    # Call load method to deserialze\n",
        "    test_loss = pickle.load(file)\n",
        "    file.close()\n",
        "\n",
        "with open('gdrive/MyDrive/RelRep/record/enzh_test_JACCARD_a200_hidden.pkl', 'rb') as file:\n",
        "\n",
        "    # A new file will be created\n",
        "    test_JACCARD = pickle.load(file)\n",
        "    file.close()\n",
        "\n",
        "with open('gdrive/MyDrive/RelRep/record/enzh_test_eval_a200_hidden.pkl', 'rb') as file:\n",
        "\n",
        "    # A new file will be created\n",
        "    test_eval = pickle.load(file)\n",
        "    file.close()"
      ]
    },
    {
      "cell_type": "code",
      "execution_count": null,
      "metadata": {
        "colab": {
          "base_uri": "https://localhost:8080/"
        },
        "id": "4yv4lzqIcDwv",
        "outputId": "8ab127f9-aec1-4f64-a561-b89d45801793"
      },
      "outputs": [
        {
          "name": "stdout",
          "output_type": "stream",
          "text": [
            "Testing precision_micro : 0.00048704506594138774\n",
            "Testing recall_micro : 0.7769149311683727\n",
            "Testing F1_micro : 0.0009734798609971599\n",
            "Testing precision_macro : 0.0003899664443451911\n",
            "Testing recall_macro : 0.03974238410592079\n",
            "Testing F1_macro : 0.0007723542731530363\n",
            "Testing Jaccard : 0.05343803241448604\n"
          ]
        }
      ],
      "source": [
        "for key, value in test_eval.items():\n",
        "    print(\"Testing\", key, \":\", value)"
      ]
    },
    {
      "cell_type": "markdown",
      "metadata": {
        "id": "Gl4QOjP2Yg9h"
      },
      "source": [
        "# See translations"
      ]
    },
    {
      "cell_type": "code",
      "execution_count": null,
      "metadata": {
        "id": "BudZXd6OpS4g"
      },
      "outputs": [],
      "source": [
        "BATCH_SIZE = 1\n",
        "\n",
        "test_loader = torch.utils.data.DataLoader(dataset=test_data,\n",
        "                                           batch_size=BATCH_SIZE,\n",
        "                                           shuffle=True,\n",
        "                                           collate_fn=collate_batch)"
      ]
    },
    {
      "cell_type": "code",
      "execution_count": null,
      "metadata": {
        "id": "OxAVzU84owdI"
      },
      "outputs": [],
      "source": [
        "def translate(model, translation_history):\n",
        "    print(\"Begin translating...\", file=open(translation_history, 'a'))\n",
        "\n",
        "    model.eval()\n",
        "    with torch.no_grad():\n",
        "        total_acc = 0\n",
        "        total_jac = 0\n",
        "        total = 0\n",
        "        concrete_dict = {}\n",
        "        c_elabel_list = []\n",
        "        c_eladen_list = []\n",
        "        c_other_list  = []\n",
        "        abstract_dict = {}\n",
        "        a_elabel_list = []\n",
        "        a_eladen_list = []\n",
        "        a_other_list  = []\n",
        "        unknown_dict  = {}\n",
        "        u_elabel_list = []\n",
        "        u_eladen_list = []\n",
        "        u_other_list  = []\n",
        "        model_pred_cor = {}\n",
        "        model_pred_wro = {}\n",
        "        model_pred = {}\n",
        "        model_comp = {}\n",
        "        trans_stat = {}\n",
        "\n",
        "        loop = tqdm(enumerate(test_loader), total=len(test_loader), leave=False)\n",
        "        for batch_idx, (en_index, zh_index) in loop:\n",
        "\n",
        "            # Move inputs & outputs to cuda\n",
        "            en_index = en_index.to(device)\n",
        "            zh_index = zh_index[0]\n",
        "\n",
        "            # Forward pass to get output/logits\n",
        "            outputs_train = model(en_index)\n",
        "\n",
        "            # Top probability translations\n",
        "            en_index = en_index.cpu()\n",
        "            en_word  = vocab_en[en_index]\n",
        "            correct_trans = golden_set[en_word]\n",
        "            prob  = outputs_train.sigmoid().detach().cpu()\n",
        "            idx   = list(torch.topk(prob[0], k=len(correct_trans))[1].numpy())\n",
        "            model_trans = [vocab_zh[i] for i in idx]\n",
        "            print(vocab_en[en_index] + \"\\n    model translation:\"+ \", \".join(model_trans) + \"\\n    correct translation:\"+ \", \".join(correct_trans), file=open(translation_history, 'a'))\n",
        "\n",
        "            # Calculate accuracy & check class\n",
        "            zh_onehot = torch.zeros(vocab_size_zh).int()\n",
        "            for i in idx:\n",
        "                zh_onehot[i] = 1\n",
        "            correct = (zh_onehot & zh_index).sum()\n",
        "            accuracy = correct/len(correct_trans)\n",
        "            total_acc += accuracy\n",
        "            if (accuracy > 0):\n",
        "                if (en_word in concrete_emotion_label):\n",
        "                    c_elabel_list.append(en_word)\n",
        "                elif (en_word in concrete_emotion_laden):\n",
        "                    c_eladen_list.append(en_word)\n",
        "                elif (en_word in concrete_other):\n",
        "                    c_other_list.append(en_word)\n",
        "                elif (en_word in abstract_emotion_label):\n",
        "                    a_elabel_list.append(en_word)\n",
        "                elif (en_word in abstract_emotion_laden):\n",
        "                    a_eladen_list.append(en_word)\n",
        "                elif (en_word in abstract_other):\n",
        "                    a_other_list.append(en_word)\n",
        "                elif (en_word in unknown_emotion_label):\n",
        "                    u_elabel_list.append(en_word)\n",
        "                elif (en_word in unknown_emotion_laden):\n",
        "                    u_eladen_list.append(en_word)\n",
        "                elif (en_word in unknown_other):\n",
        "                    u_other_list.append(en_word)\n",
        "                model_pred_cor[en_word] = model_trans\n",
        "            else:\n",
        "                model_pred_wro[en_word] = model_trans\n",
        "\n",
        "            # Calculate Jaccard\n",
        "            correct_idx = list(zh_index.nonzero().flatten().detach().numpy())\n",
        "            jaccard = float(len(set(idx) & set(correct_idx))) / float(len(set(idx) | set(correct_idx)))\n",
        "            total_jac += jaccard\n",
        "\n",
        "            # update progress bar\n",
        "            loop.set_description(f\"Translation Progress: [{batch_idx}/{len(test_loader)}]\")\n",
        "            loop.set_postfix(accuracy=accuracy.item())\n",
        "\n",
        "        # Print accuracy\n",
        "        avg_accuracy = total_acc/len(testing_data[\"en_index\"])*100\n",
        "        avg_jaccard = total_jac/len(testing_data[\"en_index\"])\n",
        "        trans_stat[\"avg_accuracy\"] = avg_accuracy\n",
        "        trans_stat[\"avg_jaccard\"] = avg_jaccard\n",
        "        concrete_dict['emotion_label'] = c_elabel_list\n",
        "        concrete_dict['emotion_laden'] = c_eladen_list\n",
        "        concrete_dict['other'] = c_other_list\n",
        "        abstract_dict['emotion_label'] = a_elabel_list\n",
        "        abstract_dict['emotion_laden'] = a_eladen_list\n",
        "        abstract_dict['other'] = a_other_list\n",
        "        unknown_dict['emotion_label'] = u_elabel_list\n",
        "        unknown_dict['emotion_laden'] = u_eladen_list\n",
        "        unknown_dict['other'] = u_other_list\n",
        "        model_comp[\"concrete\"] = concrete_dict\n",
        "        model_comp[\"abstract\"] = abstract_dict\n",
        "        model_comp[\"unknown_abstraction\"] = unknown_dict\n",
        "        model_pred[\"correct\"] = model_pred_cor\n",
        "        model_pred[\"wrong\"] = model_pred_wro\n",
        "        print(\"Average Accuracy: {:.2f}%\\nAverage Jaccard: {:.2f}\".format(avg_accuracy, avg_jaccard), file=open(translation_history, 'a'))\n",
        "        print(\"Average Accuracy: {:.2f}%\\nAverage Jaccard: {:.2f}\".format(avg_accuracy, avg_jaccard))\n",
        "        print(\"Finish translating!\", file=open(translation_history, 'a'))\n",
        "\n",
        "        import pickle\n",
        "        with open('gdrive/MyDrive/RelRep/record/enzh_trans_stat_612.pkl', 'wb') as file:\n",
        "\n",
        "            # A new file will be created\n",
        "            pickle.dump(trans_stat, file)\n",
        "        with open('gdrive/MyDrive/RelRep/record/enzh_model_composition_612.pkl', 'wb') as file:\n",
        "\n",
        "            # A new file will be created\n",
        "            pickle.dump(model_comp, file)\n",
        "        with open('gdrive/MyDrive/RelRep/record/enzh_model_prediction_612.pkl', 'wb') as file:\n",
        "\n",
        "            # A new file will be created\n",
        "            pickle.dump(model_pred, file)\n",
        "        return trans_stat, model_comp, model_pred"
      ]
    },
    {
      "cell_type": "code",
      "execution_count": null,
      "metadata": {
        "colab": {
          "base_uri": "https://localhost:8080/",
          "height": 53,
          "referenced_widgets": [
            "d88155f74dec498ba1234e0a131e14e0",
            "9cf2bd4583cf492f80347b46dfc6b799",
            "6e300e5d6bba47409c87afba0b3cb68b",
            "0a9542a0b4334525b5474aba9eeb7242",
            "7b23d3f41b664f5ab00ce73ada141b09",
            "24a68a36ab7a490ba0b7e21ae3c5f2a7",
            "d3e8894a9cd74e239af96a59e9269bab",
            "946a46c7b5434444b9a0e3a3ed56d0b8",
            "87155bf128b04c20a2924461468f27d5",
            "f6b3d93c01944acc885439328072c4a9",
            "81ee4e0b024e40c3b8f3983a7a05293f"
          ]
        },
        "id": "CcWBbZMXssbD",
        "outputId": "5aea3fd2-7a7e-4f08-d1ce-efb04cd94473"
      },
      "outputs": [
        {
          "data": {
            "application/vnd.jupyter.widget-view+json": {
              "model_id": "d88155f74dec498ba1234e0a131e14e0",
              "version_major": 2,
              "version_minor": 0
            },
            "text/plain": [
              "  0%|          | 0/2670 [00:00<?, ?it/s]"
            ]
          },
          "metadata": {},
          "output_type": "display_data"
        },
        {
          "name": "stdout",
          "output_type": "stream",
          "text": [
            "Average Accuracy: 2.85%\n",
            "Average Jaccard: 0.02\n"
          ]
        }
      ],
      "source": [
        "trans_stat, model_comp, model_pred = translate(model_enzh, 'gdrive/MyDrive/RelRep/record/EnZhAuto_hidden_translation_612.txt')"
      ]
    },
    {
      "cell_type": "code",
      "execution_count": null,
      "metadata": {
        "colab": {
          "base_uri": "https://localhost:8080/"
        },
        "id": "2lNSO4cRQzHJ",
        "outputId": "323b09c8-676b-41df-a5a3-c56395e5c181"
      },
      "outputs": [
        {
          "name": "stdout",
          "output_type": "stream",
          "text": [
            "concrete : {'emotion_label': ['warm'], 'emotion_laden': ['secrete', 'radar', 'cafe', 'prostitution', 'soot', 'nectar', 'leak', 'archaeology', 'chisel', 'ransom', 'bouquet', 'torture', 'operation', 'mentor', 'loudness', 'learning', 'weeping', 'detonation', 'cremation', 'opaque', 'baboon', 'measles', 'janitor', 'locust', 'ribbon', 'obese', 'maroon'], 'other': ['encoder', 'snoring', 'deep', 'sit', 'genetics', 'tinfoil', 'breaststroke', 'performance', 'ozone', 'petrol', 'transport', 'coitus', 'currency', 'shut', 'masticate', 'rough', 'tanker', 'translator', 'pictograph', 'certificate', 'torque', 'kidnapper', 'digging', 'bright', 'limestone', 'bag', 'wharf', 'pecked', 'beeswax', 'notarize', 'coarse', 'bedridden', 'greasiness', 'meat', 'weaving', 'biosphere', 'backfill', 'evaporate', 'vegetarian', 'living', 'cloudless', 'embroidery', 'geneticist', 'muffled', 'theater', 'bazooka', 'ashore', 'sandalwood', 'internist', 'farmer', 'lactation', 'caddie', 'gnaw', 'sleuth', 'asymmetric', 'training', 'taut', 'wide']}\n",
            "abstract : {'emotion_label': [], 'emotion_laden': ['joyous', 'upheaval', 'illegal', 'permission', 'arid', 'pollute', 'survive', 'favorable', 'confess', 'pious', 'unification', 'turmoil', 'belittle', 'melancholy', 'betray', 'reproductive', 'veracity'], 'other': ['severe', 'accuracy', 'cohabit', 'weaken', 'harmonious', 'counterclaim', 'pessimistic', 'conduction', 'activity', 'provided', 'extinguished', 'maintain', 'sterilize', 'hypnotism', 'decisive', 'docile', 'symbolize', 'send', 'misdiagnose', 'decipher', 'pedophilia', 'diagnose', 'thanks', 'mystical', 'perseverance']}\n",
            "unknown_abstraction : {'emotion_label': [], 'emotion_laden': ['precipice', 'reverie'], 'other': ['contaminates', 'man-hour', 'quran', 'retching', 'symbolising', 'composting', 'ceylon', 'hydrogenation', 'coughed', 'reconciled', 'abolishing', 'doppler', 'categorise', 'elucidated', 'symbolizes', 'zagreb', 'parkinson', 'humus', 'co-ordinated', 'sophistry', 'lubricated', 'roentgen', 'patrilineal', 'sumac', 'testified', 'self-destruct', 'rehearsing', 'bakelite', 'determinism', 'drooling', 'misunderstands']}\n"
          ]
        }
      ],
      "source": [
        "for key, value in model_comp.items():\n",
        "    print(key, \":\", value)"
      ]
    },
    {
      "cell_type": "code",
      "execution_count": null,
      "metadata": {
        "id": "qMPWyM_kxCej"
      },
      "outputs": [],
      "source": [
        "concrete_len = len(concrete_emotion_label.keys())+len(concrete_emotion_laden.keys())+len(concrete_other.keys())\n",
        "abstract_len = len(abstract_emotion_label.keys())+len(abstract_emotion_laden.keys())+len(abstract_other.keys())\n",
        "unknown_len = len(unknown_emotion_label.keys())+len(unknown_emotion_laden.keys())+len(unknown_other.keys())\n",
        "model_c_len = len(model_composition['concrete']['emotion_label'])+len(model_composition['concrete']['emotion_laden'])+len(model_composition['concrete']['other'])\n",
        "model_a_len = len(model_composition['abstract']['emotion_label'])+len(model_composition['abstract']['emotion_laden'])+len(model_composition['abstract']['other'])\n",
        "model_u_len = len(model_composition['unknown_abstraction']['emotion_label'])+len(model_composition['unknown_abstraction']['emotion_laden'])+len(model_composition['unknown_abstraction']['other'])"
      ]
    },
    {
      "cell_type": "code",
      "execution_count": null,
      "metadata": {
        "colab": {
          "base_uri": "https://localhost:8080/"
        },
        "id": "Ux7K9ql-HXAt",
        "outputId": "fb6cf3f0-6ba3-4ee1-cc0b-fd9913035219"
      },
      "outputs": [
        {
          "data": {
            "text/plain": [
              "(31, 486, 15689)"
            ]
          },
          "execution_count": 54,
          "metadata": {},
          "output_type": "execute_result"
        }
      ],
      "source": [
        "len(unknown_emotion_label.keys()),len(unknown_emotion_laden.keys()),len(unknown_other.keys())"
      ]
    },
    {
      "cell_type": "code",
      "execution_count": null,
      "metadata": {
        "colab": {
          "base_uri": "https://localhost:8080/"
        },
        "id": "OZEhAzpk_lLp",
        "outputId": "ef4327fc-6302-43ab-ea7d-87e20849618d"
      },
      "outputs": [
        {
          "name": "stdout",
          "output_type": "stream",
          "text": [
            "Model predicts 0.78% concrete words in the testing set correctly\n",
            "Model predicts 0.39% abstract words in the testing set correctly\n",
            "Model predicts 0.20% unknown words in the testing set correctly\n",
            "\n",
            "Model predicts 2.22% concrete emotion label words in the testing set correctly\n",
            "Model predicts 1.30% concrete emotion laden words in the testing set correctly\n",
            "Model predicts 0.66% concrete emotion other words in the testing set correctly\n",
            "\n",
            "Model predicts 0.00% abstract emotion label words in the testing set correctly\n",
            "Model predicts 0.57% abstract emotion laden words in the testing set correctly\n",
            "Model predicts 0.34% abstract emotion other words in the testing set correctly\n",
            "\n",
            "Model predicts 0.00% unknown emotion label words in the testing set correctly\n",
            "Model predicts 0.41% unknown emotion laden words in the testing set correctly\n",
            "Model predicts 0.20% unknown emotion other words in the testing set correctly\n"
          ]
        }
      ],
      "source": [
        "print(\"Model predicts {:.2f}% concrete words in the testing set correctly\".format(model_c_len/concrete_len*100))\n",
        "print(\"Model predicts {:.2f}% abstract words in the testing set correctly\".format(model_a_len/abstract_len*100))\n",
        "print(\"Model predicts {:.2f}% unknown words in the testing set correctly\".format(model_u_len/unknown_len*100))\n",
        "print()\n",
        "print(\"Model predicts {:.2f}% concrete emotion label words in the testing set correctly\".format(len(model_composition['concrete']['emotion_label'])/len(concrete_emotion_label.keys())*100))\n",
        "print(\"Model predicts {:.2f}% concrete emotion laden words in the testing set correctly\".format(len(model_composition['concrete']['emotion_laden'])/len(concrete_emotion_laden.keys())*100))\n",
        "print(\"Model predicts {:.2f}% concrete emotion other words in the testing set correctly\".format(len(model_composition['concrete']['other'])/len(concrete_other.keys())*100))\n",
        "print()\n",
        "print(\"Model predicts {:.2f}% abstract emotion label words in the testing set correctly\".format(len(model_composition['abstract']['emotion_label'])/len(abstract_emotion_label.keys())*100))\n",
        "print(\"Model predicts {:.2f}% abstract emotion laden words in the testing set correctly\".format(len(model_composition['abstract']['emotion_laden'])/len(abstract_emotion_laden.keys())*100))\n",
        "print(\"Model predicts {:.2f}% abstract emotion other words in the testing set correctly\".format(len(model_composition['abstract']['other'])/len(abstract_other.keys())*100))\n",
        "print()\n",
        "print(\"Model predicts {:.2f}% unknown emotion label words in the testing set correctly\".format(len(model_composition['unknown_abstraction']['emotion_label'])/len(unknown_emotion_label.keys())*100))\n",
        "print(\"Model predicts {:.2f}% unknown emotion laden words in the testing set correctly\".format(len(model_composition['unknown_abstraction']['emotion_laden'])/len(unknown_emotion_laden.keys())*100))\n",
        "print(\"Model predicts {:.2f}% unknown emotion other words in the testing set correctly\".format(len(model_composition['unknown_abstraction']['other'])/len(unknown_other.keys())*100))"
      ]
    },
    {
      "cell_type": "code",
      "execution_count": null,
      "metadata": {
        "id": "0nvzx6PUGIYC"
      },
      "outputs": [],
      "source": [
        "concrete_len = 195+684\n",
        "abstract_len = 299+536\n",
        "unknown_len = 42+914\n",
        "model_c_len = len(model_composition['concrete']['emotion_label'])+len(model_composition['concrete']['emotion_laden'])+len(model_composition['concrete']['other'])\n",
        "model_a_len = len(model_composition['abstract']['emotion_label'])+len(model_composition['abstract']['emotion_laden'])+len(model_composition['abstract']['other'])\n",
        "model_u_len = len(model_composition['unknown_abstraction']['emotion_label'])+len(model_composition['unknown_abstraction']['emotion_laden'])+len(model_composition['unknown_abstraction']['other'])"
      ]
    },
    {
      "cell_type": "code",
      "execution_count": null,
      "metadata": {
        "colab": {
          "base_uri": "https://localhost:8080/"
        },
        "id": "6J4qb0byVjXq",
        "outputId": "025c22ea-9cb9-4714-9efa-7751549787b3"
      },
      "outputs": [
        {
          "data": {
            "text/plain": [
              "(879, 835, 956)"
            ]
          },
          "execution_count": 36,
          "metadata": {},
          "output_type": "execute_result"
        }
      ],
      "source": [
        "concrete_len, abstract_len, unknown_len"
      ]
    },
    {
      "cell_type": "code",
      "execution_count": null,
      "metadata": {
        "colab": {
          "base_uri": "https://localhost:8080/"
        },
        "id": "uxrAnEOnJ8Zn",
        "outputId": "b7c47851-8d15-47c5-e5b3-5aed1c23ac02"
      },
      "outputs": [
        {
          "name": "stdout",
          "output_type": "stream",
          "text": [
            "195 684 299 536 42 914\n"
          ]
        }
      ],
      "source": [
        "ce, co, ae, ao, oe, oo = 0, 0, 0, 0, 0, 0\n",
        "\n",
        "for en, idx in testing_data[\"en_index\"]:\n",
        "    if en in concrete_emotion:\n",
        "        ce+=1\n",
        "    elif en in concrete_other:\n",
        "        co += 1\n",
        "    elif en in abstract_emotion:\n",
        "        ae+= 1\n",
        "    elif en in abstract_other:\n",
        "        ao+= 1\n",
        "    elif en in unknown_emotion:\n",
        "        oe += 1\n",
        "    elif en in unknown_other:\n",
        "        oo+= 1\n",
        "print(ce, co, ae, ao, oe, oo)"
      ]
    },
    {
      "cell_type": "code",
      "execution_count": null,
      "metadata": {
        "colab": {
          "base_uri": "https://localhost:8080/"
        },
        "id": "0O3PXUpCHGFW",
        "outputId": "c897028d-937f-4b0c-ef63-96361182b5d2"
      },
      "outputs": [
        {
          "name": "stdout",
          "output_type": "stream",
          "text": [
            "Model predicts 9.78% concrete words in the testing set correctly\n",
            "Model predicts 5.03% abstract words in the testing set correctly\n",
            "Model predicts 3.45% unknown words in the testing set correctly\n",
            "\n",
            "Model predicts 14.36% concrete emotion words in the testing set correctly\n",
            "Model predicts 8.48% concrete non-emotional words in the testing set correctly\n",
            "\n",
            "Model predicts 5.69% abstract emotion words in the testing set correctly\n",
            "Model predicts 4.66% abstract non-emotional words in the testing set correctly\n",
            "\n",
            "Model predicts 4.76% unknown emotion words in the testing set correctly\n",
            "Model predicts 3.39% unknown non-emotional words in the testing set correctly\n"
          ]
        }
      ],
      "source": [
        "print(\"Model predicts {:.2f}% concrete words in the testing set correctly\".format(model_c_len/concrete_len*100))\n",
        "print(\"Model predicts {:.2f}% abstract words in the testing set correctly\".format(model_a_len/abstract_len*100))\n",
        "print(\"Model predicts {:.2f}% unknown words in the testing set correctly\".format(model_u_len/unknown_len*100))\n",
        "print()\n",
        "model_ce = len(model_composition['concrete']['emotion_label'])+len(model_composition['concrete']['emotion_laden'])\n",
        "print(\"Model predicts {:.2f}% concrete emotion words in the testing set correctly\".format(model_ce/195*100))\n",
        "print(\"Model predicts {:.2f}% concrete non-emotional words in the testing set correctly\".format(len(model_composition['concrete']['other'])/684*100))\n",
        "print()\n",
        "model_ae = len(model_composition['abstract']['emotion_label'])+len(model_composition['abstract']['emotion_laden'])\n",
        "print(\"Model predicts {:.2f}% abstract emotion words in the testing set correctly\".format(model_ae/299*100))\n",
        "print(\"Model predicts {:.2f}% abstract non-emotional words in the testing set correctly\".format(len(model_composition['abstract']['other'])/536*100))\n",
        "print()\n",
        "model_ue = len(model_composition['unknown_abstraction']['emotion_label'])+len(model_composition['unknown_abstraction']['emotion_laden'])\n",
        "print(\"Model predicts {:.2f}% unknown emotion words in the testing set correctly\".format(model_ue/42*100))\n",
        "print(\"Model predicts {:.2f}% unknown non-emotional words in the testing set correctly\".format(len(model_composition['unknown_abstraction']['other'])/914*100))"
      ]
    },
    {
      "cell_type": "code",
      "execution_count": null,
      "metadata": {
        "id": "AGoj4dPPDgG2"
      },
      "outputs": [],
      "source": [
        "def translate_all(model, threshold, translation_history):\n",
        "    print(\"Begin translating...\", file=open(translation_history, 'a'))\n",
        "\n",
        "    model.eval()\n",
        "    with torch.no_grad():\n",
        "        model_translation = {}\n",
        "        model_cor   = {}\n",
        "        model_wro   = {}\n",
        "\n",
        "        loop = tqdm(enumerate(test_loader), total=len(test_loader), leave=False)\n",
        "        for batch_idx, (en_index, zh_index) in loop:\n",
        "\n",
        "            # Move inputs & outputs to cuda\n",
        "            en_index = en_index.to(device)\n",
        "            zh_index = zh_index[0]\n",
        "\n",
        "            # Forward pass to get output/logits\n",
        "            outputs_train = model(en_index)\n",
        "\n",
        "            # Top probability translations\n",
        "            en_index = en_index.cpu()\n",
        "            en_word  = vocab_en[en_index]\n",
        "            correct_trans = golden_set[en_word]\n",
        "            prob  = outputs_train.sigmoid().detach().cpu()[0]\n",
        "            pred  = (prob>=threshold).int().numpy()\n",
        "            idx   = list(np.where(pred==1)[0])\n",
        "            model_trans = [vocab_zh[i] for i in idx]\n",
        "            print(vocab_en[en_index] + \"\\n    model translation:\"+ \", \".join(model_trans) + \"\\n    correct translation:\"+ \", \".join(correct_trans), file=open(translation_history, 'a'))\n",
        "            print()\n",
        "            zh_onehot = torch.zeros(vocab_size_zh).int()\n",
        "            for i in idx:\n",
        "                zh_onehot[i] = 1\n",
        "            correct = (zh_onehot & zh_index).sum()\n",
        "            accuracy = correct/len(correct_trans)\n",
        "            if (accuracy > 0):\n",
        "                model_cor[en_word] = model_trans\n",
        "            else:\n",
        "                model_wro[en_word] = model_trans\n",
        "\n",
        "            # update progress bar\n",
        "            loop.set_description(f\"Translation Progress: [{batch_idx}/{len(test_loader)}]\")\n",
        "\n",
        "        model_translation['correct'] = model_cor\n",
        "        model_translation['wrong'] = model_wro\n",
        "        return model_translation"
      ]
    },
    {
      "cell_type": "code",
      "execution_count": null,
      "metadata": {
        "id": "rf7ZSztBD-VR"
      },
      "outputs": [],
      "source": [
        "model_trans = translate_all(model_enzh, .5, 'gdrive/MyDrive/RelRep/record/EnZhAuto_hidden_translation_all_pw0.02_may2.txt')"
      ]
    },
    {
      "cell_type": "code",
      "execution_count": null,
      "metadata": {
        "id": "AlYUD7U0q2W7"
      },
      "outputs": [],
      "source": [
        "import pickle\n",
        "with open('gdrive/MyDrive/RelRep/record/enzh_model_trans_random_a200_hidden_pw0.02_all.pkl', 'wb') as file:\n",
        "\n",
        "    # A new file will be created\n",
        "    pickle.dump(model_trans, file)"
      ]
    },
    {
      "cell_type": "code",
      "execution_count": null,
      "metadata": {
        "colab": {
          "base_uri": "https://localhost:8080/"
        },
        "id": "jMOpI-TSL-uG",
        "outputId": "0f74ac33-6bc7-4e2d-9aae-e85c7a96c7bd"
      },
      "outputs": [
        {
          "data": {
            "text/plain": [
              "(33016, tensor(33016))"
            ]
          },
          "execution_count": 71,
          "metadata": {},
          "output_type": "execute_result"
        }
      ],
      "source": [
        "word_to_index_en['cantaloupe'],torch.tensor(33016)"
      ]
    },
    {
      "cell_type": "code",
      "execution_count": null,
      "metadata": {
        "colab": {
          "base_uri": "https://localhost:8080/"
        },
        "id": "LChjRAEj7a_W",
        "outputId": "c2900951-c2ab-464d-eeaf-46aec39d0e32"
      },
      "outputs": [
        {
          "data": {
            "text/plain": [
              "['罗马甜瓜', '哈密瓜', '香瓜', '哈蜜瓜']"
            ]
          },
          "execution_count": 61,
          "metadata": {},
          "output_type": "execute_result"
        }
      ],
      "source": [
        "golden_set[\"cantaloupe\"]"
      ]
    },
    {
      "cell_type": "code",
      "execution_count": null,
      "metadata": {
        "id": "nnxKzchZ7LPJ"
      },
      "outputs": [],
      "source": [
        "testing_data['zh_index'].append(golden_set[\"cantaloupe\"])"
      ]
    },
    {
      "cell_type": "code",
      "execution_count": null,
      "metadata": {
        "colab": {
          "base_uri": "https://localhost:8080/"
        },
        "id": "uF0kAWFTL53i",
        "outputId": "811ebbbe-a7d5-40fd-913a-55517cd9ae22"
      },
      "outputs": [
        {
          "name": "stdout",
          "output_type": "stream",
          "text": [
            "cantaloupe\n",
            "    model translation:香蕉, 西瓜, 玉米, 草莓, 葡萄, 黄瓜, 茄子, 小麦, 大蒜, 西红柿, 胡萝卜, 红薯, 樱桃, 韭菜, 柠檬, 番茄, 洋葱, 菠菜, 大豆, 荔枝, 桃子, 果汁, 梨, 坚果, 菠萝, 榴莲, 鲜, 香菜, 猕猴桃, 芹菜, 柚子, 橙子, 奶油, 柿子, 蛋黄, 海带, 石榴, 黄豆, 奶酪, 柑橘, 薄荷, 可可, 马铃薯, 芋头, 栗子, 豆芽, 甜瓜, 生菜, 鱿鱼, 地瓜, 杏仁, 杨梅, 葡萄干, 蔬果, 无花果, 糖水, 枇杷, 李子, 苦味, 酸味, 果粉, 小白菜, 糖浆, 鲜奶, 果酱, 牡蛎, 菜花, 橄榄, 毛豆, 菠萝蜜, 卷心菜, 梅子, 小苗, 哈密瓜, 番薯, 蚕豆, 空心菜, 乳酸菌, 蜜糖, 蒜头, 霉, 罂粟, 麦芽, 腰果, 土豆泥, 茼蒿, 橙汁, 蛤蜊, 凤梨, 荸荠, 青豆, 燕麦片, 鳕鱼, 杏子, 软糖, 胺, 苋菜, 鱼油, 焦油, 香瓜, 杨桃, 莴苣, 榛子, 绿绿, 果仁, 花椰菜, 甜菜, 乳酪, 甘蓝, 茄, 芸豆, 番石榴, 红果, 葡萄柚, 覆盆子, 树莓, 喷鼻, 小黄瓜, 青果, 黄黄, 苷, 山芋, 乳油, 桑椹, 黑枣, 鳄梨, 葱头, 甜橙, 酸梅, 植物性, 龙舌兰, 芫荽, 啤酒花, 豆苗, 菜头, 车前子, 酒花, 白薯, 果泥, 贻贝, 绿藻, 柳橙, 酸牛奶, 糖蜜, 树胶, 刀豆, 乳清, 柿子椒, 苋, 柰, 欧芹, 烟碱, 柑橘类, 芳香烃, 洋槐, 酸橙, 椰菜, 鲑, 白叶, 麦角, 草味, 洋菜, 脂酸\n",
            "    correct translation:罗马甜瓜, 哈密瓜, 香瓜, 哈蜜瓜\n"
          ]
        }
      ],
      "source": [
        "# Forward pass to get output/logits\n",
        "outputs_train = model_enzh(torch.tensor(33016))\n",
        "\n",
        "# Top probability translations\n",
        "en_word  = vocab_en[33016]\n",
        "correct_trans = golden_set[en_word]\n",
        "prob  = outputs_train.sigmoid().detach().cpu()[0]\n",
        "pred  = (prob>=0.5).int().numpy()\n",
        "idx   = list(np.where(pred==1)[0])\n",
        "model_trans = [vocab_zh[i] for i in idx]\n",
        "print(vocab_en[33016] + \"\\n    model translation:\"+ \", \".join(model_trans) + \"\\n    correct translation:\"+ \", \".join(correct_trans))"
      ]
    }
  ],
  "metadata": {
    "colab": {
      "provenance": [],
      "include_colab_link": true
    },
    "kernelspec": {
      "display_name": "wordLevelTrans",
      "language": "python",
      "name": "python3"
    },
    "language_info": {
      "codemirror_mode": {
        "name": "ipython",
        "version": 3
      },
      "file_extension": ".py",
      "mimetype": "text/x-python",
      "name": "python",
      "nbconvert_exporter": "python",
      "pygments_lexer": "ipython3",
      "version": "3.10.16"
    },
    "widgets": {
      "application/vnd.jupyter.widget-state+json": {
        "0a9542a0b4334525b5474aba9eeb7242": {
          "model_module": "@jupyter-widgets/controls",
          "model_module_version": "1.5.0",
          "model_name": "HTMLModel",
          "state": {
            "_dom_classes": [],
            "_model_module": "@jupyter-widgets/controls",
            "_model_module_version": "1.5.0",
            "_model_name": "HTMLModel",
            "_view_count": null,
            "_view_module": "@jupyter-widgets/controls",
            "_view_module_version": "1.5.0",
            "_view_name": "HTMLView",
            "description": "",
            "description_tooltip": null,
            "layout": "IPY_MODEL_f6b3d93c01944acc885439328072c4a9",
            "placeholder": "​",
            "style": "IPY_MODEL_81ee4e0b024e40c3b8f3983a7a05293f",
            "value": " 2665/2670 [00:33&lt;00:00, 74.28it/s, accuracy=0]"
          }
        },
        "16136eb2e0b645038ea9c8ca87f990b8": {
          "model_module": "@jupyter-widgets/controls",
          "model_module_version": "1.5.0",
          "model_name": "HTMLModel",
          "state": {
            "_dom_classes": [],
            "_model_module": "@jupyter-widgets/controls",
            "_model_module_version": "1.5.0",
            "_model_name": "HTMLModel",
            "_view_count": null,
            "_view_module": "@jupyter-widgets/controls",
            "_view_module_version": "1.5.0",
            "_view_name": "HTMLView",
            "description": "",
            "description_tooltip": null,
            "layout": "IPY_MODEL_a47ff4a135984b999b16ad700cb6473b",
            "placeholder": "​",
            "style": "IPY_MODEL_66b6cab414514034935eaa7039e60293",
            "value": " 6/6 [00:08&lt;00:00,  1.26s/it, loss=0.0132]"
          }
        },
        "24a68a36ab7a490ba0b7e21ae3c5f2a7": {
          "model_module": "@jupyter-widgets/base",
          "model_module_version": "1.2.0",
          "model_name": "LayoutModel",
          "state": {
            "_model_module": "@jupyter-widgets/base",
            "_model_module_version": "1.2.0",
            "_model_name": "LayoutModel",
            "_view_count": null,
            "_view_module": "@jupyter-widgets/base",
            "_view_module_version": "1.2.0",
            "_view_name": "LayoutView",
            "align_content": null,
            "align_items": null,
            "align_self": null,
            "border": null,
            "bottom": null,
            "display": null,
            "flex": null,
            "flex_flow": null,
            "grid_area": null,
            "grid_auto_columns": null,
            "grid_auto_flow": null,
            "grid_auto_rows": null,
            "grid_column": null,
            "grid_gap": null,
            "grid_row": null,
            "grid_template_areas": null,
            "grid_template_columns": null,
            "grid_template_rows": null,
            "height": null,
            "justify_content": null,
            "justify_items": null,
            "left": null,
            "margin": null,
            "max_height": null,
            "max_width": null,
            "min_height": null,
            "min_width": null,
            "object_fit": null,
            "object_position": null,
            "order": null,
            "overflow": null,
            "overflow_x": null,
            "overflow_y": null,
            "padding": null,
            "right": null,
            "top": null,
            "visibility": null,
            "width": null
          }
        },
        "34c23208039e4dac841ce9a792a78f20": {
          "model_module": "@jupyter-widgets/controls",
          "model_module_version": "1.5.0",
          "model_name": "ProgressStyleModel",
          "state": {
            "_model_module": "@jupyter-widgets/controls",
            "_model_module_version": "1.5.0",
            "_model_name": "ProgressStyleModel",
            "_view_count": null,
            "_view_module": "@jupyter-widgets/base",
            "_view_module_version": "1.2.0",
            "_view_name": "StyleView",
            "bar_color": null,
            "description_width": ""
          }
        },
        "5b7dd208aa9249c4b45e468978033980": {
          "model_module": "@jupyter-widgets/base",
          "model_module_version": "1.2.0",
          "model_name": "LayoutModel",
          "state": {
            "_model_module": "@jupyter-widgets/base",
            "_model_module_version": "1.2.0",
            "_model_name": "LayoutModel",
            "_view_count": null,
            "_view_module": "@jupyter-widgets/base",
            "_view_module_version": "1.2.0",
            "_view_name": "LayoutView",
            "align_content": null,
            "align_items": null,
            "align_self": null,
            "border": null,
            "bottom": null,
            "display": null,
            "flex": null,
            "flex_flow": null,
            "grid_area": null,
            "grid_auto_columns": null,
            "grid_auto_flow": null,
            "grid_auto_rows": null,
            "grid_column": null,
            "grid_gap": null,
            "grid_row": null,
            "grid_template_areas": null,
            "grid_template_columns": null,
            "grid_template_rows": null,
            "height": null,
            "justify_content": null,
            "justify_items": null,
            "left": null,
            "margin": null,
            "max_height": null,
            "max_width": null,
            "min_height": null,
            "min_width": null,
            "object_fit": null,
            "object_position": null,
            "order": null,
            "overflow": null,
            "overflow_x": null,
            "overflow_y": null,
            "padding": null,
            "right": null,
            "top": null,
            "visibility": null,
            "width": null
          }
        },
        "5f7e5d743da444f69691f1fde835c8dd": {
          "model_module": "@jupyter-widgets/controls",
          "model_module_version": "1.5.0",
          "model_name": "HTMLModel",
          "state": {
            "_dom_classes": [],
            "_model_module": "@jupyter-widgets/controls",
            "_model_module_version": "1.5.0",
            "_model_name": "HTMLModel",
            "_view_count": null,
            "_view_module": "@jupyter-widgets/controls",
            "_view_module_version": "1.5.0",
            "_view_name": "HTMLView",
            "description": "",
            "description_tooltip": null,
            "layout": "IPY_MODEL_5b7dd208aa9249c4b45e468978033980",
            "placeholder": "​",
            "style": "IPY_MODEL_621b3ce3f3d0417091b8b35a0ab8b42b",
            "value": "Testing Batch: [5/6]: 100%"
          }
        },
        "621b3ce3f3d0417091b8b35a0ab8b42b": {
          "model_module": "@jupyter-widgets/controls",
          "model_module_version": "1.5.0",
          "model_name": "DescriptionStyleModel",
          "state": {
            "_model_module": "@jupyter-widgets/controls",
            "_model_module_version": "1.5.0",
            "_model_name": "DescriptionStyleModel",
            "_view_count": null,
            "_view_module": "@jupyter-widgets/base",
            "_view_module_version": "1.2.0",
            "_view_name": "StyleView",
            "description_width": ""
          }
        },
        "66b6cab414514034935eaa7039e60293": {
          "model_module": "@jupyter-widgets/controls",
          "model_module_version": "1.5.0",
          "model_name": "DescriptionStyleModel",
          "state": {
            "_model_module": "@jupyter-widgets/controls",
            "_model_module_version": "1.5.0",
            "_model_name": "DescriptionStyleModel",
            "_view_count": null,
            "_view_module": "@jupyter-widgets/base",
            "_view_module_version": "1.2.0",
            "_view_name": "StyleView",
            "description_width": ""
          }
        },
        "6e300e5d6bba47409c87afba0b3cb68b": {
          "model_module": "@jupyter-widgets/controls",
          "model_module_version": "1.5.0",
          "model_name": "FloatProgressModel",
          "state": {
            "_dom_classes": [],
            "_model_module": "@jupyter-widgets/controls",
            "_model_module_version": "1.5.0",
            "_model_name": "FloatProgressModel",
            "_view_count": null,
            "_view_module": "@jupyter-widgets/controls",
            "_view_module_version": "1.5.0",
            "_view_name": "ProgressView",
            "bar_style": "",
            "description": "",
            "description_tooltip": null,
            "layout": "IPY_MODEL_946a46c7b5434444b9a0e3a3ed56d0b8",
            "max": 2670,
            "min": 0,
            "orientation": "horizontal",
            "style": "IPY_MODEL_87155bf128b04c20a2924461468f27d5",
            "value": 2670
          }
        },
        "7b23d3f41b664f5ab00ce73ada141b09": {
          "model_module": "@jupyter-widgets/base",
          "model_module_version": "1.2.0",
          "model_name": "LayoutModel",
          "state": {
            "_model_module": "@jupyter-widgets/base",
            "_model_module_version": "1.2.0",
            "_model_name": "LayoutModel",
            "_view_count": null,
            "_view_module": "@jupyter-widgets/base",
            "_view_module_version": "1.2.0",
            "_view_name": "LayoutView",
            "align_content": null,
            "align_items": null,
            "align_self": null,
            "border": null,
            "bottom": null,
            "display": null,
            "flex": null,
            "flex_flow": null,
            "grid_area": null,
            "grid_auto_columns": null,
            "grid_auto_flow": null,
            "grid_auto_rows": null,
            "grid_column": null,
            "grid_gap": null,
            "grid_row": null,
            "grid_template_areas": null,
            "grid_template_columns": null,
            "grid_template_rows": null,
            "height": null,
            "justify_content": null,
            "justify_items": null,
            "left": null,
            "margin": null,
            "max_height": null,
            "max_width": null,
            "min_height": null,
            "min_width": null,
            "object_fit": null,
            "object_position": null,
            "order": null,
            "overflow": null,
            "overflow_x": null,
            "overflow_y": null,
            "padding": null,
            "right": null,
            "top": null,
            "visibility": "hidden",
            "width": null
          }
        },
        "81ee4e0b024e40c3b8f3983a7a05293f": {
          "model_module": "@jupyter-widgets/controls",
          "model_module_version": "1.5.0",
          "model_name": "DescriptionStyleModel",
          "state": {
            "_model_module": "@jupyter-widgets/controls",
            "_model_module_version": "1.5.0",
            "_model_name": "DescriptionStyleModel",
            "_view_count": null,
            "_view_module": "@jupyter-widgets/base",
            "_view_module_version": "1.2.0",
            "_view_name": "StyleView",
            "description_width": ""
          }
        },
        "87155bf128b04c20a2924461468f27d5": {
          "model_module": "@jupyter-widgets/controls",
          "model_module_version": "1.5.0",
          "model_name": "ProgressStyleModel",
          "state": {
            "_model_module": "@jupyter-widgets/controls",
            "_model_module_version": "1.5.0",
            "_model_name": "ProgressStyleModel",
            "_view_count": null,
            "_view_module": "@jupyter-widgets/base",
            "_view_module_version": "1.2.0",
            "_view_name": "StyleView",
            "bar_color": null,
            "description_width": ""
          }
        },
        "946a46c7b5434444b9a0e3a3ed56d0b8": {
          "model_module": "@jupyter-widgets/base",
          "model_module_version": "1.2.0",
          "model_name": "LayoutModel",
          "state": {
            "_model_module": "@jupyter-widgets/base",
            "_model_module_version": "1.2.0",
            "_model_name": "LayoutModel",
            "_view_count": null,
            "_view_module": "@jupyter-widgets/base",
            "_view_module_version": "1.2.0",
            "_view_name": "LayoutView",
            "align_content": null,
            "align_items": null,
            "align_self": null,
            "border": null,
            "bottom": null,
            "display": null,
            "flex": null,
            "flex_flow": null,
            "grid_area": null,
            "grid_auto_columns": null,
            "grid_auto_flow": null,
            "grid_auto_rows": null,
            "grid_column": null,
            "grid_gap": null,
            "grid_row": null,
            "grid_template_areas": null,
            "grid_template_columns": null,
            "grid_template_rows": null,
            "height": null,
            "justify_content": null,
            "justify_items": null,
            "left": null,
            "margin": null,
            "max_height": null,
            "max_width": null,
            "min_height": null,
            "min_width": null,
            "object_fit": null,
            "object_position": null,
            "order": null,
            "overflow": null,
            "overflow_x": null,
            "overflow_y": null,
            "padding": null,
            "right": null,
            "top": null,
            "visibility": null,
            "width": null
          }
        },
        "9cf2bd4583cf492f80347b46dfc6b799": {
          "model_module": "@jupyter-widgets/controls",
          "model_module_version": "1.5.0",
          "model_name": "HTMLModel",
          "state": {
            "_dom_classes": [],
            "_model_module": "@jupyter-widgets/controls",
            "_model_module_version": "1.5.0",
            "_model_name": "HTMLModel",
            "_view_count": null,
            "_view_module": "@jupyter-widgets/controls",
            "_view_module_version": "1.5.0",
            "_view_name": "HTMLView",
            "description": "",
            "description_tooltip": null,
            "layout": "IPY_MODEL_24a68a36ab7a490ba0b7e21ae3c5f2a7",
            "placeholder": "​",
            "style": "IPY_MODEL_d3e8894a9cd74e239af96a59e9269bab",
            "value": "Translation Progress: [2669/2670]: 100%"
          }
        },
        "a47ff4a135984b999b16ad700cb6473b": {
          "model_module": "@jupyter-widgets/base",
          "model_module_version": "1.2.0",
          "model_name": "LayoutModel",
          "state": {
            "_model_module": "@jupyter-widgets/base",
            "_model_module_version": "1.2.0",
            "_model_name": "LayoutModel",
            "_view_count": null,
            "_view_module": "@jupyter-widgets/base",
            "_view_module_version": "1.2.0",
            "_view_name": "LayoutView",
            "align_content": null,
            "align_items": null,
            "align_self": null,
            "border": null,
            "bottom": null,
            "display": null,
            "flex": null,
            "flex_flow": null,
            "grid_area": null,
            "grid_auto_columns": null,
            "grid_auto_flow": null,
            "grid_auto_rows": null,
            "grid_column": null,
            "grid_gap": null,
            "grid_row": null,
            "grid_template_areas": null,
            "grid_template_columns": null,
            "grid_template_rows": null,
            "height": null,
            "justify_content": null,
            "justify_items": null,
            "left": null,
            "margin": null,
            "max_height": null,
            "max_width": null,
            "min_height": null,
            "min_width": null,
            "object_fit": null,
            "object_position": null,
            "order": null,
            "overflow": null,
            "overflow_x": null,
            "overflow_y": null,
            "padding": null,
            "right": null,
            "top": null,
            "visibility": null,
            "width": null
          }
        },
        "a73a92642308497583c8fbd26dbc790a": {
          "model_module": "@jupyter-widgets/base",
          "model_module_version": "1.2.0",
          "model_name": "LayoutModel",
          "state": {
            "_model_module": "@jupyter-widgets/base",
            "_model_module_version": "1.2.0",
            "_model_name": "LayoutModel",
            "_view_count": null,
            "_view_module": "@jupyter-widgets/base",
            "_view_module_version": "1.2.0",
            "_view_name": "LayoutView",
            "align_content": null,
            "align_items": null,
            "align_self": null,
            "border": null,
            "bottom": null,
            "display": null,
            "flex": null,
            "flex_flow": null,
            "grid_area": null,
            "grid_auto_columns": null,
            "grid_auto_flow": null,
            "grid_auto_rows": null,
            "grid_column": null,
            "grid_gap": null,
            "grid_row": null,
            "grid_template_areas": null,
            "grid_template_columns": null,
            "grid_template_rows": null,
            "height": null,
            "justify_content": null,
            "justify_items": null,
            "left": null,
            "margin": null,
            "max_height": null,
            "max_width": null,
            "min_height": null,
            "min_width": null,
            "object_fit": null,
            "object_position": null,
            "order": null,
            "overflow": null,
            "overflow_x": null,
            "overflow_y": null,
            "padding": null,
            "right": null,
            "top": null,
            "visibility": "hidden",
            "width": null
          }
        },
        "a93c05dcde0c43c9962aabca77bf0c44": {
          "model_module": "@jupyter-widgets/base",
          "model_module_version": "1.2.0",
          "model_name": "LayoutModel",
          "state": {
            "_model_module": "@jupyter-widgets/base",
            "_model_module_version": "1.2.0",
            "_model_name": "LayoutModel",
            "_view_count": null,
            "_view_module": "@jupyter-widgets/base",
            "_view_module_version": "1.2.0",
            "_view_name": "LayoutView",
            "align_content": null,
            "align_items": null,
            "align_self": null,
            "border": null,
            "bottom": null,
            "display": null,
            "flex": null,
            "flex_flow": null,
            "grid_area": null,
            "grid_auto_columns": null,
            "grid_auto_flow": null,
            "grid_auto_rows": null,
            "grid_column": null,
            "grid_gap": null,
            "grid_row": null,
            "grid_template_areas": null,
            "grid_template_columns": null,
            "grid_template_rows": null,
            "height": null,
            "justify_content": null,
            "justify_items": null,
            "left": null,
            "margin": null,
            "max_height": null,
            "max_width": null,
            "min_height": null,
            "min_width": null,
            "object_fit": null,
            "object_position": null,
            "order": null,
            "overflow": null,
            "overflow_x": null,
            "overflow_y": null,
            "padding": null,
            "right": null,
            "top": null,
            "visibility": null,
            "width": null
          }
        },
        "cffc86e75fd046c5a082926371ca0156": {
          "model_module": "@jupyter-widgets/controls",
          "model_module_version": "1.5.0",
          "model_name": "FloatProgressModel",
          "state": {
            "_dom_classes": [],
            "_model_module": "@jupyter-widgets/controls",
            "_model_module_version": "1.5.0",
            "_model_name": "FloatProgressModel",
            "_view_count": null,
            "_view_module": "@jupyter-widgets/controls",
            "_view_module_version": "1.5.0",
            "_view_name": "ProgressView",
            "bar_style": "",
            "description": "",
            "description_tooltip": null,
            "layout": "IPY_MODEL_a93c05dcde0c43c9962aabca77bf0c44",
            "max": 6,
            "min": 0,
            "orientation": "horizontal",
            "style": "IPY_MODEL_34c23208039e4dac841ce9a792a78f20",
            "value": 6
          }
        },
        "d3e8894a9cd74e239af96a59e9269bab": {
          "model_module": "@jupyter-widgets/controls",
          "model_module_version": "1.5.0",
          "model_name": "DescriptionStyleModel",
          "state": {
            "_model_module": "@jupyter-widgets/controls",
            "_model_module_version": "1.5.0",
            "_model_name": "DescriptionStyleModel",
            "_view_count": null,
            "_view_module": "@jupyter-widgets/base",
            "_view_module_version": "1.2.0",
            "_view_name": "StyleView",
            "description_width": ""
          }
        },
        "d4551300bab149529536823880617aa2": {
          "model_module": "@jupyter-widgets/controls",
          "model_module_version": "1.5.0",
          "model_name": "HBoxModel",
          "state": {
            "_dom_classes": [],
            "_model_module": "@jupyter-widgets/controls",
            "_model_module_version": "1.5.0",
            "_model_name": "HBoxModel",
            "_view_count": null,
            "_view_module": "@jupyter-widgets/controls",
            "_view_module_version": "1.5.0",
            "_view_name": "HBoxView",
            "box_style": "",
            "children": [
              "IPY_MODEL_5f7e5d743da444f69691f1fde835c8dd",
              "IPY_MODEL_cffc86e75fd046c5a082926371ca0156",
              "IPY_MODEL_16136eb2e0b645038ea9c8ca87f990b8"
            ],
            "layout": "IPY_MODEL_a73a92642308497583c8fbd26dbc790a"
          }
        },
        "d88155f74dec498ba1234e0a131e14e0": {
          "model_module": "@jupyter-widgets/controls",
          "model_module_version": "1.5.0",
          "model_name": "HBoxModel",
          "state": {
            "_dom_classes": [],
            "_model_module": "@jupyter-widgets/controls",
            "_model_module_version": "1.5.0",
            "_model_name": "HBoxModel",
            "_view_count": null,
            "_view_module": "@jupyter-widgets/controls",
            "_view_module_version": "1.5.0",
            "_view_name": "HBoxView",
            "box_style": "",
            "children": [
              "IPY_MODEL_9cf2bd4583cf492f80347b46dfc6b799",
              "IPY_MODEL_6e300e5d6bba47409c87afba0b3cb68b",
              "IPY_MODEL_0a9542a0b4334525b5474aba9eeb7242"
            ],
            "layout": "IPY_MODEL_7b23d3f41b664f5ab00ce73ada141b09"
          }
        },
        "f6b3d93c01944acc885439328072c4a9": {
          "model_module": "@jupyter-widgets/base",
          "model_module_version": "1.2.0",
          "model_name": "LayoutModel",
          "state": {
            "_model_module": "@jupyter-widgets/base",
            "_model_module_version": "1.2.0",
            "_model_name": "LayoutModel",
            "_view_count": null,
            "_view_module": "@jupyter-widgets/base",
            "_view_module_version": "1.2.0",
            "_view_name": "LayoutView",
            "align_content": null,
            "align_items": null,
            "align_self": null,
            "border": null,
            "bottom": null,
            "display": null,
            "flex": null,
            "flex_flow": null,
            "grid_area": null,
            "grid_auto_columns": null,
            "grid_auto_flow": null,
            "grid_auto_rows": null,
            "grid_column": null,
            "grid_gap": null,
            "grid_row": null,
            "grid_template_areas": null,
            "grid_template_columns": null,
            "grid_template_rows": null,
            "height": null,
            "justify_content": null,
            "justify_items": null,
            "left": null,
            "margin": null,
            "max_height": null,
            "max_width": null,
            "min_height": null,
            "min_width": null,
            "object_fit": null,
            "object_position": null,
            "order": null,
            "overflow": null,
            "overflow_x": null,
            "overflow_y": null,
            "padding": null,
            "right": null,
            "top": null,
            "visibility": null,
            "width": null
          }
        }
      }
    }
  },
  "nbformat": 4,
  "nbformat_minor": 0
}