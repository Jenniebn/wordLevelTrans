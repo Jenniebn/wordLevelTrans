{
  "cells": [
    {
      "cell_type": "markdown",
      "metadata": {
        "id": "view-in-github",
        "colab_type": "text"
      },
      "source": [
        "<a href=\"https://colab.research.google.com/github/Jenniebn/wordLevelTrans/blob/main/notebooks/ZhZhAutoencoder.ipynb\" target=\"_parent\"><img src=\"https://colab.research.google.com/assets/colab-badge.svg\" alt=\"Open In Colab\"/></a>"
      ]
    },
    {
      "cell_type": "code",
      "execution_count": 1,
      "metadata": {
        "id": "kuC0h3PWpGn7"
      },
      "outputs": [],
      "source": [
        "import sys\n",
        "import copy\n",
        "import json\n",
        "import time\n",
        "import math\n",
        "import torch\n",
        "import random\n",
        "import pickle\n",
        "import numpy as np\n",
        "import pandas as pd\n",
        "import matplotlib.pyplot as plt\n",
        "import torch.nn.functional as TF\n",
        "from torch import nn, optim, tensor\n",
        "from torch.utils.data import DataLoader, Dataset, SubsetRandomSampler"
      ]
    },
    {
      "cell_type": "code",
      "execution_count": 2,
      "metadata": {
        "colab": {
          "base_uri": "https://localhost:8080/"
        },
        "id": "LxfPPKa5JUDX",
        "outputId": "3dce3ace-8a86-403d-8213-caf59775f6bf"
      },
      "outputs": [
        {
          "output_type": "stream",
          "name": "stdout",
          "text": [
            "Mounted at /content/gdrive\n"
          ]
        }
      ],
      "source": [
        "from google.colab import drive\n",
        "\n",
        "# TODO 0: Mount your Google Drive; this allows the runtime environment to access your drive.\n",
        "drive.mount('/content/gdrive')\n",
        "\n",
        "# NOTE: Make sure your path does NOT include a '/' at the end!\n",
        "base_dir = \"/content/gdrive/MyDrive/wordLevelTrans\"\n",
        "sys.path.append(base_dir)\n",
        "## END TODO"
      ]
    },
    {
      "cell_type": "code",
      "execution_count": null,
      "metadata": {
        "colab": {
          "base_uri": "https://localhost:8080/"
        },
        "id": "f7v0h5pJNT_r",
        "outputId": "7bc57cf6-0faf-4b45-f819-b041e27b52fb"
      },
      "outputs": [
        {
          "name": "stdout",
          "output_type": "stream",
          "text": [
            "Mon Feb 19 05:29:53 2024       \n",
            "+---------------------------------------------------------------------------------------+\n",
            "| NVIDIA-SMI 535.104.05             Driver Version: 535.104.05   CUDA Version: 12.2     |\n",
            "|-----------------------------------------+----------------------+----------------------+\n",
            "| GPU  Name                 Persistence-M | Bus-Id        Disp.A | Volatile Uncorr. ECC |\n",
            "| Fan  Temp   Perf          Pwr:Usage/Cap |         Memory-Usage | GPU-Util  Compute M. |\n",
            "|                                         |                      |               MIG M. |\n",
            "|=========================================+======================+======================|\n",
            "|   0  Tesla V100-SXM2-16GB           Off | 00000000:00:04.0 Off |                    0 |\n",
            "| N/A   36C    P0              25W / 300W |      0MiB / 16384MiB |      0%      Default |\n",
            "|                                         |                      |                  N/A |\n",
            "+-----------------------------------------+----------------------+----------------------+\n",
            "                                                                                         \n",
            "+---------------------------------------------------------------------------------------+\n",
            "| Processes:                                                                            |\n",
            "|  GPU   GI   CI        PID   Type   Process name                            GPU Memory |\n",
            "|        ID   ID                                                             Usage      |\n",
            "|=======================================================================================|\n",
            "|  No running processes found                                                           |\n",
            "+---------------------------------------------------------------------------------------+\n"
          ]
        }
      ],
      "source": [
        "gpu_info = !nvidia-smi\n",
        "gpu_info = '\\n'.join(gpu_info)\n",
        "if gpu_info.find('failed') >= 0:\n",
        "  print('Not connected to a GPU')\n",
        "else:\n",
        "  print(gpu_info)"
      ]
    },
    {
      "cell_type": "code",
      "execution_count": null,
      "metadata": {
        "colab": {
          "base_uri": "https://localhost:8080/"
        },
        "id": "V2sohmSWOn83",
        "outputId": "c35d3a66-fa00-4417-9d6b-3f2565bb81bb"
      },
      "outputs": [
        {
          "name": "stdout",
          "output_type": "stream",
          "text": [
            "Your runtime has 54.8 gigabytes of available RAM\n",
            "\n",
            "You are using a high-RAM runtime!\n"
          ]
        }
      ],
      "source": [
        "from psutil import virtual_memory\n",
        "ram_gb = virtual_memory().total / 1e9\n",
        "print('Your runtime has {:.1f} gigabytes of available RAM\\n'.format(ram_gb))\n",
        "\n",
        "if ram_gb < 20:\n",
        "  print('Not using a high-RAM runtime')\n",
        "else:\n",
        "  print('You are using a high-RAM runtime!')"
      ]
    },
    {
      "cell_type": "markdown",
      "metadata": {
        "id": "8UnEBpWxj2f6"
      },
      "source": [
        "# 1. Load Datasets"
      ]
    },
    {
      "cell_type": "code",
      "execution_count": null,
      "metadata": {
        "id": "dRy1Ff7jf52K"
      },
      "outputs": [],
      "source": [
        "with open('data/zh_embedding.pkl', 'rb') as file:\n",
        "    zh_embedding = pickle.load(file)\n",
        "    file.close()\n",
        "with open('data/vocab_zh.pkl', 'rb') as file:\n",
        "    vocab_zh = pickle.load(file)\n",
        "    file.close()\n",
        "with open('data/word_to_index_zh.pkl', 'rb') as file:\n",
        "    word_to_index_zh = pickle.load(file)\n",
        "    file.close()\n",
        "with open('data/idx_to_embed_zh.pkl', 'rb') as file:\n",
        "    idx_to_embed_zh = pickle.load(file)\n",
        "    file.close()\n",
        "with open('data/en_embedding.pkl', 'rb') as file:\n",
        "    en_embedding = pickle.load(file)\n",
        "    file.close()\n",
        "with open('data/vocab_en.pkl', 'rb') as file:\n",
        "    vocab_en = pickle.load(file)\n",
        "    file.close()\n",
        "with open('data/word_to_index_en.pkl', 'rb') as file:\n",
        "    word_to_index_en = pickle.load(file)\n",
        "    file.close()\n",
        "with open('data/idx_to_embed_en.pkl', 'rb') as file:\n",
        "    idx_to_embed_en = pickle.load(file)\n",
        "    file.close()"
      ]
    },
    {
      "cell_type": "code",
      "execution_count": null,
      "metadata": {
        "colab": {
          "base_uri": "https://localhost:8080/"
        },
        "id": "qGlRXUqsf662",
        "outputId": "8188fbca-bb1a-4680-ed4a-f1f8e4030c01"
      },
      "outputs": [
        {
          "name": "stdout",
          "output_type": "stream",
          "text": [
            "The first 10 words in the English vocabulary are: {'and': 0, 'of': 1, 'a': 2, 'in': 3, 'is': 4, 'to': 5, 'for': 6, 'that': 7, 's': 8, 'with': 9}\n",
            "EN vocab size is 82615\n",
            "The index for the English word 'cannot' is: 700\n"
          ]
        }
      ],
      "source": [
        "vocab_en = list(word_to_index_en.keys())\n",
        "vocab_size_en = len(vocab_en)\n",
        "first10pairs = {k: word_to_index_en[k] for k in list(word_to_index_en)[:10]}\n",
        "print(\"The first 10 words in the English vocabulary are:\", first10pairs)\n",
        "print(\"EN vocab size is\", vocab_size_en)\n",
        "print(\"The index for the English word 'cannot' is:\", word_to_index_en[\"cannot\"])"
      ]
    },
    {
      "cell_type": "code",
      "execution_count": null,
      "metadata": {
        "colab": {
          "base_uri": "https://localhost:8080/"
        },
        "id": "vSrviNu8f9nG",
        "outputId": "bcc4bb92-e55e-4c36-dc13-90e279104f46"
      },
      "outputs": [
        {
          "name": "stdout",
          "output_type": "stream",
          "text": [
            "The first 10 words in the Chinese vocabulary are: {'的': 0, '了': 1, '在': 2, '是': 3, '和': 4, '有': 5, '章': 6, '就': 7, '第': 8, '也': 9}\n",
            "ZH vocab size is 95685\n",
            "The index for the Chinese word '的' is: 0\n"
          ]
        }
      ],
      "source": [
        "vocab_zh = list(word_to_index_zh.keys())\n",
        "vocab_size_zh = len(vocab_zh)\n",
        "first10pairs = {k: word_to_index_zh[k] for k in list(word_to_index_zh)[:10]}\n",
        "print(\"The first 10 words in the Chinese vocabulary are:\", first10pairs)\n",
        "print(\"ZH vocab size is\", vocab_size_zh)\n",
        "print(\"The index for the Chinese word '的' is:\", word_to_index_zh['的'])"
      ]
    },
    {
      "cell_type": "code",
      "execution_count": null,
      "metadata": {
        "colab": {
          "base_uri": "https://localhost:8080/"
        },
        "id": "VMp1EQN9nXe5",
        "outputId": "7b32be1f-fdf5-4bdc-9654-9d6c06571f37"
      },
      "outputs": [
        {
          "name": "stdout",
          "output_type": "stream",
          "text": [
            "{'petard': ['作茧自缚', '以子之矛，攻子之盾', '吐丝自缚'], 'northeasterly': ['向东北的', '东北风'], 'relinquishment': ['放弃'], 'readers': ['读者'], 'thawed': ['融化'], 'improvised': ['自制', '即席'], 'webbed': ['有蹼的'], 'extolled': ['赞扬'], 'votive': ['奉献的', '还愿'], 'ardour': ['激情', '热忱']}\n"
          ]
        }
      ],
      "source": [
        "# Load the golden set\n",
        "with open('data/golden_set.json', encoding=\"utf-8-sig\") as in_file:\n",
        "  # returns JSON object as a dictionary\n",
        "    golden_set = json.load(in_file)\n",
        "\n",
        "# Closing file\n",
        "in_file.close()\n",
        "\n",
        "first10pairs = {k: golden_set[k] for k in list(golden_set)[:10]}\n",
        "print(first10pairs)"
      ]
    },
    {
      "cell_type": "code",
      "execution_count": null,
      "metadata": {
        "colab": {
          "base_uri": "https://localhost:8080/"
        },
        "id": "SNtUHln1gdmj",
        "outputId": "780fb755-cf28-4d36-dd28-9dd1e24d1b15"
      },
      "outputs": [
        {
          "name": "stdout",
          "output_type": "stream",
          "text": [
            "There are 46409 unique English words in our golden set\n"
          ]
        }
      ],
      "source": [
        "# en_vocab_list is list of unique English words in golden set\n",
        "gold_en_list = list(golden_set.keys())\n",
        "\n",
        "# length of English vocabulary\n",
        "gold_en_size = len(gold_en_list)\n",
        "print(\"There are\", gold_en_size, \"unique English words in our golden set\")"
      ]
    },
    {
      "cell_type": "code",
      "execution_count": null,
      "metadata": {
        "id": "cUokaeXTah5i"
      },
      "outputs": [],
      "source": [
        "# Load the partitioned golden set\n",
        "with open('data/partitioned_golden_set.json', encoding=\"utf-8-sig\") as in_file:\n",
        "  # returns JSON object as a dictionary\n",
        "    partitioned_golden_set = json.load(in_file)\n",
        "\n",
        "# Closing file\n",
        "in_file.close()\n",
        "\n",
        "concrete_emotion_label = partitioned_golden_set['concrete']['emotion_label']\n",
        "concrete_emotion_laden = partitioned_golden_set['concrete']['emotion_laden']\n",
        "concrete_other = partitioned_golden_set['concrete']['other']\n",
        "abstract_emotion_label = partitioned_golden_set['abstract']['emotion_label']\n",
        "abstract_emotion_laden = partitioned_golden_set['abstract']['emotion_laden']\n",
        "abstract_other = partitioned_golden_set['abstract']['other']\n",
        "unknown_emotion_label = partitioned_golden_set['unknown_abstraction']['emotion_label']\n",
        "unknown_emotion_laden = partitioned_golden_set['unknown_abstraction']['emotion_laden']\n",
        "unknown_other = partitioned_golden_set['unknown_abstraction']['other']"
      ]
    },
    {
      "cell_type": "code",
      "execution_count": null,
      "metadata": {
        "id": "S2O66hsYapw0"
      },
      "outputs": [],
      "source": [
        "# Load the lemmatized golden set\n",
        "with open('data/lemmatized_golden_set.json', encoding=\"utf-8-sig\") as in_file:\n",
        "  # returns JSON object as a dictionary\n",
        "    lemmatized_golden_set = json.load(in_file)\n",
        "\n",
        "# Closing file\n",
        "in_file.close()"
      ]
    },
    {
      "cell_type": "code",
      "execution_count": null,
      "metadata": {
        "id": "fvzl6BKJkERP"
      },
      "outputs": [],
      "source": [
        "torch.manual_seed(4)\n",
        "np.random.seed(4)\n",
        "random.seed(4)"
      ]
    },
    {
      "cell_type": "markdown",
      "metadata": {
        "id": "k1DbO-KMBKCu"
      },
      "source": [
        "# 2. Custom Dataset"
      ]
    },
    {
      "cell_type": "code",
      "execution_count": null,
      "metadata": {
        "id": "jigMIVJWBM1_"
      },
      "outputs": [],
      "source": [
        "# Define dataset to load to dataloader\n",
        "class TrainData(Dataset):\n",
        "\n",
        "    def __init__(self, trained_data):\n",
        "        \"\"\"Loads the data from the pretrained model\"\"\"\n",
        "        self.data = trained_data\n",
        "\n",
        "    def __getitem__(self, idx):\n",
        "        \"\"\"Returns the datapoint at a given index\"\"\"\n",
        "        return self.data[idx]\n",
        "\n",
        "    def __len__(self):\n",
        "        \"\"\"Returns the number of datapoints in the dataset\"\"\"\n",
        "        return len(self.data)"
      ]
    },
    {
      "cell_type": "code",
      "execution_count": null,
      "metadata": {
        "id": "4nsbFbONBNy-"
      },
      "outputs": [],
      "source": [
        "# Define collate_batch for batch of training samples\n",
        "\n",
        "def wordToindex(word):\n",
        "    \"\"\"Get the corresponding index for the Chinese word\"\"\"\n",
        "    return word_to_index_zh[word]\n",
        "\n",
        "def collate_batch(batch):\n",
        "    \"\"\"Converts a batch of data into packed PyTorch tensor format,\n",
        "    and collates the results by index, word, and one-hot vector\n",
        "    for use in an Autoencoder.\n",
        "    \"\"\"\n",
        "    # Initialize lists that separate out the 3 components\n",
        "    index_list      = list()\n",
        "    word_list       = list()\n",
        "\n",
        "    for word in batch:\n",
        "        # Convert to PyTorch format\n",
        "        index   = wordToindex(word)\n",
        "\n",
        "        # Add converted data to separate component lists\n",
        "        index_list.append(index)\n",
        "        word_list.append(word)\n",
        "\n",
        "    # Convert to mini-batch tensors\n",
        "    index_tensor = torch.tensor(index_list, dtype=torch.int64)\n",
        "\n",
        "    return (word_list, index_tensor)"
      ]
    },
    {
      "cell_type": "markdown",
      "metadata": {
        "id": "_zEtiOF7ykeo"
      },
      "source": [
        "# 3. Create latent spaces + relative embeddings"
      ]
    },
    {
      "cell_type": "code",
      "execution_count": null,
      "metadata": {
        "colab": {
          "base_uri": "https://localhost:8080/"
        },
        "id": "S6UF0s0yyn8y",
        "outputId": "44d27ab6-29dc-4ec5-a4c0-23eb6a4fa9bd"
      },
      "outputs": [
        {
          "name": "stdout",
          "output_type": "stream",
          "text": [
            "Collecting pytorch_lightning\n",
            "  Downloading pytorch_lightning-2.2.2-py3-none-any.whl (801 kB)\n",
            "\u001b[?25l     \u001b[90m━━━━━━━━━━━━━━━━━━━━━━━━━━━━━━━━━━━━━━━━\u001b[0m \u001b[32m0.0/801.9 kB\u001b[0m \u001b[31m?\u001b[0m eta \u001b[36m-:--:--\u001b[0m\r\u001b[2K     \u001b[91m━━━━━━━━━━━━━━\u001b[0m\u001b[90m╺\u001b[0m\u001b[90m━━━━━━━━━━━━━━━━━━━━━━━━━\u001b[0m \u001b[32m286.7/801.9 kB\u001b[0m \u001b[31m8.6 MB/s\u001b[0m eta \u001b[36m0:00:01\u001b[0m\r\u001b[2K     \u001b[91m━━━━━━━━━━━━━━━━━━━━━━━━━━━━━━━━━━━━━━━\u001b[0m\u001b[91m╸\u001b[0m \u001b[32m798.7/801.9 kB\u001b[0m \u001b[31m13.1 MB/s\u001b[0m eta \u001b[36m0:00:01\u001b[0m\r\u001b[2K     \u001b[90m━━━━━━━━━━━━━━━━━━━━━━━━━━━━━━━━━━━━━━━━\u001b[0m \u001b[32m801.9/801.9 kB\u001b[0m \u001b[31m11.2 MB/s\u001b[0m eta \u001b[36m0:00:00\u001b[0m\n",
            "\u001b[?25hRequirement already satisfied: numpy>=1.17.2 in /usr/local/lib/python3.10/dist-packages (from pytorch_lightning) (1.25.2)\n",
            "Requirement already satisfied: torch>=1.13.0 in /usr/local/lib/python3.10/dist-packages (from pytorch_lightning) (2.2.1+cu121)\n",
            "Requirement already satisfied: tqdm>=4.57.0 in /usr/local/lib/python3.10/dist-packages (from pytorch_lightning) (4.66.2)\n",
            "Requirement already satisfied: PyYAML>=5.4 in /usr/local/lib/python3.10/dist-packages (from pytorch_lightning) (6.0.1)\n",
            "Requirement already satisfied: fsspec[http]>=2022.5.0 in /usr/local/lib/python3.10/dist-packages (from pytorch_lightning) (2023.6.0)\n",
            "Collecting torchmetrics>=0.7.0 (from pytorch_lightning)\n",
            "  Downloading torchmetrics-1.3.2-py3-none-any.whl (841 kB)\n",
            "\u001b[2K     \u001b[90m━━━━━━━━━━━━━━━━━━━━━━━━━━━━━━━━━━━━━━━━\u001b[0m \u001b[32m841.5/841.5 kB\u001b[0m \u001b[31m21.0 MB/s\u001b[0m eta \u001b[36m0:00:00\u001b[0m\n",
            "\u001b[?25hRequirement already satisfied: packaging>=20.0 in /usr/local/lib/python3.10/dist-packages (from pytorch_lightning) (24.0)\n",
            "Requirement already satisfied: typing-extensions>=4.4.0 in /usr/local/lib/python3.10/dist-packages (from pytorch_lightning) (4.11.0)\n",
            "Collecting lightning-utilities>=0.8.0 (from pytorch_lightning)\n",
            "  Downloading lightning_utilities-0.11.2-py3-none-any.whl (26 kB)\n",
            "Requirement already satisfied: requests in /usr/local/lib/python3.10/dist-packages (from fsspec[http]>=2022.5.0->pytorch_lightning) (2.31.0)\n",
            "Requirement already satisfied: aiohttp!=4.0.0a0,!=4.0.0a1 in /usr/local/lib/python3.10/dist-packages (from fsspec[http]>=2022.5.0->pytorch_lightning) (3.9.3)\n",
            "Requirement already satisfied: setuptools in /usr/local/lib/python3.10/dist-packages (from lightning-utilities>=0.8.0->pytorch_lightning) (67.7.2)\n",
            "Requirement already satisfied: filelock in /usr/local/lib/python3.10/dist-packages (from torch>=1.13.0->pytorch_lightning) (3.13.4)\n",
            "Requirement already satisfied: sympy in /usr/local/lib/python3.10/dist-packages (from torch>=1.13.0->pytorch_lightning) (1.12)\n",
            "Requirement already satisfied: networkx in /usr/local/lib/python3.10/dist-packages (from torch>=1.13.0->pytorch_lightning) (3.3)\n",
            "Requirement already satisfied: jinja2 in /usr/local/lib/python3.10/dist-packages (from torch>=1.13.0->pytorch_lightning) (3.1.3)\n",
            "Collecting nvidia-cuda-nvrtc-cu12==12.1.105 (from torch>=1.13.0->pytorch_lightning)\n",
            "  Using cached nvidia_cuda_nvrtc_cu12-12.1.105-py3-none-manylinux1_x86_64.whl (23.7 MB)\n",
            "Collecting nvidia-cuda-runtime-cu12==12.1.105 (from torch>=1.13.0->pytorch_lightning)\n",
            "  Using cached nvidia_cuda_runtime_cu12-12.1.105-py3-none-manylinux1_x86_64.whl (823 kB)\n",
            "Collecting nvidia-cuda-cupti-cu12==12.1.105 (from torch>=1.13.0->pytorch_lightning)\n",
            "  Using cached nvidia_cuda_cupti_cu12-12.1.105-py3-none-manylinux1_x86_64.whl (14.1 MB)\n",
            "Collecting nvidia-cudnn-cu12==8.9.2.26 (from torch>=1.13.0->pytorch_lightning)\n",
            "  Using cached nvidia_cudnn_cu12-8.9.2.26-py3-none-manylinux1_x86_64.whl (731.7 MB)\n",
            "Collecting nvidia-cublas-cu12==12.1.3.1 (from torch>=1.13.0->pytorch_lightning)\n",
            "  Using cached nvidia_cublas_cu12-12.1.3.1-py3-none-manylinux1_x86_64.whl (410.6 MB)\n",
            "Collecting nvidia-cufft-cu12==11.0.2.54 (from torch>=1.13.0->pytorch_lightning)\n",
            "  Using cached nvidia_cufft_cu12-11.0.2.54-py3-none-manylinux1_x86_64.whl (121.6 MB)\n",
            "Collecting nvidia-curand-cu12==10.3.2.106 (from torch>=1.13.0->pytorch_lightning)\n",
            "  Using cached nvidia_curand_cu12-10.3.2.106-py3-none-manylinux1_x86_64.whl (56.5 MB)\n",
            "Collecting nvidia-cusolver-cu12==11.4.5.107 (from torch>=1.13.0->pytorch_lightning)\n",
            "  Using cached nvidia_cusolver_cu12-11.4.5.107-py3-none-manylinux1_x86_64.whl (124.2 MB)\n",
            "Collecting nvidia-cusparse-cu12==12.1.0.106 (from torch>=1.13.0->pytorch_lightning)\n",
            "  Using cached nvidia_cusparse_cu12-12.1.0.106-py3-none-manylinux1_x86_64.whl (196.0 MB)\n",
            "Collecting nvidia-nccl-cu12==2.19.3 (from torch>=1.13.0->pytorch_lightning)\n",
            "  Using cached nvidia_nccl_cu12-2.19.3-py3-none-manylinux1_x86_64.whl (166.0 MB)\n",
            "Collecting nvidia-nvtx-cu12==12.1.105 (from torch>=1.13.0->pytorch_lightning)\n",
            "  Using cached nvidia_nvtx_cu12-12.1.105-py3-none-manylinux1_x86_64.whl (99 kB)\n",
            "Requirement already satisfied: triton==2.2.0 in /usr/local/lib/python3.10/dist-packages (from torch>=1.13.0->pytorch_lightning) (2.2.0)\n",
            "Collecting nvidia-nvjitlink-cu12 (from nvidia-cusolver-cu12==11.4.5.107->torch>=1.13.0->pytorch_lightning)\n",
            "  Using cached nvidia_nvjitlink_cu12-12.4.127-py3-none-manylinux2014_x86_64.whl (21.1 MB)\n",
            "Requirement already satisfied: aiosignal>=1.1.2 in /usr/local/lib/python3.10/dist-packages (from aiohttp!=4.0.0a0,!=4.0.0a1->fsspec[http]>=2022.5.0->pytorch_lightning) (1.3.1)\n",
            "Requirement already satisfied: attrs>=17.3.0 in /usr/local/lib/python3.10/dist-packages (from aiohttp!=4.0.0a0,!=4.0.0a1->fsspec[http]>=2022.5.0->pytorch_lightning) (23.2.0)\n",
            "Requirement already satisfied: frozenlist>=1.1.1 in /usr/local/lib/python3.10/dist-packages (from aiohttp!=4.0.0a0,!=4.0.0a1->fsspec[http]>=2022.5.0->pytorch_lightning) (1.4.1)\n",
            "Requirement already satisfied: multidict<7.0,>=4.5 in /usr/local/lib/python3.10/dist-packages (from aiohttp!=4.0.0a0,!=4.0.0a1->fsspec[http]>=2022.5.0->pytorch_lightning) (6.0.5)\n",
            "Requirement already satisfied: yarl<2.0,>=1.0 in /usr/local/lib/python3.10/dist-packages (from aiohttp!=4.0.0a0,!=4.0.0a1->fsspec[http]>=2022.5.0->pytorch_lightning) (1.9.4)\n",
            "Requirement already satisfied: async-timeout<5.0,>=4.0 in /usr/local/lib/python3.10/dist-packages (from aiohttp!=4.0.0a0,!=4.0.0a1->fsspec[http]>=2022.5.0->pytorch_lightning) (4.0.3)\n",
            "Requirement already satisfied: MarkupSafe>=2.0 in /usr/local/lib/python3.10/dist-packages (from jinja2->torch>=1.13.0->pytorch_lightning) (2.1.5)\n",
            "Requirement already satisfied: charset-normalizer<4,>=2 in /usr/local/lib/python3.10/dist-packages (from requests->fsspec[http]>=2022.5.0->pytorch_lightning) (3.3.2)\n",
            "Requirement already satisfied: idna<4,>=2.5 in /usr/local/lib/python3.10/dist-packages (from requests->fsspec[http]>=2022.5.0->pytorch_lightning) (3.6)\n",
            "Requirement already satisfied: urllib3<3,>=1.21.1 in /usr/local/lib/python3.10/dist-packages (from requests->fsspec[http]>=2022.5.0->pytorch_lightning) (2.0.7)\n",
            "Requirement already satisfied: certifi>=2017.4.17 in /usr/local/lib/python3.10/dist-packages (from requests->fsspec[http]>=2022.5.0->pytorch_lightning) (2024.2.2)\n",
            "Requirement already satisfied: mpmath>=0.19 in /usr/local/lib/python3.10/dist-packages (from sympy->torch>=1.13.0->pytorch_lightning) (1.3.0)\n",
            "Installing collected packages: nvidia-nvtx-cu12, nvidia-nvjitlink-cu12, nvidia-nccl-cu12, nvidia-curand-cu12, nvidia-cufft-cu12, nvidia-cuda-runtime-cu12, nvidia-cuda-nvrtc-cu12, nvidia-cuda-cupti-cu12, nvidia-cublas-cu12, lightning-utilities, nvidia-cusparse-cu12, nvidia-cudnn-cu12, nvidia-cusolver-cu12, torchmetrics, pytorch_lightning\n",
            "Successfully installed lightning-utilities-0.11.2 nvidia-cublas-cu12-12.1.3.1 nvidia-cuda-cupti-cu12-12.1.105 nvidia-cuda-nvrtc-cu12-12.1.105 nvidia-cuda-runtime-cu12-12.1.105 nvidia-cudnn-cu12-8.9.2.26 nvidia-cufft-cu12-11.0.2.54 nvidia-curand-cu12-10.3.2.106 nvidia-cusolver-cu12-11.4.5.107 nvidia-cusparse-cu12-12.1.0.106 nvidia-nccl-cu12-2.19.3 nvidia-nvjitlink-cu12-12.4.127 nvidia-nvtx-cu12-12.1.105 pytorch_lightning-2.2.2 torchmetrics-1.3.2\n"
          ]
        }
      ],
      "source": [
        "from typing import *\n",
        "!pip install pytorch_lightning\n",
        "from pytorch_lightning import seed_everything\n",
        "from tqdm.auto import tqdm"
      ]
    },
    {
      "cell_type": "code",
      "execution_count": null,
      "metadata": {
        "id": "D9TZUxavyzV1"
      },
      "outputs": [],
      "source": [
        "\"\"\"\n",
        "This code is adopted from Moschella et al's work: https://github.com/lucmos/relreps?tab=readme-ov-file\n",
        "\"\"\"\n",
        "def relative_projection(x: torch.Tensor, anchors: torch.Tensor) -> torch.Tensor:\n",
        "    \"\"\"Compute the relative representation of x with the cosine similarity\n",
        "\n",
        "    Args:\n",
        "        x: the samples absolute latents [batch, hidden_dim]\n",
        "        anchors: the anchors absolute latents [anchors, hidden_dim]\n",
        "\n",
        "    Returns:\n",
        "        the relative representation of x. The relative representation is *not* normalized,\n",
        "        when training on relative representation it is useful to normalize it\n",
        "    \"\"\"\n",
        "    x = TF.normalize(x, p=2, dim=-1)\n",
        "    anchors = TF.normalize(anchors, p=2, dim=-1)\n",
        "    return torch.einsum(\"bm, am -> ba\", x, anchors)\n",
        "\n",
        "class LatentSpace:\n",
        "    def __init__(\n",
        "        self,\n",
        "        encoding_type: str,\n",
        "        encoder_name: str,\n",
        "        vectors: torch.Tensor,\n",
        "        ids: Sequence[int],\n",
        "    ):\n",
        "        \"\"\"Utility class to represent a generic latent space\n",
        "\n",
        "        Args:\n",
        "            encoding_type: the type of latent space, i.e. \"absolute\" or \"relative\" usually\n",
        "            encoder_name: the name of the encoder used to obtain the vectors\n",
        "            vectors: the latents that compose the latent space\n",
        "            ids: the ids associated with the vectors\n",
        "        \"\"\"\n",
        "        assert vectors.shape[0] == len(ids)\n",
        "\n",
        "        self.encoding_type: str = encoding_type\n",
        "        self.vectors: torch.Tensor = vectors\n",
        "        self.ids: Sequence[int] = ids\n",
        "        self.encoder_name: str = encoder_name\n",
        "\n",
        "    def get_anchors(self, anchor_choice: str, num_anchors: int, seed: int) -> Sequence[int]:\n",
        "        \"\"\"Adopt some strategy to select the anchors.\n",
        "\n",
        "        Args:\n",
        "            anchor_choice: the selection strategy for the anchors\n",
        "            seed: the random seed to use\n",
        "\n",
        "        Returns:\n",
        "            the ids of the chosen anchors\n",
        "        \"\"\"\n",
        "        # Select anchors\n",
        "        seed_everything(seed)\n",
        "        anchor_set = []\n",
        "        if anchor_choice == \"uniform\":\n",
        "            while (len(anchor_set) != num_anchors):\n",
        "              anchor_id = random.randint(0, len(self.ids))\n",
        "\n",
        "              if anchor_id in anchor_set:\n",
        "                # if the selected anchor is already in the set, pass\n",
        "                continue\n",
        "              elif anchor_id in en_index and anchor_id in zh_index:\n",
        "                # if the selected anchor is in training set include it\n",
        "                anchor_set.append(anchor_id)\n",
        "              else:\n",
        "                continue\n",
        "        else:\n",
        "            assert NotImplementedError\n",
        "\n",
        "        result = sorted(anchor_set)\n",
        "        return result\n",
        "\n",
        "    def to_relative(\n",
        "        self, anchor_choice: str = None, seed: int = None, anchors: Optional[Sequence[int]] = None\n",
        "    ) -> \"RelativeSpace\":\n",
        "        \"\"\"Compute the relative transformation on the current space returning a new one.\n",
        "\n",
        "        Args:\n",
        "            anchor_choice: the anchors selection strategy to use, if no anchors are provided\n",
        "            seed: the random seed to use\n",
        "            anchors: the ids of the anchors to use\n",
        "\n",
        "        Returns:\n",
        "            the RelativeSpace associated to the current LatentSpace\n",
        "        \"\"\"\n",
        "        assert self.encoding_type != \"relative\"  # TODO: for now\n",
        "        anchors = self.get_anchors(anchor_choice=anchor_choice, seed=seed) if anchors is None else anchors\n",
        "\n",
        "        anchor_latents: torch.Tensor = self.vectors[anchors]\n",
        "\n",
        "        relative_vectors = relative_projection(x=self.vectors, anchors=anchor_latents.cpu())\n",
        "\n",
        "        return RelativeSpace(vectors=relative_vectors, encoder_name=self.encoder_name, anchors=anchors, ids=self.ids)\n",
        "\n",
        "class RelativeSpace(LatentSpace):\n",
        "    def __init__(\n",
        "        self,\n",
        "        vectors: torch.Tensor,\n",
        "        ids: Sequence[int],\n",
        "        anchors: Sequence[int],\n",
        "        encoder_name: str = None,\n",
        "    ):\n",
        "        \"\"\"Utility class to represent a relative latent space\n",
        "\n",
        "        Args:\n",
        "            vectors: the latents that compose the latent space\n",
        "            ids: the ids associated ot the vectors\n",
        "            encoder_name: the name of the encoder_name used to obtain the vectors\n",
        "            anchors: the ids associated to the anchors to use\n",
        "        \"\"\"\n",
        "        super().__init__(encoding_type=\"relative\", vectors=vectors, encoder_name=encoder_name, ids=ids)\n",
        "        self.anchors: Sequence[int] = anchors"
      ]
    },
    {
      "cell_type": "markdown",
      "metadata": {
        "id": "TGr5nfFsS7Yg"
      },
      "source": [
        "# 4. Create latent space and relative embeddings using chosen anchors"
      ]
    },
    {
      "cell_type": "code",
      "execution_count": null,
      "metadata": {
        "colab": {
          "base_uri": "https://localhost:8080/"
        },
        "id": "Rj27W85-d1Ub",
        "outputId": "11878aaf-a178-489e-b05c-938dfbcb1ec1"
      },
      "outputs": [
        {
          "name": "stdout",
          "output_type": "stream",
          "text": [
            "Chosen English anchors are [3, 7, 17, 20, 30, 39, 40, 45, 70, 83, 95, 100, 105, 109, 119, 137, 163, 176, 195, 214, 218, 234, 235, 247, 266, 272, 303, 329, 339, 437, 465, 489, 498, 507, 510, 525, 542, 571, 607, 657, 660, 716, 726, 727, 734, 751, 769, 784, 902, 938, 998, 1004, 1016, 1025, 1099, 1148, 1301, 1315, 1321, 1388, 1503, 1524, 1529, 1607, 1641, 1706, 1738, 1816, 1845, 1858, 1934, 1963, 2021, 2037, 2063, 2142, 2178, 2181, 2203, 2264, 2292, 2442, 2540, 2588, 2643, 2649, 2674, 2713, 2862, 2931, 2949, 2973, 2994, 3051, 3076, 3180, 3194, 3297, 3343, 3377, 3483, 3515, 3538, 3539, 3588, 3695, 3717, 3735, 3757, 3854, 3927, 4078, 4167, 4178, 4183, 4312, 4337, 4391, 4406, 4516, 4821, 4824, 4829, 5096, 5138, 5240, 5268, 5373, 5412, 5441, 5450, 5482, 5739, 5880, 5908, 6062, 6101, 6222, 6329, 6396, 6427, 6642, 6687, 6785, 6805, 6823, 6928, 6971, 7231, 7299, 7366, 7745, 7900, 7918, 8374, 8526, 8579, 8624, 8805, 8871, 8901, 9418, 9635, 9830, 9946, 10210, 10510, 10523, 10687, 10699, 11503, 11596, 11653, 12021, 12458, 12640, 13024, 13397, 13594, 13779, 14240, 14404, 14531, 14660, 15590, 16243, 16359, 17380, 17466, 17830, 18416, 18454, 21024, 23492, 25422, 30119, 35371, 39064, 40485, 46664, 49070, 52758, 137192, 335598]\n",
            "Chosen Chinese anchors are [10, 13, 13, 21, 32, 41, 49, 53, 58, 60, 61, 95, 97, 104, 111, 131, 150, 152, 160, 160, 163, 202, 231, 245, 384, 396, 458, 503, 646, 661, 672, 683, 684, 793, 824, 918, 927, 954, 970, 983, 1033, 1040, 1089, 1105, 1114, 1165, 1201, 1227, 1351, 1394, 1565, 1620, 1658, 1683, 1728, 1881, 1903, 1927, 1933, 2127, 2360, 2376, 2383, 2432, 2457, 2505, 2549, 2566, 2790, 2847, 2889, 2914, 3069, 3094, 3100, 3234, 3279, 3301, 3350, 3494, 3559, 3625, 3762, 3843, 3856, 3859, 4105, 4182, 4208, 4485, 4503, 4510, 4746, 4746, 4789, 5122, 5202, 5242, 5289, 5424, 5432, 5447, 5462, 5494, 5504, 5581, 5631, 5694, 5739, 5851, 6189, 6314, 6570, 6645, 6665, 6667, 6732, 6768, 6838, 6942, 7003, 7023, 7027, 7040, 7212, 7238, 7368, 7464, 7485, 7841, 7904, 7990, 8126, 8324, 8354, 8372, 8609, 8728, 9144, 9176, 9237, 9323, 9630, 9933, 10069, 10503, 10622, 10637, 10951, 11508, 12059, 12284, 12596, 12740, 12747, 13177, 13521, 13548, 13734, 13890, 14537, 15036, 15059, 15203, 15328, 15422, 15669, 15803, 16308, 16382, 16554, 17076, 18635, 19390, 19543, 20110, 20559, 20676, 20821, 22032, 22679, 23433, 23668, 24062, 24547, 26504, 27983, 28102, 30025, 30333, 31423, 31868, 35689, 43439, 48401, 62324, 63703, 64938, 65763, 69705, 106401, 130210, 151618, 680906]\n"
          ]
        }
      ],
      "source": [
        "# Read dictionary to memory\n",
        "def read_anchors(filePath):\n",
        "    # for reading also binary mode is important\n",
        "    with open(filePath, 'rb') as fp:\n",
        "        n_list = json.load(fp)\n",
        "        return n_list\n",
        "\n",
        "r_anchors = read_anchors(\"data/anchors_random_dim_200.json\")\n",
        "print('Chosen English anchors are', r_anchors[\"en\"])\n",
        "print('Chosen Chinese anchors are', r_anchors[\"zh\"])"
      ]
    },
    {
      "cell_type": "code",
      "execution_count": null,
      "metadata": {
        "id": "OZFgsHWVJP6P"
      },
      "outputs": [],
      "source": [
        "# Double check number of anchors are equal in English and Chinese\n",
        "assert len(r_anchors[\"en\"]) == len(r_anchors[\"zh\"])\n",
        "NUM_ANCHORS = len(r_anchors[\"en\"])\n",
        "print(\"Number of anchors =\", NUM_ANCHORS)"
      ]
    },
    {
      "cell_type": "code",
      "execution_count": null,
      "metadata": {
        "id": "9oz5su1eT9Xy"
      },
      "outputs": [],
      "source": [
        "NUM_SAMPLES_EN = vocab_size_en\n",
        "\n",
        "en_anchors_ids = r_anchors[\"en\"]\n",
        "print(\"Selected English anchor ids are:\", en_anchors_ids)\n",
        "\n",
        "# Create English latent space from English absolute embeddings\n",
        "en_abs_embedding = torch.FloatTensor(en_embedding)\n",
        "\n",
        "en_abs_latent_space = LatentSpace(\n",
        "    encoding_type=\"absolute\",\n",
        "    encoder_name=\"english abs embedding\",\n",
        "    vectors=en_abs_embedding,\n",
        "    ids=list(range(NUM_SAMPLES_EN)),\n",
        ")\n",
        "print(\"En absolute embedding shape\", en_abs_latent_space.vectors.shape)\n",
        "\n",
        "en_rel_latent_space = en_abs_latent_space.to_relative(anchors=en_anchors_ids)\n",
        "print(\"En relative embedding shape\", en_rel_latent_space.vectors.shape)"
      ]
    },
    {
      "cell_type": "code",
      "execution_count": null,
      "metadata": {
        "colab": {
          "base_uri": "https://localhost:8080/"
        },
        "id": "wjcO68HBUkqh",
        "outputId": "bb238710-0142-4b20-8ab2-a8ccb222b90e"
      },
      "outputs": [
        {
          "name": "stdout",
          "output_type": "stream",
          "text": [
            "Corresponding Chinese anchor ids are: [27, 117, 181, 241, 305, 369, 405, 663, 672, 697, 714, 765, 879, 950, 968, 1229, 1301, 1360, 1431, 1437, 1560, 1716, 1766, 1847, 1889, 1903, 2014, 2186, 2253, 2325, 2335, 2816, 2821, 2884, 2934, 2951, 2976, 3032, 3033, 3124, 3165, 3366, 3377, 3411, 3514, 3585, 3590, 3702, 3768, 3852, 3915, 3915, 3968, 4130, 4228, 4327, 4353, 4435, 4449, 4452, 4595, 4608, 4627, 4894, 5094, 5119, 5144, 5399, 5476, 5620, 5794, 5823, 5825, 5840, 6140, 6536, 6928, 7430, 7522, 7531, 7594, 7745, 7853, 7937, 8008, 8453, 8831, 9040, 9131, 9455, 9635, 10487, 10721, 10869, 11032, 11099, 11383, 11720, 11770, 11931, 12013, 12353, 12827, 13065, 13414, 13585, 14010, 14179, 14331, 14684, 14705, 14791, 14897, 14939, 15402, 16276, 16460, 17304, 17551, 17672, 17821, 17834, 18048, 18203, 18248, 18597, 18718, 18732, 18990, 19036, 19276, 19458, 19562, 19568, 19789, 19999, 20080, 20410, 20810, 20946, 21730, 21744, 22370, 22502, 22531, 23188, 23312, 23944, 25036, 25263, 25420, 25441, 25877, 26585, 26681, 26835, 27461, 28493, 28832, 29205, 29303, 29352, 30148, 30457, 30478, 32212, 34712, 36882, 37263, 39382, 40491, 41262, 42333, 43414, 44198, 45017, 46526, 47629, 49224, 50434, 57127, 58400, 58855, 58866, 59802, 60824, 62331, 63557, 65757, 66861, 70924, 70978, 72150, 74098, 75419, 77827, 81354, 84069, 86063, 89327]\n",
            "Zh absolute embedding shape torch.Size([95685, 100])\n",
            "Zh relative embedding shape torch.Size([95685, 200])\n"
          ]
        }
      ],
      "source": [
        "NUM_SAMPLES_ZH = vocab_size_zh\n",
        "\n",
        "zh_anchors_ids = r_anchors[\"zh\"]\n",
        "print(\"Corresponding Chinese anchor ids are:\", zh_anchors_ids)\n",
        "\n",
        "zh_abs_embedding = torch.FloatTensor(zh_embedding)\n",
        "\n",
        "zh_abs_latent_space = LatentSpace(\n",
        "    encoding_type=\"absolute\",\n",
        "    encoder_name=\"chinese abs embedding\",\n",
        "    vectors=zh_abs_embedding,\n",
        "    ids=list(range(NUM_SAMPLES_ZH)),\n",
        ")\n",
        "\n",
        "# The shape is [num_samples, hidden_dim]\n",
        "print(\"Zh absolute embedding shape\", zh_abs_latent_space.vectors.shape)\n",
        "\n",
        "# Transform Chinese absolute latent space to relative latent space using the anchors chosen\n",
        "zh_rel_latent_space = zh_abs_latent_space.to_relative(anchors=zh_anchors_ids)\n",
        "print(\"Zh relative embedding shape\", zh_rel_latent_space.vectors.shape)"
      ]
    },
    {
      "cell_type": "markdown",
      "metadata": {
        "id": "cJDdmZsiT5Ik"
      },
      "source": [
        "# 5. Model Definition"
      ]
    },
    {
      "cell_type": "code",
      "execution_count": null,
      "metadata": {
        "id": "NFn8FqLRzlOT"
      },
      "outputs": [],
      "source": [
        "class ZhZhAutoencoder(nn.Module):\n",
        "    \"\"\"\n",
        "    Autoencoder to learn the weights connecting Chinese\n",
        "    embeddings back to one-hot vectors. Initialize the\n",
        "    weights connecting the embeddings and one-hot vectors\n",
        "    with the transpose of the weights from the Tecent\n",
        "    pretrained model, connecting the one-hot vector and\n",
        "    embedding, to speed up training.\n",
        "    \"\"\"\n",
        "    def __init__(self, pretrained):\n",
        "        super(ZhZhAutoencoder, self).__init__()\n",
        "\n",
        "        # Save the pretrained embedding within the model\n",
        "        # load pretrained embeddings and freeze them\n",
        "        self.weights    = torch.FloatTensor(pretrained.vectors)\n",
        "        self.encoder    = nn.Embedding.from_pretrained(self.weights, freeze = True)\n",
        "\n",
        "        # Make a copy of the pretrained weights and use them in the following layers\n",
        "        copy_pretrained = copy.deepcopy(pretrained)\n",
        "        self.copyweight = torch.FloatTensor(copy_pretrained.vectors)\n",
        "        self.decoder    = nn.Parameter(self.copyweight.t())\n",
        "\n",
        "    def forward(self, text):\n",
        "        \"\"\"The pipeline that takes input values through the network\"\"\"\n",
        "        # Find the embeddings for text\n",
        "        trained_embed = self.encoder(text)\n",
        "\n",
        "        # Turn embedding back to one-hot\n",
        "        one_hot       = trained_embed @ self.decoder\n",
        "\n",
        "        return one_hot"
      ]
    },
    {
      "cell_type": "markdown",
      "metadata": {
        "id": "uh8oShrxTdkc"
      },
      "source": [
        "# 6. Train"
      ]
    },
    {
      "cell_type": "code",
      "execution_count": null,
      "metadata": {
        "id": "cC2TIERnnCZ9"
      },
      "outputs": [],
      "source": [
        "import time\n",
        "import math\n",
        "\n",
        "def timeSince(since):\n",
        "    now = time.time()\n",
        "    s = now - since\n",
        "    m = math.floor(s / 60)\n",
        "    s -= m * 60\n",
        "    return '%dm %ds' % (m, s)"
      ]
    },
    {
      "cell_type": "code",
      "execution_count": null,
      "metadata": {
        "id": "1ErdpxcLE79c"
      },
      "outputs": [],
      "source": [
        "from torch.optim.lr_scheduler import CosineAnnealingLR\n",
        "\n",
        "def train(model,\n",
        "          train_history,\n",
        "          modelFilePath,\n",
        "          num_epochs,\n",
        "          optimizer,\n",
        "          criterion,\n",
        "          batch_size,\n",
        "          train_loader,\n",
        "          base_lr,\n",
        "          final_lr):\n",
        "  avg_loss = []\n",
        "  start = time.time()\n",
        "  scheduler = CosineAnnealingLR(\n",
        "        optimizer,\n",
        "        T_max=num_epochs,\n",
        "        eta_min=final_lr\n",
        "    )\n",
        "\n",
        "  print(\"\\n-----Batch Size =\", batch_size, \"NUM_ANCHORS =\", NUM_ANCHORS, file=open(train_history, 'a'))\n",
        "\n",
        "  for epoch in range(num_epochs):\n",
        "    losses = 0\n",
        "    loop = tqdm(enumerate(train_loader), total=len(train_loader), leave=False)\n",
        "    print('\\nEpoch: %d \\nPercent Finished: %d%% Time Elapsed: %s' % (epoch, epoch / num_epochs * 100, timeSince(start)), file=open(train_history, 'a'))\n",
        "    for batch_idx, (word, index) in loop:\n",
        "      # Clear gradients w.r.t. parameters\n",
        "      optimizer.zero_grad()\n",
        "\n",
        "      index = index.to(device)\n",
        "\n",
        "      # Forward pass to get output/logits\n",
        "      outputs_train = model(index)\n",
        "\n",
        "      # Calculate Loss: softmax --> cross entropy loss\n",
        "      loss = criterion(outputs_train, index)\n",
        "      losses += loss.item()\n",
        "\n",
        "      # Getting gradients w.r.t. parameters\n",
        "      loss.backward()\n",
        "\n",
        "      # Updating parameters\n",
        "      optimizer.step()\n",
        "\n",
        "      # update progress bar\n",
        "      loop.set_description(f\"Epoch: [{epoch}/{num_epochs}]\")\n",
        "      loop.set_postfix(loss=loss.item())\n",
        "\n",
        "    avg = losses / vocab_size_zh\n",
        "    avg_loss.append(avg)\n",
        "\n",
        "    for param_group in optimizer.param_groups:\n",
        "        param_group['lr'] = scheduler(epoch)\n",
        "        print(\"Learning rate is now\", param_group['lr'], file=open(train_history, 'a'))\n",
        "\n",
        "    print(\"   Loss: {:.15f}\".format(avg), file=open(train_history, 'a'))\n",
        "    torch.save({\n",
        "        'epoch': epoch,\n",
        "        'model_state_dict': model.state_dict(),\n",
        "        'optimizer_state_dict': optimizer.state_dict(),\n",
        "        'loss': avg_loss,\n",
        "        'learning_rate': param_group['lr']\n",
        "        }, modelFilePath)\n",
        "\n",
        "  print(\"Finish training!\", file=open(train_history, 'a'))\n",
        "  return avg_loss"
      ]
    },
    {
      "cell_type": "code",
      "execution_count": null,
      "metadata": {
        "colab": {
          "base_uri": "https://localhost:8080/"
        },
        "id": "og1jvjraLUdr",
        "outputId": "60b411fd-488b-4cdd-bdb1-a351674828cf"
      },
      "outputs": [
        {
          "name": "stdout",
          "output_type": "stream",
          "text": [
            "Using cuda device\n"
          ]
        }
      ],
      "source": [
        "device = 'cuda' if torch.cuda.is_available() else 'cpu'\n",
        "print('Using {} device'.format(device))"
      ]
    },
    {
      "cell_type": "code",
      "execution_count": null,
      "metadata": {
        "id": "GL5fezZSYa_z"
      },
      "outputs": [],
      "source": [
        "zhzhmodel = ZhZhAutoencoder(zh_rel_latent_space).to(device)\n",
        "criterion = nn.CrossEntropyLoss()\n",
        "optimizer = torch.optim.Adam(zhzhmodel.parameters(), lr=0.01)"
      ]
    },
    {
      "cell_type": "code",
      "execution_count": null,
      "metadata": {
        "id": "RfLAWJkt59Re"
      },
      "outputs": [],
      "source": [
        "BATCH_SIZE = 4096\n",
        "\n",
        "training_data = TrainData(vocab_zh)\n",
        "train_loader = torch.utils.data.DataLoader(dataset=training_data,\n",
        "                                           batch_size=BATCH_SIZE,\n",
        "                                           shuffle=True,\n",
        "                                           collate_fn=collate_batch)"
      ]
    },
    {
      "cell_type": "code",
      "execution_count": null,
      "metadata": {
        "id": "DdJnCghmDjiY"
      },
      "outputs": [],
      "source": [
        "NUM_EPOCH = 100\n",
        "\n",
        "loss = train(zhzhmodel,\n",
        "            'record/zhzhautoencoder.txt',\n",
        "            'ckpt/zhzhautoencoder.pt',\n",
        "            NUM_EPOCH,\n",
        "            optimizer,\n",
        "            criterion,\n",
        "            BATCH_SIZE,\n",
        "            train_loader,\n",
        "            base_lr=0.001,\n",
        "            final_lr=0.0001)\n",
        "\n",
        "# save the losses in the pickle file\n",
        "import pickle\n",
        "with open('record/zhzhautoencoder.pkl', 'wb') as file:\n",
        "\n",
        "    # A new file will be created\n",
        "    pickle.dump(loss, file)"
      ]
    },
    {
      "cell_type": "code",
      "execution_count": null,
      "metadata": {
        "colab": {
          "base_uri": "https://localhost:8080/",
          "height": 490
        },
        "id": "TrWc_uQ2WXCC",
        "outputId": "b475dbd9-46f8-42e9-f967-76103a8b56af"
      },
      "outputs": [
        {
          "data": {
            "text/plain": [
              "<matplotlib.legend.Legend at 0x79cf4159a9b0>"
            ]
          },
          "execution_count": 40,
          "metadata": {},
          "output_type": "execute_result"
        },
        {
          "data": {
            "image/png": "[encoded data removed]",
            "text/plain": [
              "<Figure size 640x480 with 1 Axes>"
            ]
          },
          "metadata": {},
          "output_type": "display_data"
        }
      ],
      "source": [
        "xtrain = np.arange(NUM_EPOCH)\n",
        "plt.plot(xtrain, loss, label = \"Training Loss\")\n",
        "plt.xlabel(\"Epochs\")\n",
        "plt.title(\"ZH Rel to Abs Autoencoder\")\n",
        "plt.legend()"
      ]
    },
    {
      "cell_type": "markdown",
      "metadata": {
        "id": "XVEWC6pC6oKM"
      },
      "source": [
        "# 11. Test"
      ]
    },
    {
      "cell_type": "code",
      "execution_count": null,
      "metadata": {
        "id": "xTP2jK_Q8otN"
      },
      "outputs": [],
      "source": [
        "state = torch.load('ckpt/zhzhautoencoder.pt')\n",
        "zhzhmodel.load_state_dict(state['model_state_dict'])\n",
        "optimizer.load_state_dict(state['optimizer_state_dict'])"
      ]
    },
    {
      "cell_type": "code",
      "execution_count": null,
      "metadata": {
        "id": "yWoX6Mct6vQc"
      },
      "outputs": [],
      "source": [
        "# Get a single sample\n",
        "BATCH_SIZE = 1\n",
        "\n",
        "train_loader = torch.utils.data.DataLoader(dataset=training_data,\n",
        "                                           batch_size=BATCH_SIZE,\n",
        "                                           shuffle=True,\n",
        "                                           collate_fn=collate_batch)"
      ]
    },
    {
      "cell_type": "code",
      "execution_count": null,
      "metadata": {
        "colab": {
          "base_uri": "https://localhost:8080/"
        },
        "id": "TrFxXWkq60RW",
        "outputId": "00c4a8ca-123d-4271-d088-b9729b4b0bf8"
      },
      "outputs": [
        {
          "name": "stdout",
          "output_type": "stream",
          "text": [
            "Random word: ['特洛伊']\n",
            "Model prediction: 特洛伊\n"
          ]
        }
      ],
      "source": [
        "test = next(iter(train_loader))\n",
        "print(\"Random word:\", test[0])\n",
        "pos = torch.argmax(zhzhmodel(test[1].to(device)))\n",
        "print(\"Model prediction:\", vocab_zh[pos])"
      ]
    }
  ],
  "metadata": {
    "colab": {
      "provenance": [],
      "include_colab_link": true
    },
    "kernelspec": {
      "display_name": "Python 3",
      "name": "python3"
    },
    "language_info": {
      "name": "python"
    }
  },
  "nbformat": 4,
  "nbformat_minor": 0
}