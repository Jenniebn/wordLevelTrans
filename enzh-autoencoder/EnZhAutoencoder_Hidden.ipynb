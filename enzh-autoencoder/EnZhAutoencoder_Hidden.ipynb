{
 "cells": [
  {
   "cell_type": "code",
   "execution_count": 1,
   "metadata": {
    "executionInfo": {
     "elapsed": 6301,
     "status": "ok",
     "timestamp": 1686442720603,
     "user": {
      "displayName": "Jennie Wu",
      "userId": "00228652263096139440"
     },
     "user_tz": 420
    },
    "id": "9_6dFdkHGZDH"
   },
   "outputs": [],
   "source": [
    "import torch\n",
    "from torch import nn, optim, tensor\n",
    "from torch.utils.data import DataLoader, Dataset\n",
    "import torchtext\n",
    "from torchtext.data.utils import get_tokenizer\n",
    "from torchtext.vocab import build_vocab_from_iterator, Vectors\n",
    "import pandas as pd\n",
    "import time\n",
    "import numpy as np\n",
    "import torch.nn.functional as TF\n",
    "import matplotlib.pyplot as plt\n",
    "import copy\n",
    "import json\n",
    "import random\n",
    "import pickle"
   ]
  },
  {
   "cell_type": "markdown",
   "metadata": {
    "id": "w-PeU4jiKUsl"
   },
   "source": [
    "## Load English & Chinese pretrained embedding from Tecent AI Lab"
   ]
  },
  {
   "cell_type": "code",
   "execution_count": 2,
   "metadata": {
    "executionInfo": {
     "elapsed": 297917,
     "status": "ok",
     "timestamp": 1686443046588,
     "user": {
      "displayName": "Jennie Wu",
      "userId": "00228652263096139440"
     },
     "user_tz": 420
    },
    "id": "ZFKHmIR1INmT"
   },
   "outputs": [],
   "source": [
    "# Load pretrained model from Tencent\n",
    "from gensim.models import KeyedVectors\n",
    "# 100-dim en file\n",
    "wv_from_text_en = KeyedVectors.load_word2vec_format(\"tencent-ailab-embedding-en-d100-v0.1.0-s\", binary=False)\n",
    "\n",
    "# 100-dim zh file\n",
    "wv_from_text_zh = KeyedVectors.load_word2vec_format(\"tencent-ailab-embedding-zh-d100-v0.2.0-s.txt\", binary=False)"
   ]
  },
  {
   "cell_type": "code",
   "execution_count": 3,
   "metadata": {
    "colab": {
     "base_uri": "https://localhost:8080/"
    },
    "executionInfo": {
     "elapsed": 29,
     "status": "ok",
     "timestamp": 1686443046589,
     "user": {
      "displayName": "Jennie Wu",
      "userId": "00228652263096139440"
     },
     "user_tz": 420
    },
    "id": "YBuLiUzUKLgI",
    "outputId": "117cb917-5a20-42f4-b3ea-70004488cb92"
   },
   "outputs": [
    {
     "name": "stdout",
     "output_type": "stream",
     "text": [
      "The first 10 words in the vocabulary are: ['</s>', '，', ',', '的', '。', '、', '了', '：', '“', '”']\n",
      "The index for the Chinese word '的' is: 3\n"
     ]
    }
   ],
   "source": [
    "# Define Chinese inputs for the model\n",
    "\n",
    "# vocab_zh contains all the Chinese words in the dataset\n",
    "vocab_zh      = wv_from_text_zh.index_to_key\n",
    "vocab_size_zh = len(vocab_zh)\n",
    "print(\"The first 10 words in the vocabulary are:\", vocab_zh[:10])\n",
    "\n",
    "# word_to_index_zh is the map between Chinese words and its indeces {'的'：3}\n",
    "word_to_index_zh = wv_from_text_zh.key_to_index\n",
    "print(\"The index for the Chinese word '的' is:\", word_to_index_zh['的'])"
   ]
  },
  {
   "cell_type": "code",
   "execution_count": 122,
   "metadata": {
    "colab": {
     "base_uri": "https://localhost:8080/"
    },
    "executionInfo": {
     "elapsed": 207,
     "status": "ok",
     "timestamp": 1686443073068,
     "user": {
      "displayName": "Jennie Wu",
      "userId": "00228652263096139440"
     },
     "user_tz": 420
    },
    "id": "n3y2GXcXKrT1",
    "outputId": "62bd7ab8-6908-47dd-83d2-bf7610819e7a"
   },
   "outputs": [
    {
     "name": "stdout",
     "output_type": "stream",
     "text": [
      "The first 10 words in the vocabulary are: ['%2c', '.', '%22', 'and', 'of', '%3a', 'a', 'in', '/', '%29']\n",
      "The index for the English word 'cannot' is: 1202\n"
     ]
    }
   ],
   "source": [
    "# Define English inputs for the model\n",
    "\n",
    "# vocab_en contains all the English words in the dataset\n",
    "vocab_en      = wv_from_text_en.index_to_key\n",
    "vocab_size_en = len(vocab_en)\n",
    "print(\"The first 10 words in the vocabulary are:\", vocab_en[:10])\n",
    "\n",
    "# word_to_index_en is the map between English words and its indeces {'yes'：3}\n",
    "word_to_index_en = wv_from_text_en.key_to_index\n",
    "print(\"The index for the English word 'cannot' is:\", word_to_index_en[\"cannot\"])"
   ]
  },
  {
   "cell_type": "markdown",
   "metadata": {
    "id": "9qvV_FMo842f"
   },
   "source": [
    "## Load Golden Set"
   ]
  },
  {
   "cell_type": "code",
   "execution_count": 5,
   "metadata": {
    "colab": {
     "base_uri": "https://localhost:8080/"
    },
    "executionInfo": {
     "elapsed": 413,
     "status": "ok",
     "timestamp": 1686443075801,
     "user": {
      "displayName": "Jennie Wu",
      "userId": "00228652263096139440"
     },
     "user_tz": 420
    },
    "id": "3EYK0iGN_t4u",
    "outputId": "7188c1b8-098b-4756-c47e-f3a82f0c7502"
   },
   "outputs": [
    {
     "name": "stdout",
     "output_type": "stream",
     "text": [
      "Chinese translation for universal is 普遍\n"
     ]
    }
   ],
   "source": [
    "# Load the golden set\n",
    "with open(\"full_golden_set.json\", encoding=\"utf-8-sig\") as in_file:\n",
    "  # returns JSON object as a dictionary\n",
    "    golden_set = json.load(in_file)\n",
    "\n",
    "# Closing file\n",
    "in_file.close()\n",
    "\n",
    "word = \"universal\"\n",
    "print(\"Chinese translation for {} is {}\".format(word, golden_set[word][0]))\n",
    "\n",
    "en_vocab = golden_set.keys()"
   ]
  },
  {
   "cell_type": "code",
   "execution_count": 62,
   "metadata": {
    "colab": {
     "base_uri": "https://localhost:8080/"
    },
    "executionInfo": {
     "elapsed": 217,
     "status": "ok",
     "timestamp": 1686443077224,
     "user": {
      "displayName": "Jennie Wu",
      "userId": "00228652263096139440"
     },
     "user_tz": 420
    },
    "id": "b91QIGEIHuV6",
    "outputId": "c2497066-4e64-4f3a-8139-854ae344d9c5"
   },
   "outputs": [
    {
     "name": "stdout",
     "output_type": "stream",
     "text": [
      "There are 8063 unique English words in our golden set\n"
     ]
    }
   ],
   "source": [
    "# en_vocab_list is list of unique English words in golden set\n",
    "gold_en_list = list(golden_set.keys())\n",
    "\n",
    "# length of English vocabulary\n",
    "gold_en_size = len(gold_en_list) \n",
    "print(\"There are\", gold_en_size, \"unique English words in our golden set\")"
   ]
  },
  {
   "cell_type": "markdown",
   "metadata": {
    "id": "kW8YfhOcKrdy"
   },
   "source": [
    "## Data Preprocessing"
   ]
  },
  {
   "cell_type": "code",
   "execution_count": 7,
   "metadata": {
    "executionInfo": {
     "elapsed": 384,
     "status": "ok",
     "timestamp": 1686443079327,
     "user": {
      "displayName": "Jennie Wu",
      "userId": "00228652263096139440"
     },
     "user_tz": 420
    },
    "id": "FVGS3mtOR43B"
   },
   "outputs": [],
   "source": [
    "torch.manual_seed(4)\n",
    "np.random.seed(4)\n",
    "random.seed(4)"
   ]
  },
  {
   "cell_type": "code",
   "execution_count": 76,
   "metadata": {
    "colab": {
     "base_uri": "https://localhost:8080/"
    },
    "executionInfo": {
     "elapsed": 140,
     "status": "ok",
     "timestamp": 1686443080714,
     "user": {
      "displayName": "Jennie Wu",
      "userId": "00228652263096139440"
     },
     "user_tz": 420
    },
    "id": "MwYidapPJsoU",
    "outputId": "9c78a4f0-5f29-4784-9582-2012d9bd1291"
   },
   "outputs": [
    {
     "name": "stdout",
     "output_type": "stream",
     "text": [
      "There are 6374 training data and 2125 testing data\n"
     ]
    }
   ],
   "source": [
    "# Define the training & testing data to pass for the custom dataset\n",
    "# train_data is in the form of a dictionary that contains\n",
    "# corresponding pair of English word (data) and Chinese \n",
    "# translation (label)\n",
    "# Last 15% of the dataset is testing data\n",
    "\n",
    "train_data = {}\n",
    "test_data  = {}\n",
    "en_list_train = []\n",
    "zh_list_train = []\n",
    "en_list_test = []\n",
    "zh_list_test = []\n",
    "en_list = []\n",
    "zh_list = []\n",
    "en_index_train = []\n",
    "zh_index_train = []\n",
    "en_index_test = []\n",
    "zh_index_test = []\n",
    "\n",
    "# Shuffle the data before splitting it into train & test samples\n",
    "random.shuffle(gold_en_list)\n",
    "\n",
    "# Make copies of english words that have more than 1 Chinese translation\n",
    "for en in gold_en_list:\n",
    "    for zh in golden_set[en]:\n",
    "      en_list.append(en)\n",
    "      zh_list.append(zh)\n",
    "\n",
    "# Last 15% of data is allocated as testing samples\n",
    "cutoff = int(len(en_list) * 0.75)\n",
    "en_list_train = en_list[:cutoff]\n",
    "zh_list_train = zh_list[:cutoff]\n",
    "en_list_test  = en_list[cutoff:]\n",
    "zh_list_test  = zh_list[cutoff:]\n",
    "print(\"There are\", len(en_list_train), \"training data and\", len(en_list_test), \"testing data\")\n",
    "\n",
    "# The real training data are the words that exist in the Tecent AI dataset\n",
    "en_index_train = [(i, word_to_index_en[i]) for i, j in zip(en_list_train, zh_list_train) if i in word_to_index_en and j in word_to_index_zh]\n",
    "zh_index_train = [(i, word_to_index_zh[i]) for i, j in zip(zh_list_train, en_list_train) if i in word_to_index_zh and j in word_to_index_en]\n",
    "en_index_test = [(i, word_to_index_en[i]) for i, j in zip(en_list_test, zh_list_test) if i in word_to_index_en and j in word_to_index_zh]\n",
    "zh_index_test = [(i, word_to_index_zh[i]) for i, j in zip(zh_list_test, en_list_test) if i in word_to_index_zh and j in word_to_index_en]\n",
    "\n",
    "train_data[\"data\"]  = en_index_train\n",
    "train_data[\"label\"] = zh_index_train\n",
    "test_data[\"data\"]   = en_index_test\n",
    "test_data[\"label\"]  = zh_index_test"
   ]
  },
  {
   "cell_type": "code",
   "execution_count": 115,
   "metadata": {},
   "outputs": [
    {
     "name": "stdout",
     "output_type": "stream",
     "text": [
      "earthquake is in testing data\n"
     ]
    }
   ],
   "source": [
    "if \"grassland\" in en_list_train: \n",
    "    print(\"galileo is in training data\")\n",
    "if \"grassland\" in en_list_test : \n",
    "    print(\"earthquake is in testing data\")"
   ]
  },
  {
   "cell_type": "code",
   "execution_count": 9,
   "metadata": {
    "colab": {
     "base_uri": "https://localhost:8080/"
    },
    "executionInfo": {
     "elapsed": 166,
     "status": "ok",
     "timestamp": 1686443083550,
     "user": {
      "displayName": "Jennie Wu",
      "userId": "00228652263096139440"
     },
     "user_tz": 420
    },
    "id": "WgGQAP1xC70b",
    "outputId": "6ee6303f-5ab9-418d-92a3-8fc1981f1397"
   },
   "outputs": [
    {
     "name": "stdout",
     "output_type": "stream",
     "text": [
      "There are 6188 training data present in the Tencent AI dataset\n",
      "There are 2048 testing data present in the Tencent AI dataset\n"
     ]
    }
   ],
   "source": [
    "print(\"There are {} training data present in the Tencent AI dataset\".format(len(train_data[\"data\"])))\n",
    "print(\"There are {} testing data present in the Tencent AI dataset\".format(len(test_data[\"data\"])))"
   ]
  },
  {
   "cell_type": "code",
   "execution_count": 10,
   "metadata": {
    "colab": {
     "base_uri": "https://localhost:8080/"
    },
    "executionInfo": {
     "elapsed": 188,
     "status": "ok",
     "timestamp": 1686443087121,
     "user": {
      "displayName": "Jennie Wu",
      "userId": "00228652263096139440"
     },
     "user_tz": 420
    },
    "id": "-1ABDwtRDONp",
    "outputId": "f74d90e5-f501-4656-979e-679191699007"
   },
   "outputs": [
    {
     "name": "stdout",
     "output_type": "stream",
     "text": [
      "The number of training data and label is the same True\n",
      "The number of testing data and label is the same True\n"
     ]
    }
   ],
   "source": [
    "print(\"The number of training data and label is the same\", len(train_data[\"data\"]) == len(train_data[\"label\"]))\n",
    "print(\"The number of testing data and label is the same\", len(test_data[\"data\"]) == len(test_data[\"label\"]))"
   ]
  },
  {
   "cell_type": "code",
   "execution_count": 11,
   "metadata": {
    "colab": {
     "base_uri": "https://localhost:8080/"
    },
    "executionInfo": {
     "elapsed": 167,
     "status": "ok",
     "timestamp": 1686443099317,
     "user": {
      "displayName": "Jennie Wu",
      "userId": "00228652263096139440"
     },
     "user_tz": 420
    },
    "id": "bDKhA7K1E5fY",
    "outputId": "12708387-32e6-4edd-b2ec-c92081eec7e5"
   },
   "outputs": [
    {
     "data": {
      "text/plain": [
       "(('analytic', 44911), ('解析', 4224))"
      ]
     },
     "execution_count": 11,
     "metadata": {},
     "output_type": "execute_result"
    }
   ],
   "source": [
    "train_data[\"data\"][10], train_data[\"label\"][10]"
   ]
  },
  {
   "cell_type": "markdown",
   "metadata": {
    "id": "JpNZBD5EKzRk"
   },
   "source": [
    "## Custom Dataset"
   ]
  },
  {
   "cell_type": "code",
   "execution_count": 12,
   "metadata": {
    "executionInfo": {
     "elapsed": 141,
     "status": "ok",
     "timestamp": 1686443105704,
     "user": {
      "displayName": "Jennie Wu",
      "userId": "00228652263096139440"
     },
     "user_tz": 420
    },
    "id": "rRK20QtaN7ln"
   },
   "outputs": [],
   "source": [
    "# Define dataset to load to dataloader\n",
    "class TrainData(Dataset):\n",
    "    \n",
    "    def __init__(self, data):\n",
    "        \"\"\"Loads the data from the pretrained model\"\"\"\n",
    "        self.data    = data\n",
    "        self.en_list = self.data[\"data\"]\n",
    "        self.zh_list = self.data[\"label\"]\n",
    "      \n",
    "    def __getitem__(self, idx):\n",
    "        \"\"\"Returns the datapoint at a given index\"\"\"\n",
    "        en_index = self.en_list[idx][1]\n",
    "        zh_index = self.zh_list[idx][1]\n",
    "        sample = {\"en_index\": en_index, \"zh_index\": zh_index}\n",
    "        return sample\n",
    "    \n",
    "    def __len__(self):\n",
    "        \"\"\"Returns the number of datapoints in the dataset\"\"\"\n",
    "        return len(self.data[\"data\"])"
   ]
  },
  {
   "cell_type": "code",
   "execution_count": 13,
   "metadata": {
    "executionInfo": {
     "elapsed": 219,
     "status": "ok",
     "timestamp": 1686443107918,
     "user": {
      "displayName": "Jennie Wu",
      "userId": "00228652263096139440"
     },
     "user_tz": 420
    },
    "id": "t__SJcYC-kmJ"
   },
   "outputs": [],
   "source": [
    "def collate_batch(batch):\n",
    "    \"\"\"Converts a batch of data into packed PyTorch tensor format\n",
    "    \"\"\"\n",
    "    # Initialize lists that separate out the 3 components\n",
    "    en_index_list  = list()\n",
    "    zh_index_list  = list()\n",
    "    \n",
    "    for pair in batch:\n",
    "        en_index = pair[\"en_index\"]\n",
    "        zh_index = pair[\"zh_index\"]\n",
    "        # Convert to PyTorch format\n",
    "        # Add converted data to separate component lists\n",
    "        en_index_list.append(en_index)\n",
    "        zh_index_list.append(zh_index)\n",
    "    \n",
    "    # Convert to mini-batch tensors\n",
    "    en_index_tensor = torch.tensor(en_index_list).to(torch.int64)\n",
    "    zh_index_tensor = torch.tensor(zh_index_list).to(torch.int64)\n",
    "    \n",
    "    return (en_index_tensor, zh_index_tensor)"
   ]
  },
  {
   "cell_type": "code",
   "execution_count": 97,
   "metadata": {
    "executionInfo": {
     "elapsed": 207,
     "status": "ok",
     "timestamp": 1686443109747,
     "user": {
      "displayName": "Jennie Wu",
      "userId": "00228652263096139440"
     },
     "user_tz": 420
    },
    "id": "or-3iU-GN99W"
   },
   "outputs": [],
   "source": [
    "batch_size = 256\n",
    "training_data = TrainData(train_data)\n",
    "testing_data  = TrainData(test_data)\n",
    "train_dataloader = DataLoader(dataset=training_data, \n",
    "                              batch_size=batch_size, \n",
    "                              shuffle=True,  \n",
    "                              collate_fn=collate_batch)\n",
    "test_dataloader  = DataLoader(dataset=testing_data, \n",
    "                              batch_size=batch_size, \n",
    "                              shuffle=True,  \n",
    "                              collate_fn=collate_batch)"
   ]
  },
  {
   "cell_type": "code",
   "execution_count": 15,
   "metadata": {
    "colab": {
     "base_uri": "https://localhost:8080/"
    },
    "executionInfo": {
     "elapsed": 5,
     "status": "ok",
     "timestamp": 1686443160774,
     "user": {
      "displayName": "Jennie Wu",
      "userId": "00228652263096139440"
     },
     "user_tz": 420
    },
    "id": "jRncFCQo5P9O",
    "outputId": "7606fddb-e97a-4012-dde2-f0ae1191eca7"
   },
   "outputs": [
    {
     "data": {
      "text/plain": [
       "('gorges', '三峡')"
      ]
     },
     "execution_count": 15,
     "metadata": {},
     "output_type": "execute_result"
    }
   ],
   "source": [
    "next(iter(train_dataloader))\n",
    "\n",
    "vocab_en[123683], vocab_zh[44977]"
   ]
  },
  {
   "cell_type": "code",
   "execution_count": 16,
   "metadata": {
    "executionInfo": {
     "elapsed": 4,
     "status": "ok",
     "timestamp": 1686443114770,
     "user": {
      "displayName": "Jennie Wu",
      "userId": "00228652263096139440"
     },
     "user_tz": 420
    },
    "id": "5ZwEOPCJPg08"
   },
   "outputs": [],
   "source": [
    "import time\n",
    "import math\n",
    "\n",
    "def timeSince(since):\n",
    "    now = time.time()\n",
    "    s = now - since\n",
    "    m = math.floor(s / 60)\n",
    "    s -= m * 60\n",
    "    return '%dm %ds' % (m, s)"
   ]
  },
  {
   "cell_type": "markdown",
   "metadata": {
    "id": "Ol40urenK3Qu"
   },
   "source": [
    "## Learning rate schedulor"
   ]
  },
  {
   "cell_type": "code",
   "execution_count": 17,
   "metadata": {
    "colab": {
     "base_uri": "https://localhost:8080/",
     "height": 490
    },
    "executionInfo": {
     "elapsed": 817,
     "status": "ok",
     "timestamp": 1686443183497,
     "user": {
      "displayName": "Jennie Wu",
      "userId": "00228652263096139440"
     },
     "user_tz": 420
    },
    "id": "bgx6ES1_PiN4",
    "outputId": "e7be3166-71ad-4c2d-9f2d-5bdcb7f30ef4"
   },
   "outputs": [
    {
     "data": {
      "text/plain": [
       "Text(0.5, 1.0, 'Cosine Scheduler')"
      ]
     },
     "execution_count": 17,
     "metadata": {},
     "output_type": "execute_result"
    },
    {
     "data": {
      "image/png": "[encoded data removed]",
      "text/plain": [
       "<Figure size 640x480 with 1 Axes>"
      ]
     },
     "metadata": {},
     "output_type": "display_data"
    }
   ],
   "source": [
    "# credit: https://d2l.ai/chapter_optimization/lr-scheduler.html\n",
    "class CosineScheduler:\n",
    "    def __init__(self, max_update, base_lr=0.01, final_lr=0,\n",
    "               warmup_steps=0, warmup_begin_lr=0):\n",
    "        self.base_lr_orig = base_lr\n",
    "        self.max_update = max_update\n",
    "        self.final_lr = final_lr\n",
    "        self.warmup_steps = warmup_steps\n",
    "        self.warmup_begin_lr = warmup_begin_lr\n",
    "        self.max_steps = self.max_update - self.warmup_steps\n",
    "\n",
    "    def get_warmup_lr(self, epoch):\n",
    "        increase = (self.base_lr_orig - self.warmup_begin_lr) \\\n",
    "                       * float(epoch) / float(self.warmup_steps)\n",
    "        return self.warmup_begin_lr + increase\n",
    "\n",
    "    def __call__(self, epoch):\n",
    "        if epoch < self.warmup_steps:\n",
    "            return self.get_warmup_lr(epoch)\n",
    "        if epoch <= self.max_update:\n",
    "            self.base_lr = self.final_lr + (\n",
    "                self.base_lr_orig - self.final_lr) * (1 + math.cos(\n",
    "                math.pi * (epoch - self.warmup_steps) / self.max_steps)) / 2\n",
    "        return self.base_lr\n",
    "\n",
    "scheduler = CosineScheduler(max_update=100, base_lr=0.3, final_lr=0.001)\n",
    "num_epochs = 100\n",
    "sch = [scheduler(t) for t in range(num_epochs)]\n",
    "xtrain = np.arange(num_epochs)\n",
    "plt.plot(xtrain, sch)\n",
    "plt.xlabel(\"Epochs\")\n",
    "plt.ylabel(\"Learning Rate\")\n",
    "plt.title(\"Cosine Scheduler\")\n"
   ]
  },
  {
   "cell_type": "markdown",
   "metadata": {
    "id": "VbY17T_cLELe"
   },
   "source": [
    "## Model Definitions"
   ]
  },
  {
   "cell_type": "code",
   "execution_count": 18,
   "metadata": {
    "colab": {
     "base_uri": "https://localhost:8080/"
    },
    "executionInfo": {
     "elapsed": 150,
     "status": "ok",
     "timestamp": 1686443186601,
     "user": {
      "displayName": "Jennie Wu",
      "userId": "00228652263096139440"
     },
     "user_tz": 420
    },
    "id": "5C3hgDlzTwna",
    "outputId": "ed828e6f-73eb-4e08-efad-35ea25c9bb66"
   },
   "outputs": [
    {
     "name": "stdout",
     "output_type": "stream",
     "text": [
      "Using cuda device\n"
     ]
    }
   ],
   "source": [
    "device = 'cuda' if torch.cuda.is_available() else 'cpu'\n",
    "print('Using {} device'.format(device))"
   ]
  },
  {
   "cell_type": "code",
   "execution_count": 19,
   "metadata": {
    "executionInfo": {
     "elapsed": 158,
     "status": "ok",
     "timestamp": 1686443188537,
     "user": {
      "displayName": "Jennie Wu",
      "userId": "00228652263096139440"
     },
     "user_tz": 420
    },
    "id": "y9YK7_zoTxq9"
   },
   "outputs": [],
   "source": [
    "class ZhZhAutoencoderTW(nn.Module):\n",
    "    \"\"\"\n",
    "    Autoencoder to learn the weights connecting Chinese \n",
    "    embeddings back to one-hot vectors. Initialize the \n",
    "    weights connecting the embeddings and one-hot vectors \n",
    "    with the transpose of the weights from the Tecent \n",
    "    pretrained model, connecting the one-hot vector and\n",
    "    embedding, to speed up training.\n",
    "    \"\"\"\n",
    "    def __init__(self, pretrained, vocab):\n",
    "        super(ZhZhAutoencoderTW, self).__init__()\n",
    "        \n",
    "        # Save the pretrained embedding within the model\n",
    "        # load pretrained embeddings and freeze them\n",
    "        self.weights    = torch.FloatTensor(pretrained.vectors) \n",
    "        self.encoder    = nn.Embedding.from_pretrained(self.weights, freeze = True)\n",
    "        \n",
    "        # Make a copy of the pretrained weights and use them in the following layers\n",
    "        copy_pretrained = copy.deepcopy(pretrained)\n",
    "        self.copyweight = torch.FloatTensor(copy_pretrained.vectors) \n",
    "        self.decoder    = nn.Parameter(self.copyweight.t()) \n",
    "        self.vocab      = vocab\n",
    "\n",
    "    def forward(self, text):\n",
    "        \"\"\"The pipeline that takes input values through the network\"\"\"\n",
    "        # Find the embeddings for text\n",
    "        trained_embed = self.encoder(text)\n",
    "        \n",
    "        # Turn embedding back to one-hot\n",
    "        one_hot       = trained_embed @ self.decoder \n",
    "        \n",
    "        return one_hot"
   ]
  },
  {
   "cell_type": "code",
   "execution_count": 20,
   "metadata": {
    "executionInfo": {
     "elapsed": 164,
     "status": "ok",
     "timestamp": 1686443192214,
     "user": {
      "displayName": "Jennie Wu",
      "userId": "00228652263096139440"
     },
     "user_tz": 420
    },
    "id": "KP2S76SWPnnQ"
   },
   "outputs": [],
   "source": [
    "# Autoencoder to learn the weights connecting embeddings back to one-hot vectors\n",
    "class EnZhAutoencoderHidden(nn.Module):\n",
    "    \n",
    "    def __init__(self, pretrained_en, pretrained_zh):\n",
    "        super(EnZhAutoencoderHidden, self).__init__()\n",
    "        \n",
    "        # Save the pretrained English embedding from Tencent within the model\n",
    "        # load pretrained embeddings and freeze them\n",
    "        self.weights_en = torch.FloatTensor(pretrained_en.vectors) \n",
    "        self.encoder    = nn.Embedding.from_pretrained(self.weights_en, freeze = True)\n",
    "        \n",
    "        # Load the pretrained weights from zhzhautoencoder \n",
    "        # Use the pretrained weights to map Chinese embedding to one-hot\n",
    "        # ***** use the tranpose!!!\n",
    "        self.zh_weights = pretrained_zh\n",
    "        self.decoder    = nn.Parameter(self.zh_weights, requires_grad=False)\n",
    "\n",
    "        # Hidden layer definition\n",
    "        self.hidden = nn.Sequential(\n",
    "            nn.Linear(100, 75), \n",
    "            nn.LeakyReLU(),\n",
    "            nn.Linear(75, 100)\n",
    "        )\n",
    "\n",
    "    def forward(self, text):\n",
    "        \"\"\"The pipeline that takes input values through the network\"\"\"\n",
    "        # Find the English embedding\n",
    "        eng_emb = self.encoder(text)\n",
    "        \n",
    "        # Pass the English embedding through hidden layer\n",
    "        zh_emb  = self.hidden(eng_emb) # torch.Size([256, 100])\n",
    "\n",
    "        # Find the corresponding index of Chinese word for \n",
    "        # the English embedding decoder: torch.Size([100, 2000000])\n",
    "        one_hot = zh_emb @ self.decoder\n",
    "\n",
    "        return one_hot"
   ]
  },
  {
   "cell_type": "code",
   "execution_count": 21,
   "metadata": {
    "executionInfo": {
     "elapsed": 198,
     "status": "ok",
     "timestamp": 1686443197357,
     "user": {
      "displayName": "Jennie Wu",
      "userId": "00228652263096139440"
     },
     "user_tz": 420
    },
    "id": "iVa1-sMupC75"
   },
   "outputs": [],
   "source": [
    "def train(model, file, modelFilePath, num_epochs, optimizer, criterion):\n",
    "    # Training\n",
    "    avg_loss = []\n",
    "    accuracy_test = []\n",
    "    losses = 0\n",
    "    start = time.time()\n",
    "    print(\"Start Batch Size =\", batch_size, file=open(file, 'a'))\n",
    "    scheduler = CosineScheduler(max_update=num_epochs, base_lr=0.3, final_lr=0.001)\n",
    "    for epoch in range(num_epochs):\n",
    "        losses = 0\n",
    "        for i, (en_index, zh_index) in enumerate(train_dataloader):\n",
    "            # Clear gradients w.r.t. parameters\n",
    "            optimizer.zero_grad()\n",
    "\n",
    "            # Move inputs & outputs to cuda\n",
    "            en_index = en_index.to(device) \n",
    "            zh_index = zh_index.to(device) \n",
    "            \n",
    "            # Forward pass to get output/logits\n",
    "            outputs_train = model(en_index)\n",
    "        \n",
    "            # Calculate Loss: softmax --> cross entropy loss\n",
    "            loss = criterion(outputs_train, zh_index)\n",
    "            losses += loss.item()\n",
    "        \n",
    "            # Getting gradients w.r.t. parameters\n",
    "            loss.backward()\n",
    "\n",
    "            # Updating parameters\n",
    "            optimizer.step()\n",
    "\n",
    "        avg = losses / len(train_dataloader.dataset)\n",
    "        avg_loss.append(avg)\n",
    "        \n",
    "        # Test the model every 5 epochs\n",
    "        if epoch % 5 == 0:\n",
    "            accuracy = test(model, file)\n",
    "            accuracy_test.append(accuracy)\n",
    "            model.train() \n",
    "\n",
    "        for param_group in optimizer.param_groups:\n",
    "            param_group['lr'] = scheduler(epoch)\n",
    "            print(\"Learning rate is now\", param_group['lr'], file=open(file, 'a'))\n",
    "    \n",
    "        print('%s (%d %d%%) %.15f' % (timeSince(start), epoch, epoch / num_epochs * 100, avg), file=open(file, 'a'))\n",
    "        torch.save({\n",
    "            'epoch': epoch,\n",
    "            'model_state_dict': model.state_dict(),\n",
    "            'optimizer_state_dict': optimizer.state_dict(),\n",
    "            'loss': avg,\n",
    "            }, modelFilePath)\n",
    "            \n",
    "    print(\"Finish training!\", file=open(file, 'a'))\n",
    "    return avg_loss, accuracy_test\n",
    "\n",
    "def test(model, file):\n",
    "    correct_test = 0\n",
    "    total_test = 0\n",
    "    \n",
    "    model.eval()\n",
    "    with torch.no_grad():\n",
    "        # Iterate through test dataset\n",
    "        for i, (en_index, zh_index) in enumerate(test_dataloader):\n",
    "        \n",
    "            # Move inputs & outputs to cuda\n",
    "            en_index = en_index.to(device) \n",
    "            zh_index = zh_index.to(device) \n",
    "\n",
    "            # Forward pass only to get logits/output\n",
    "            outputs_test = model(en_index)\n",
    "\n",
    "            # Get predictions from the maximum value\n",
    "            # check dimension of softmax\n",
    "            prob  = TF.softmax(outputs_test, dim=1)\n",
    "            index = torch.argmax(prob, dim=1)\n",
    "            \n",
    "            # Total number of labels\n",
    "            total_test += en_index.size(0)\n",
    "            \n",
    "            # Total correct predictions\n",
    "            correct_test += (index == zh_index).sum()\n",
    "            \n",
    "        accuracy = 100 * correct_test.item() / total_test\n",
    "        \n",
    "        # Print Loss\n",
    "        print('Accuracy: %.15f' % (accuracy), file=open(file, 'a'))\n",
    "           \n",
    "        return accuracy"
   ]
  },
  {
   "cell_type": "code",
   "execution_count": 22,
   "metadata": {
    "colab": {
     "base_uri": "https://localhost:8080/",
     "height": 407
    },
    "executionInfo": {
     "elapsed": 8752,
     "status": "error",
     "timestamp": 1686443473619,
     "user": {
      "displayName": "Jennie Wu",
      "userId": "00228652263096139440"
     },
     "user_tz": 420
    },
    "id": "CPYUeFaxViCw",
    "outputId": "087c4f94-33c1-44d6-d7a4-0e47a5c059f4"
   },
   "outputs": [
    {
     "data": {
      "text/plain": [
       "<All keys matched successfully>"
      ]
     },
     "execution_count": 22,
     "metadata": {},
     "output_type": "execute_result"
    }
   ],
   "source": [
    "model_zhzh = ZhZhAutoencoderTW(wv_from_text_zh, vocab_zh).to(device)\n",
    "model_zhzh_weight = torch.load('/mldata/jingyi_wu/ling111_project_wt.pt')\n",
    "model_zhzh.load_state_dict(model_zhzh_weight)"
   ]
  },
  {
   "cell_type": "code",
   "execution_count": null,
   "metadata": {
    "colab": {
     "base_uri": "https://localhost:8080/"
    },
    "executionInfo": {
     "elapsed": 203,
     "status": "ok",
     "timestamp": 1686443228802,
     "user": {
      "displayName": "Jennie Wu",
      "userId": "00228652263096139440"
     },
     "user_tz": 420
    },
    "id": "k5cDrAKhLOF3",
    "outputId": "df47aa25-30c8-4fde-f43f-7f95abb0a0c7"
   },
   "outputs": [],
   "source": [
    "# Extract the decoder weights to use in the final autoencoder\n",
    "print(\"The weights in the ZhZhAutoencoderTW model are\", model_zhzh.state_dict().keys())"
   ]
  },
  {
   "cell_type": "code",
   "execution_count": 23,
   "metadata": {
    "colab": {
     "base_uri": "https://localhost:8080/",
     "height": 222
    },
    "executionInfo": {
     "elapsed": 172,
     "status": "error",
     "timestamp": 1686443480534,
     "user": {
      "displayName": "Jennie Wu",
      "userId": "00228652263096139440"
     },
     "user_tz": 420
    },
    "id": "WX9OZ0zPV-Wx",
    "outputId": "dfb4dfd7-bc64-4e2a-9ad9-44f320463c92"
   },
   "outputs": [],
   "source": [
    "model_enzh_decoder = model_zhzh.decoder.clone()\n",
    "model_enzh = EnZhAutoencoderHidden(wv_from_text_en, model_enzh_decoder).to(device)"
   ]
  },
  {
   "cell_type": "code",
   "execution_count": 24,
   "metadata": {
    "executionInfo": {
     "elapsed": 215,
     "status": "ok",
     "timestamp": 1686443233910,
     "user": {
      "displayName": "Jennie Wu",
      "userId": "00228652263096139440"
     },
     "user_tz": 420
    },
    "id": "TaeFKCz4u5FR"
   },
   "outputs": [],
   "source": [
    "criterion = nn.CrossEntropyLoss()\n",
    "optimizer = torch.optim.Adam(model_enzh.parameters(), lr=0.3)"
   ]
  },
  {
   "cell_type": "code",
   "execution_count": 25,
   "metadata": {
    "colab": {
     "base_uri": "https://localhost:8080/",
     "height": 550
    },
    "executionInfo": {
     "elapsed": 446,
     "status": "error",
     "timestamp": 1686443434986,
     "user": {
      "displayName": "Jennie Wu",
      "userId": "00228652263096139440"
     },
     "user_tz": 420
    },
    "id": "Jl5zAX6DREh1",
    "outputId": "46fe40fc-319e-456e-e533-f3c206f03b0a"
   },
   "outputs": [],
   "source": [
    "loss, acc = train(model_enzh, 'enzh_hidden75.txt', '/mldata/jingyi_wu/enzh_hidden75.ckpt', 101, optimizer, criterion)"
   ]
  },
  {
   "cell_type": "code",
   "execution_count": 26,
   "metadata": {},
   "outputs": [],
   "source": [
    "# save the losses in the pickle file\n",
    "import pickle  \n",
    "with open('avg_loss_enzh75.pkl', 'wb') as file:\n",
    "      \n",
    "    # A new file will be created\n",
    "    pickle.dump(loss, file)"
   ]
  },
  {
   "cell_type": "code",
   "execution_count": 27,
   "metadata": {},
   "outputs": [],
   "source": [
    "# load the losses to the pickle file\n",
    "with open('avg_loss_enzh75.pkl', 'rb') as file:\n",
    "      \n",
    "    # Call load method to deserialze\n",
    "    avg_loss_enzh75 = pickle.load(file)\n",
    " "
   ]
  },
  {
   "cell_type": "code",
   "execution_count": 28,
   "metadata": {},
   "outputs": [],
   "source": [
    "import pickle  \n",
    "with open('acc_enzhsacc75.pkl', 'wb') as file:\n",
    "      \n",
    "    # A new file will be created\n",
    "    pickle.dump(acc, file)"
   ]
  },
  {
   "cell_type": "code",
   "execution_count": 123,
   "metadata": {},
   "outputs": [],
   "source": [
    "# load the losses to the pickle file\n",
    "with open('acc_enzhsacc75.pkl', 'rb') as file:\n",
    "      \n",
    "    # Call load method to deserialze\n",
    "    acc = pickle.load(file)"
   ]
  },
  {
   "cell_type": "code",
   "execution_count": 33,
   "metadata": {
    "scrolled": false
   },
   "outputs": [
    {
     "data": {
      "text/plain": [
       "<matplotlib.legend.Legend at 0x7f93904144f0>"
      ]
     },
     "execution_count": 33,
     "metadata": {},
     "output_type": "execute_result"
    },
    {
     "data": {
      "image/png": "[encoded data removed]",
      "text/plain": [
       "<Figure size 640x480 with 1 Axes>"
      ]
     },
     "metadata": {},
     "output_type": "display_data"
    }
   ],
   "source": [
    "xtrain = np.arange(101)\n",
    "xacc = np.arange(0, 101, 5)\n",
    "plt.plot(xtrain, avg_loss_enzh75, label = \"Training Loss\")\n",
    "plt.plot(xacc, acc, label = \"Accuracy\")\n",
    "plt.xlabel(\"Epochs\")\n",
    "plt.title(\"En-ZH Autoencoder\")\n",
    "plt.legend()"
   ]
  },
  {
   "cell_type": "markdown",
   "metadata": {},
   "source": [
    "## Let's test some examples"
   ]
  },
  {
   "cell_type": "code",
   "execution_count": 34,
   "metadata": {},
   "outputs": [
    {
     "data": {
      "text/plain": [
       "<All keys matched successfully>"
      ]
     },
     "execution_count": 34,
     "metadata": {},
     "output_type": "execute_result"
    }
   ],
   "source": [
    "# Load checkpoint\n",
    "checkpoint = torch.load('/mldata/jingyi_wu/enzh_hidden75.ckpt')\n",
    "model_enzh.load_state_dict(checkpoint['model_state_dict'])"
   ]
  },
  {
   "cell_type": "code",
   "execution_count": 124,
   "metadata": {},
   "outputs": [],
   "source": [
    "# Get some samples from test data\n",
    "test_dataloader  = DataLoader(dataset=testing_data, \n",
    "                              batch_size=10, \n",
    "                              shuffle=True,  \n",
    "                              collate_fn=collate_batch)\n",
    "example = next(iter(test_dataloader))"
   ]
  },
  {
   "cell_type": "code",
   "execution_count": 125,
   "metadata": {},
   "outputs": [],
   "source": [
    "# Get model predictions for the samples\n",
    "exOutput = model_enzh(example[0].to(device))"
   ]
  },
  {
   "cell_type": "code",
   "execution_count": 126,
   "metadata": {},
   "outputs": [],
   "source": [
    "# Get index from model predictions\n",
    "prob_ex = TF.softmax(exOutput, dim=1)\n",
    "index_ex = torch.argmax(prob_ex, dim=1)"
   ]
  },
  {
   "cell_type": "code",
   "execution_count": 127,
   "metadata": {},
   "outputs": [
    {
     "name": "stdout",
     "output_type": "stream",
     "text": [
      "metropolis & 鹿泉市 \n",
      "\n",
      "lake & 国模沟沟 \n",
      "\n",
      "chauvinism & 民族主义 \n",
      "\n",
      "peoples & 祖先 \n",
      "\n",
      "pharynx & 导管 \n",
      "\n",
      "streetlight & 路灯 \n",
      "\n",
      "scald & 初三日记大全 \n",
      "\n",
      "hemp & 硫磺 \n",
      "\n",
      "holland & 07-08 \n",
      "\n",
      "convalesce & 住进医院 \n",
      "\n"
     ]
    }
   ],
   "source": [
    "# Get corresponding English and Chinese words from the indeces\n",
    "for i, j in zip(example[0].tolist(), index_ex.tolist()):\n",
    "    print(\"{} & {} \\n\".format(vocab_en[i], vocab_zh[j]))"
   ]
  }
 ],
 "metadata": {
  "accelerator": "GPU",
  "colab": {
   "gpuType": "T4",
   "provenance": [
    {
     "file_id": "1SFdZb9BftV2HvcAL5CW1vkd61-mQIQFl",
     "timestamp": 1686164056228
    }
   ]
  },
  "kernelspec": {
   "display_name": "Python 3 (ipykernel)",
   "language": "python",
   "name": "python3"
  },
  "language_info": {
   "codemirror_mode": {
    "name": "ipython",
    "version": 3
   },
   "file_extension": ".py",
   "mimetype": "text/x-python",
   "name": "python",
   "nbconvert_exporter": "python",
   "pygments_lexer": "ipython3",
   "version": "3.9.5"
  }
 },
 "nbformat": 4,
 "nbformat_minor": 1
}
